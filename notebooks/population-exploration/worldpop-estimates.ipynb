{
 "cells": [
  {
   "cell_type": "markdown",
   "id": "794cdc40",
   "metadata": {},
   "source": [
    "### Workbook for extracting WorldPop population estimates for varying bridge catchment distances\n",
    "Week of May 12, 2025\n",
    "Author: Adele Birkenes"
   ]
  },
  {
   "cell_type": "code",
   "execution_count": 4,
   "id": "14e08526",
   "metadata": {},
   "outputs": [],
   "source": [
    "import pandas as pd\n",
    "import geopandas as gpd\n",
    "from shapely.geometry import Point, LineString, Polygon\n",
    "import rasterio\n",
    "from rasterio.mask import mask\n",
    "import os\n",
    "import numpy as np\n",
    "import matplotlib.pyplot as plt\n",
    "import folium\n",
    "from folium import GeoJson"
   ]
  },
  {
   "cell_type": "markdown",
   "id": "2b505fff",
   "metadata": {},
   "source": [
    "Task 1: Read in data on bridge sites, population (WorldPop), and village boundaries\n",
    "\n",
    "Note: The village boundaries are not used in this analysis, but they contain the custom Rwanda Transverse Mercator projection that will be copied over to the bridge sites and WorldPop data"
   ]
  },
  {
   "cell_type": "code",
   "execution_count": 5,
   "id": "47c8adf8",
   "metadata": {},
   "outputs": [],
   "source": [
    "synced_path = \"../../synced-data/population-exploration/\"\n",
    "unsynced_path = \"../../unsynced-data\"\n",
    "\n",
    "# Village boundaries (geodataframe)\n",
    "village_boundaries_fp = os.path.join(synced_path,\"Rwanda Village Boundaries/Village.shp\")\n",
    "Rwanda_village_boundaries = gpd.read_file(village_boundaries_fp)\n",
    "\n",
    "# Bridge sites (dataframe)\n",
    "bridge_sites_fp = os.path.join(synced_path, \"Rwanda Sites with All Population Fields_Exported 2025.04.11.csv\")\n",
    "bridge_sites = pd.read_csv(bridge_sites_fp, encoding='ISO-8859-1') # Note: This encoding accommodates special characters"
   ]
  },
  {
   "cell_type": "code",
   "execution_count": 6,
   "id": "34f5c99b",
   "metadata": {},
   "outputs": [
    {
     "name": "stdout",
     "output_type": "stream",
     "text": [
      "The CRS of the village boundaries gdf is: PROJCS[\"TM_Rwanda\",GEOGCS[\"ITRF2005\",DATUM[\"International_Terrestrial_Reference_Frame_2005\",SPHEROID[\"GRS 1980\",6378137,298.257222101,AUTHORITY[\"EPSG\",\"7019\"]],AUTHORITY[\"EPSG\",\"6896\"]],PRIMEM[\"Greenwich\",0],UNIT[\"Degree\",0.0174532925199433]],PROJECTION[\"Transverse_Mercator\"],PARAMETER[\"latitude_of_origin\",0],PARAMETER[\"central_meridian\",30],PARAMETER[\"scale_factor\",0.9999],PARAMETER[\"false_easting\",500000],PARAMETER[\"false_northing\",5000000],UNIT[\"metre\",1,AUTHORITY[\"EPSG\",\"9001\"]],AXIS[\"Easting\",EAST],AXIS[\"Northing\",NORTH]]\n",
      "The CRS of the bridges gdf is: PROJCS[\"TM_Rwanda\",GEOGCS[\"ITRF2005\",DATUM[\"International_Terrestrial_Reference_Frame_2005\",SPHEROID[\"GRS 1980\",6378137,298.257222101,AUTHORITY[\"EPSG\",\"7019\"]],AUTHORITY[\"EPSG\",\"6896\"]],PRIMEM[\"Greenwich\",0],UNIT[\"Degree\",0.0174532925199433]],PROJECTION[\"Transverse_Mercator\"],PARAMETER[\"latitude_of_origin\",0],PARAMETER[\"central_meridian\",30],PARAMETER[\"scale_factor\",0.9999],PARAMETER[\"false_easting\",500000],PARAMETER[\"false_northing\",5000000],UNIT[\"metre\",1,AUTHORITY[\"EPSG\",\"9001\"]],AXIS[\"Easting\",EAST],AXIS[\"Northing\",NORTH]]\n"
     ]
    }
   ],
   "source": [
    "# Convert bridge sites dataframe to geodataframe that has custom Rwanda TM CRS copied from village boundaries geodataframe\n",
    "def map_bridges(bridges, bridges_lat, bridges_lon, village_boundaries):\n",
    "\n",
    "    # Check CRS of village boundaries gdf\n",
    "    print(f'The CRS of the village boundaries gdf is: {village_boundaries.crs}')\n",
    "\n",
    "    # Create lat/lon variables\n",
    "    lon = bridges[bridges_lon]\n",
    "    lat = bridges[bridges_lat]\n",
    "\n",
    "    # Create gdf of bridges data by converting lat/lon values to list of Shapely Point objects\n",
    "    bridge_points = gpd.GeoDataFrame(bridges, geometry=gpd.points_from_xy(x=lon, y=lat), crs='EPSG:4326')\n",
    "\n",
    "    # Set CRS of bridges gdf to CRS of village boundaries gdf\n",
    "    bridge_points.to_crs(village_boundaries.crs, inplace=True)\n",
    "\n",
    "    # Check that reprojection was successful\n",
    "    print(f'The CRS of the bridges gdf is: {bridge_points.crs}')\n",
    "    \n",
    "    return bridge_points\n",
    "\n",
    "bridge_points = map_bridges(bridges = bridge_sites,\n",
    "                            bridges_lat = \"Bridge Opportunity: GPS (Latitude)\",\n",
    "                            bridges_lon = \"Bridge Opportunity: GPS (Longitude)\",\n",
    "                            village_boundaries = Rwanda_village_boundaries)"
   ]
  },
  {
   "cell_type": "code",
   "execution_count": 7,
   "id": "adb843ac",
   "metadata": {},
   "outputs": [
    {
     "name": "stdout",
     "output_type": "stream",
     "text": [
      "PROJCS[\"TM_Rwanda\",GEOGCS[\"ITRF2005\",DATUM[\"International_Terrestrial_Reference_Frame_2005\",SPHEROID[\"GRS 1980\",6378137,298.257222101,AUTHORITY[\"EPSG\",\"7019\"]],AUTHORITY[\"EPSG\",\"6896\"]],PRIMEM[\"Greenwich\",0],UNIT[\"degree\",0.0174532925199433,AUTHORITY[\"EPSG\",\"9122\"]]],PROJECTION[\"Transverse_Mercator\"],PARAMETER[\"latitude_of_origin\",0],PARAMETER[\"central_meridian\",30],PARAMETER[\"scale_factor\",0.9999],PARAMETER[\"false_easting\",500000],PARAMETER[\"false_northing\",5000000],UNIT[\"metre\",1,AUTHORITY[\"EPSG\",\"9001\"]],AXIS[\"Easting\",EAST],AXIS[\"Northing\",NORTH]]\n"
     ]
    }
   ],
   "source": [
    "# WorldPop raster\n",
    "# Note: This was pre-projected to the Rwanda TM CRS\n",
    "\n",
    "# Specify file path for Worldpop raster\n",
    "worldpop_fp = os.path.join(unsynced_path, \"reprojected_population_raster.tif\")\n",
    "\n",
    "# Print CRS of raster\n",
    "with rasterio.open(worldpop_fp) as src:\n",
    "    print(src.crs)"
   ]
  },
  {
   "cell_type": "markdown",
   "id": "b8062337",
   "metadata": {},
   "source": [
    "Task 2: Create 1 km, 1.5 km, and 2 km buffers around each bridge site"
   ]
  },
  {
   "cell_type": "code",
   "execution_count": 8,
   "id": "467d7632",
   "metadata": {},
   "outputs": [],
   "source": [
    "def create_bridge_buffers(bridges, buffer_distance):\n",
    "\n",
    "    # Create buffers around bridges according to user's distance input\n",
    "    buf = bridges.geometry.buffer(distance=buffer_distance)\n",
    "\n",
    "    # Add bridges point attribute information to buffers\n",
    "    bridge_buffers = bridge_points.copy()\n",
    "    bridge_buffers['geometry'] = buf\n",
    "\n",
    "    return bridge_buffers\n",
    "\n",
    "bridge_buffers_1km = create_bridge_buffers(bridges = bridge_points, buffer_distance = 1000)\n",
    "bridge_buffers_1_5km = create_bridge_buffers(bridges = bridge_points, buffer_distance = 1500)\n",
    "bridge_buffers_2km = create_bridge_buffers(bridges = bridge_points, buffer_distance = 2000)"
   ]
  },
  {
   "cell_type": "code",
   "execution_count": 9,
   "id": "62a109ae",
   "metadata": {},
   "outputs": [
    {
     "data": {
      "text/plain": [
       "<folium.map.LayerControl at 0x1307e8c20>"
      ]
     },
     "execution_count": 9,
     "metadata": {},
     "output_type": "execute_result"
    }
   ],
   "source": [
    "# Create a base map\n",
    "buffer_map = folium.Map(location=[-2.0, 30.0], zoom_start=8)\n",
    "\n",
    "# Map bridge points and buffers\n",
    "GeoJson(bridge_buffers_1km, name=\"1 km Buffers\").add_to(buffer_map)\n",
    "GeoJson(bridge_buffers_1_5km, name=\"1.5 km Buffers\").add_to(buffer_map)\n",
    "GeoJson(bridge_buffers_2km, name=\"2 km Buffers\").add_to(buffer_map)\n",
    "\n",
    "# Add layer control to toggle between layers\n",
    "folium.LayerControl().add_to(buffer_map)\n",
    "\n",
    "# Display the map\n",
    "#buffer_map"
   ]
  },
  {
   "cell_type": "markdown",
   "id": "e62780bb",
   "metadata": {},
   "source": [
    "Task 3: Extract population estimates from WorldPop raster for each buffer"
   ]
  },
  {
   "cell_type": "code",
   "execution_count": 7,
   "id": "97907d56",
   "metadata": {},
   "outputs": [
    {
     "name": "stdout",
     "output_type": "stream",
     "text": [
      "CRS: PROJCS[\"TM_Rwanda\",GEOGCS[\"ITRF2005\",DATUM[\"International_Terrestrial_Reference_Frame_2005\",SPHEROID[\"GRS 1980\",6378137,298.257222101,AUTHORITY[\"EPSG\",\"7019\"]],AUTHORITY[\"EPSG\",\"6896\"]],PRIMEM[\"Greenwich\",0],UNIT[\"degree\",0.0174532925199433,AUTHORITY[\"EPSG\",\"9122\"]]],PROJECTION[\"Transverse_Mercator\"],PARAMETER[\"latitude_of_origin\",0],PARAMETER[\"central_meridian\",30],PARAMETER[\"scale_factor\",0.9999],PARAMETER[\"false_easting\",500000],PARAMETER[\"false_northing\",5000000],UNIT[\"metre\",1,AUTHORITY[\"EPSG\",\"9001\"]],AXIS[\"Easting\",EAST],AXIS[\"Northing\",NORTH]]\n",
      "Raster shape: (2145, 2455)\n",
      "Number of Bands: 1\n",
      "Error at village 173: Input shapes do not overlap raster.\n",
      "Error at village 197: Input shapes do not overlap raster.\n",
      "Error at village 198: Input shapes do not overlap raster.\n",
      "Error at village 459: tuple index out of range\n",
      "Error at village 542: tuple index out of range\n",
      "Error at village 548: Input shapes do not overlap raster.\n",
      "Error at village 596: Input shapes do not overlap raster.\n",
      "Error at village 733: tuple index out of range\n",
      "Error at village 734: tuple index out of range\n",
      "Error at village 735: tuple index out of range\n",
      "Error at village 736: tuple index out of range\n",
      "Error at village 920: Input shapes do not overlap raster.\n",
      "Error at village 921: Input shapes do not overlap raster.\n",
      "Error at village 923: tuple index out of range\n",
      "Error at village 927: Input shapes do not overlap raster.\n",
      "Error at village 928: Input shapes do not overlap raster.\n",
      "Error at village 1076: Input shapes do not overlap raster.\n",
      "Error at village 1077: tuple index out of range\n",
      "Error at village 1095: Input shapes do not overlap raster.\n",
      "Error at village 1258: Input shapes do not overlap raster.\n",
      "Error at village 1259: Input shapes do not overlap raster.\n",
      "Error at village 1274: tuple index out of range\n",
      "Error at village 1325: Input shapes do not overlap raster.\n",
      "Error at village 1370: tuple index out of range\n",
      "Error at village 1397: Input shapes do not overlap raster.\n",
      "Error at village 1400: Input shapes do not overlap raster.\n",
      "Error at village 1401: Input shapes do not overlap raster.\n",
      "Error at village 1645: tuple index out of range\n",
      "CRS: PROJCS[\"TM_Rwanda\",GEOGCS[\"ITRF2005\",DATUM[\"International_Terrestrial_Reference_Frame_2005\",SPHEROID[\"GRS 1980\",6378137,298.257222101,AUTHORITY[\"EPSG\",\"7019\"]],AUTHORITY[\"EPSG\",\"6896\"]],PRIMEM[\"Greenwich\",0],UNIT[\"degree\",0.0174532925199433,AUTHORITY[\"EPSG\",\"9122\"]]],PROJECTION[\"Transverse_Mercator\"],PARAMETER[\"latitude_of_origin\",0],PARAMETER[\"central_meridian\",30],PARAMETER[\"scale_factor\",0.9999],PARAMETER[\"false_easting\",500000],PARAMETER[\"false_northing\",5000000],UNIT[\"metre\",1,AUTHORITY[\"EPSG\",\"9001\"]],AXIS[\"Easting\",EAST],AXIS[\"Northing\",NORTH]]\n",
      "Raster shape: (2145, 2455)\n",
      "Number of Bands: 1\n",
      "Error at village 173: Input shapes do not overlap raster.\n",
      "Error at village 197: Input shapes do not overlap raster.\n",
      "Error at village 198: Input shapes do not overlap raster.\n",
      "Error at village 459: tuple index out of range\n",
      "Error at village 542: tuple index out of range\n",
      "Error at village 548: Input shapes do not overlap raster.\n",
      "Error at village 596: Input shapes do not overlap raster.\n",
      "Error at village 733: tuple index out of range\n",
      "Error at village 734: tuple index out of range\n",
      "Error at village 735: tuple index out of range\n",
      "Error at village 736: tuple index out of range\n",
      "Error at village 920: Input shapes do not overlap raster.\n",
      "Error at village 921: Input shapes do not overlap raster.\n",
      "Error at village 923: tuple index out of range\n",
      "Error at village 927: Input shapes do not overlap raster.\n",
      "Error at village 928: Input shapes do not overlap raster.\n",
      "Error at village 1076: Input shapes do not overlap raster.\n",
      "Error at village 1077: tuple index out of range\n",
      "Error at village 1095: Input shapes do not overlap raster.\n",
      "Error at village 1258: Input shapes do not overlap raster.\n",
      "Error at village 1259: Input shapes do not overlap raster.\n",
      "Error at village 1274: tuple index out of range\n",
      "Error at village 1325: Input shapes do not overlap raster.\n",
      "Error at village 1370: tuple index out of range\n",
      "Error at village 1397: Input shapes do not overlap raster.\n",
      "Error at village 1400: Input shapes do not overlap raster.\n",
      "Error at village 1401: Input shapes do not overlap raster.\n",
      "Error at village 1645: tuple index out of range\n",
      "CRS: PROJCS[\"TM_Rwanda\",GEOGCS[\"ITRF2005\",DATUM[\"International_Terrestrial_Reference_Frame_2005\",SPHEROID[\"GRS 1980\",6378137,298.257222101,AUTHORITY[\"EPSG\",\"7019\"]],AUTHORITY[\"EPSG\",\"6896\"]],PRIMEM[\"Greenwich\",0],UNIT[\"degree\",0.0174532925199433,AUTHORITY[\"EPSG\",\"9122\"]]],PROJECTION[\"Transverse_Mercator\"],PARAMETER[\"latitude_of_origin\",0],PARAMETER[\"central_meridian\",30],PARAMETER[\"scale_factor\",0.9999],PARAMETER[\"false_easting\",500000],PARAMETER[\"false_northing\",5000000],UNIT[\"metre\",1,AUTHORITY[\"EPSG\",\"9001\"]],AXIS[\"Easting\",EAST],AXIS[\"Northing\",NORTH]]\n",
      "Raster shape: (2145, 2455)\n",
      "Number of Bands: 1\n",
      "Error at village 173: Input shapes do not overlap raster.\n",
      "Error at village 197: Input shapes do not overlap raster.\n",
      "Error at village 198: Input shapes do not overlap raster.\n",
      "Error at village 459: tuple index out of range\n",
      "Error at village 542: tuple index out of range\n",
      "Error at village 548: Input shapes do not overlap raster.\n",
      "Error at village 596: Input shapes do not overlap raster.\n",
      "Error at village 733: tuple index out of range\n",
      "Error at village 734: tuple index out of range\n",
      "Error at village 735: tuple index out of range\n",
      "Error at village 736: tuple index out of range\n",
      "Error at village 920: Input shapes do not overlap raster.\n",
      "Error at village 921: Input shapes do not overlap raster.\n",
      "Error at village 923: tuple index out of range\n",
      "Error at village 927: Input shapes do not overlap raster.\n",
      "Error at village 928: Input shapes do not overlap raster.\n",
      "Error at village 1076: Input shapes do not overlap raster.\n",
      "Error at village 1077: tuple index out of range\n",
      "Error at village 1095: Input shapes do not overlap raster.\n",
      "Error at village 1258: Input shapes do not overlap raster.\n",
      "Error at village 1259: Input shapes do not overlap raster.\n",
      "Error at village 1274: tuple index out of range\n",
      "Error at village 1325: Input shapes do not overlap raster.\n",
      "Error at village 1370: tuple index out of range\n",
      "Error at village 1397: Input shapes do not overlap raster.\n",
      "Error at village 1400: Input shapes do not overlap raster.\n",
      "Error at village 1401: Input shapes do not overlap raster.\n",
      "Error at village 1645: tuple index out of range\n"
     ]
    }
   ],
   "source": [
    "def extract_pop(reprojected_pop_raster, population_raster_name, villages_near_bridges):\n",
    "    \n",
    "    # Copy input geodataframe to avoid modifying the original\n",
    "    villages_copy = villages_near_bridges.copy()\n",
    "    \n",
    "    with rasterio.open(reprojected_pop_raster) as src:\n",
    "        # Print information from raster profile\n",
    "        print(\"CRS:\", src.crs)\n",
    "        print(\"Raster shape:\", src.shape)\n",
    "        print(\"Number of Bands:\", src.count)\n",
    "\n",
    "        # Iterate over each village and extract population data\n",
    "        results = []\n",
    "        for idx, row in villages_copy.iterrows():\n",
    "            try:\n",
    "                out_image = mask(src, [row.geometry], crop=True)\n",
    "                out_image = out_image[0]\n",
    "\n",
    "                # Handle masked arrays and replace with 0\n",
    "                if np.ma.is_masked(out_image):\n",
    "                    out_image = out_image.filled(0)\n",
    "\n",
    "                # Remove negative values (e.g., nodata placeholders)\n",
    "                out_image = np.where(out_image < 0, 0, out_image)\n",
    "\n",
    "                total_population = np.sum(out_image)\n",
    "\n",
    "            except Exception as e:\n",
    "                print(f\"Error at village {idx}: {e}\")\n",
    "                total_population = 0  # or np.nan\n",
    "\n",
    "            results.append(total_population)\n",
    "\n",
    "        # Add population data to the gdf\n",
    "        villages_copy[population_raster_name] = results\n",
    "\n",
    "    return villages_copy\n",
    "\n",
    "pop_estimates_1km = extract_pop(reprojected_pop_raster = worldpop_fp,\n",
    "                                population_raster_name = \"WorldPop_1km\",\n",
    "                                villages_near_bridges = bridge_buffers_1km)\n",
    "\n",
    "pop_estimates_1_5km = extract_pop(reprojected_pop_raster = worldpop_fp,\n",
    "                                  population_raster_name = \"WorldPop_1_5km\",\n",
    "                                  villages_near_bridges = bridge_buffers_1_5km)\n",
    "\n",
    "pop_estimates_2km = extract_pop(reprojected_pop_raster = worldpop_fp,\n",
    "                                population_raster_name = \"WorldPop_2km\",\n",
    "                                villages_near_bridges = bridge_buffers_2km)"
   ]
  },
  {
   "cell_type": "code",
   "execution_count": 8,
   "id": "b534d391",
   "metadata": {},
   "outputs": [],
   "source": [
    "# Combine population estimates into a single geodataframe\n",
    "pop_estimates_combined = bridge_points.copy()\n",
    "\n",
    "# Add population estimates from each buffer to the combined geodataframe\n",
    "# Note: The merge is done on the index, which is the same for all geodataframes\n",
    "pop_estimates_combined = pop_estimates_combined.merge(\n",
    "    pop_estimates_1km[['WorldPop_1km']], left_index=True, right_index=True\n",
    ").merge(\n",
    "    pop_estimates_1_5km[['WorldPop_1_5km']], left_index=True, right_index=True\n",
    ").merge(\n",
    "    pop_estimates_2km[['WorldPop_2km']], left_index=True, right_index=True\n",
    ")"
   ]
  },
  {
   "cell_type": "code",
   "execution_count": null,
   "id": "46331832",
   "metadata": {},
   "outputs": [],
   "source": [
    "# Update the population estimates to replace 0 with NaN\n",
    "# Note: The zeroes are because a number of villages are outside of Rwanda (the raster extent)\n",
    "pop_estimates_combined['WorldPop_1km'] = pop_estimates_combined['WorldPop_1km'].replace(0, np.nan)"
   ]
  },
  {
   "cell_type": "markdown",
   "id": "803a87e9",
   "metadata": {},
   "source": [
    "Task 4: Calculate summary statistics"
   ]
  },
  {
   "cell_type": "code",
   "execution_count": 12,
   "id": "19342c2b",
   "metadata": {},
   "outputs": [
    {
     "name": "stdout",
     "output_type": "stream",
     "text": [
      "The mean of WorldPop_1km is: 2912.153118543557\n",
      "The mean of WorldPop_1_5km is: 6404.318211353873\n",
      "The mean of WorldPop_2km is: 11152.916791902302\n",
      "The mean of Bridge Opportunity: Population Estimate 2000m is: 9809.981109123435\n"
     ]
    },
    {
     "data": {
      "text/plain": [
       "np.float64(9809.981109123435)"
      ]
     },
     "execution_count": 12,
     "metadata": {},
     "output_type": "execute_result"
    }
   ],
   "source": [
    "# Calculate mean population for each distance radius\n",
    "def mean_pop(pop_estimates_combined, pop_column):\n",
    "    mean_value = pop_estimates_combined[pop_column].mean()\n",
    "    print(f\"The mean of {pop_column} is: {mean_value}\")\n",
    "    return mean_value\n",
    "\n",
    "mean_pop(pop_estimates_combined, 'WorldPop_1km')\n",
    "mean_pop(pop_estimates_combined, 'WorldPop_1_5km')\n",
    "mean_pop(pop_estimates_combined, 'WorldPop_2km')\n",
    "mean_pop(pop_estimates_combined, \"Bridge Opportunity: Population Estimate 2000m\")"
   ]
  },
  {
   "cell_type": "code",
   "execution_count": 13,
   "id": "4c6cf916",
   "metadata": {},
   "outputs": [
    {
     "name": "stdout",
     "output_type": "stream",
     "text": [
      "Mean population for sites with research initiatives:\n",
      "The mean of WorldPop_1km is: 2517.9408670127937\n",
      "The mean of WorldPop_1_5km is: 5631.875188145069\n",
      "The mean of WorldPop_2km is: 9768.744812571675\n",
      "The mean of Bridge Opportunity: Population Estimate 2000m is: 7091.874036697248\n"
     ]
    },
    {
     "data": {
      "text/plain": [
       "np.float64(7091.874036697248)"
      ]
     },
     "execution_count": 13,
     "metadata": {},
     "output_type": "execute_result"
    }
   ],
   "source": [
    "# Calculate mean population for sites with value \"Rwanda Full Scale Research - Randomized but Not Baselined\"\n",
    "# OR \"Rwanda Full Scale Research - Randomized and Baselined - Long Term Control\" in the Research Initiative field\n",
    "print(\"Mean population for sites with research initiatives:\")\n",
    "\n",
    "# Define research values of interest\n",
    "research_values = [\"Rwanda Full Scale Research - Randomized but Not Baselined\",\n",
    "                   \"Rwanda Full Scale Research - Randomized and Baselined - Long Term Control\"]\n",
    "\n",
    "# Calculate mean population for the defined research values\n",
    "mean_pop(\n",
    "    pop_estimates_combined[\n",
    "        pop_estimates_combined['Bridge Opportunity: Research Initiative'].isin(research_values)\n",
    "    ], \"WorldPop_1km\"\n",
    ")\n",
    "\n",
    "mean_pop(\n",
    "    pop_estimates_combined[\n",
    "        pop_estimates_combined['Bridge Opportunity: Research Initiative'].isin(research_values)\n",
    "    ], \"WorldPop_1_5km\"\n",
    ")\n",
    "\n",
    "mean_pop(\n",
    "    pop_estimates_combined[\n",
    "        pop_estimates_combined['Bridge Opportunity: Research Initiative'].isin(research_values)\n",
    "    ], \"WorldPop_2km\"\n",
    ")\n",
    "\n",
    "mean_pop(\n",
    "    pop_estimates_combined[\n",
    "        pop_estimates_combined['Bridge Opportunity: Research Initiative'].isin(research_values)\n",
    "    ], \"Bridge Opportunity: Population Estimate 2000m\"\n",
    ")"
   ]
  }
 ],
 "metadata": {
  "kernelspec": {
   "display_name": "bridges",
   "language": "python",
   "name": "python3"
  },
  "language_info": {
   "codemirror_mode": {
    "name": "ipython",
    "version": 3
   },
   "file_extension": ".py",
   "mimetype": "text/x-python",
   "name": "python",
   "nbconvert_exporter": "python",
   "pygments_lexer": "ipython3",
   "version": "3.13.2"
  }
 },
 "nbformat": 4,
 "nbformat_minor": 5
}
