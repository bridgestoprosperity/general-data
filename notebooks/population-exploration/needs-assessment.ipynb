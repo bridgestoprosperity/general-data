{
 "cells": [
  {
   "cell_type": "markdown",
   "id": "6efbbdc5",
   "metadata": {},
   "source": [
    "### Workbook for processing B2P's Rwanda needs assessment population data\n",
    "Weeks of April 21 & 28, 2025 |\n",
    "Author: Adele Birkenes"
   ]
  },
  {
   "cell_type": "code",
   "execution_count": null,
   "id": "d627a4fc",
   "metadata": {},
   "outputs": [],
   "source": [
    "import pandas as pd\n",
    "import geopandas as gpd\n",
    "from shapely.geometry import Point, LineString, Polygon\n",
    "import rasterio\n",
    "import os\n",
    "import numpy as np"
   ]
  },
  {
   "cell_type": "markdown",
   "id": "83699497",
   "metadata": {},
   "source": [
    "Task 1: Read in needs assessment data as dataframe and Rwanda village boundaries as geodataframe"
   ]
  },
  {
   "cell_type": "code",
   "execution_count": null,
   "id": "9cbb336a",
   "metadata": {},
   "outputs": [],
   "source": [
    "# Specify file path for needs assessment data\n",
    "needs_assessment_fp = os.path.join(\"../../synced-data/population-exploration/\", \"Rwanda Sites with All Population Fields_Exported 2025.04.11.csv\")\n",
    "\n",
    "# Read the .csv file into a dataframe with an encoding that accommodates special characters\n",
    "needs_assessment = pd.read_csv(needs_assessment_fp, encoding='ISO-8859-1')\n",
    "\n",
    "# Print first 3 rows of needs assessment data\n",
    "print(needs_assessment.head(3))"
   ]
  },
  {
   "cell_type": "code",
   "execution_count": null,
   "id": "32fd28f7",
   "metadata": {},
   "outputs": [],
   "source": [
    "# Specify file path for Rwanda village boundaries\n",
    "Rwanda_village_boundaries_fp = os.path.join(\"../../synced-data/population-exploration/Rwanda Village Boundaries\", \"Village.shp\")\n",
    "\n",
    "# Read the shapefile into a geodataframe\n",
    "Rwanda_village_boundaries = gpd.read_file(Rwanda_village_boundaries_fp)\n",
    "\n",
    "# Print CRS of geodataframe\n",
    "print(f'The CRS of Rwanda_village_boundaries is {Rwanda_village_boundaries.crs}\\n')\n",
    "\n",
    "# Print first 3 rows of village boundaries data\n",
    "print(Rwanda_village_boundaries.head(3))"
   ]
  },
  {
   "cell_type": "markdown",
   "id": "36669f7a",
   "metadata": {},
   "source": [
    "Task 2: Filter bridges to those that have been completed and create new fields to list the villages associated with each bridge and their summed population counts (according to the needs assessments)"
   ]
  },
  {
   "cell_type": "code",
   "execution_count": null,
   "id": "9128ff3d",
   "metadata": {},
   "outputs": [],
   "source": [
    "# Filter bridges to those that have been completed\n",
    "completed_bridges = needs_assessment[needs_assessment['Bridge Opportunity: Stage'] == 'Complete'].copy()\n",
    "\n",
    "# Combine village names from ten columns into one list per bridge\n",
    "village_columns = ['Community Served 1', 'Community Served 2', 'Community Served 3', \n",
    "                   'Community Served 4', 'Community Served 5', 'Community Served 6',\n",
    "                   'Community Served 7', 'Community Served 8', 'Community Served 9',\n",
    "                   'Community Served 10']\n",
    "completed_bridges['Village List'] = completed_bridges[village_columns].apply(lambda row: [village for village in row if pd.notna(village)], axis=1)\n",
    "\n",
    "# Sum population counts for all villages served by each bridge\n",
    "population_columns = ['Individuals served in Community 1', 'Individuals served in Community 2',\n",
    "                      'Individuals served in Community 3', 'Individuals served in Community 4',\n",
    "                      'Individuals served in Community 5', 'Individuals Served in Community 6',\n",
    "                      'Individuals Served in Community 7', 'Individuals Served in Community 8',\n",
    "                      'Individuals Served in Community 9', 'Community Served 10'] #note that there are three different ways that these columns are named\n",
    "\n",
    "# Ensure all population columns are numeric\n",
    "completed_bridges[population_columns] = completed_bridges[population_columns].apply(pd.to_numeric, errors='coerce')\n",
    "\n",
    "# Sum population counts for all villages served by each bridge\n",
    "completed_bridges['Total Needs Assessment Pop'] = completed_bridges[population_columns].sum(axis=1)\n",
    "\n",
    "# Display the results\n",
    "print(completed_bridges[['Village List', 'Total Needs Assessment Pop']].head())\n",
    "\n",
    "# Double-check summing - Display rows where the total sum does not match the sum of the ten population columns\n",
    "mismatched_rows = completed_bridges[completed_bridges['Total Needs Assessment Pop'] != completed_bridges[population_columns].sum(axis=1)]\n",
    "print(f'\\nMismatched rows: {mismatched_rows}')"
   ]
  },
  {
   "cell_type": "markdown",
   "id": "5010cee9",
   "metadata": {},
   "source": [
    "Task 3: Create dataframe of communities included in needs assessments, where each row is a community (admin 5) and contains the community's associated population"
   ]
  },
  {
   "cell_type": "code",
   "execution_count": null,
   "id": "1ccfbf1a",
   "metadata": {},
   "outputs": [],
   "source": [
    "# Add unique identifier to each row in needs assessment dataframe to allow for matching of communities and their population counts\n",
    "# Note: Cannot use CaseSafeID, as some CaseSafeIDs correspond to multiple rows in dataset\n",
    "needs_assessment['Row ID'] = needs_assessment.index\n",
    "\n",
    "# Select community columns\n",
    "community_columns = ['Community Served 1', 'Community Served 2', 'Community Served 3', \n",
    "                     'Community Served 4', 'Community Served 5', 'Community Served 6',\n",
    "                     'Community Served 7', 'Community Served 8', 'Community Served 9',\n",
    "                     'Community Served 10']\n",
    "\n",
    "# Melt the needs assessment dataframe to create a long format table, where each row corresponds to a community served by a bridge\n",
    "communities_served = needs_assessment.melt(\n",
    "    id_vars=needs_assessment.columns[:21].tolist() + ['Row ID'],  # Preserve all fields up to \"Bridge Opportunity: Population Estimate 5000m\" and include \"Row ID\"\n",
    "    value_vars=community_columns, \n",
    "    var_name='Community Column', \n",
    "    value_name='Community Name')\n",
    "\n",
    "# Display the first few rows of the melted dataframe\n",
    "print(communities_served.head())\n",
    "\n",
    "# Select individuals served count columns\n",
    "individuals_served_columns = ['Individuals served in Community 1', 'Individuals served in Community 2', \n",
    "                              'Individuals served in Community 3', 'Individuals served in Community 4', \n",
    "                              'Individuals served in Community 5', 'Individuals Served in Community 6',\n",
    "                              'Individuals Served in Community 7', 'Individuals Served in Community 8',\n",
    "                              'Individuals Served in Community 9', 'Community Served 10'] #note that there are three different ways that these columns are named\n",
    "\n",
    "# Create a separate melted dataframe for individuals served counts\n",
    "individuals_served = needs_assessment.melt(\n",
    "    id_vars=['Bridge Opportunity: CaseSafeID', 'Row ID'],\n",
    "    value_vars=individuals_served_columns,\n",
    "    var_name='Individuals Served Column',\n",
    "    value_name='Individuals Served')\n",
    "\n",
    "# Display the first few rows of the melted individuals served dataframe\n",
    "print(individuals_served.head())"
   ]
  },
  {
   "cell_type": "code",
   "execution_count": null,
   "id": "b119f380",
   "metadata": {},
   "outputs": [],
   "source": [
    "# Create new columns for community number in both dataframes (extracting the numbers from the dataframes' respective community columns)\n",
    "communities_served['Community Number'] = communities_served['Community Column'].str.extract(r'(\\d+)').astype(str)\n",
    "individuals_served['Community Number'] = individuals_served['Individuals Served Column'].str.extract(r'(\\d+)').astype(str)\n",
    "\n",
    "# Merge the two dataframes on row ID and community number\n",
    "communities_served = communities_served.merge(\n",
    "    individuals_served,\n",
    "    on=['Row ID', 'Community Number'],\n",
    "    how='left')\n",
    "\n",
    "# Drop rows where 'Community Name' is NaN\n",
    "communities_served = communities_served.dropna(subset=['Community Name'])\n",
    "\n",
    "# Display the resulting table\n",
    "print(communities_served.head())"
   ]
  },
  {
   "cell_type": "markdown",
   "id": "41cab5db",
   "metadata": {},
   "source": [
    "Task 4: Join needs assessment communities with Rwanda admin boundaries (aka \"village boundaries\")\n",
    "\n",
    "| Admin level | Name in needs assessment                  | Name in admin boundaries |\n",
    "|-------------|-------------------------------------------|--------------------------|\n",
    "| 5           | Community Name                         | Name                     |\n",
    "| 4           | Bridge Opportunity: Level 4 Government | Cell                   |\n",
    "| 3           | Bridge Opportunity: Level 3 Government | Sector                 |\n",
    "| 2           | Bridge Opportunity: Level 2 Government | District               |\n",
    "| 1           | Bridge Opportunity: Level 1 Government | Province               |"
   ]
  },
  {
   "cell_type": "code",
   "execution_count": null,
   "id": "7184beaa",
   "metadata": {},
   "outputs": [],
   "source": [
    "# Create copies of the communities served dataframe and village boundaries geodataframe\n",
    "communities_served_copy = communities_served.copy()\n",
    "village_boundaries_copy = Rwanda_village_boundaries.copy()\n",
    "\n",
    "# Rename columns in village boundaries geodataframe\n",
    "village_boundaries_copy = village_boundaries_copy.rename(columns={'Name': 'Admin 5',\n",
    "                                                                  'Cell': 'Admin 4',\n",
    "                                                                  'Sector': 'Admin 3',\n",
    "                                                                  'District': 'Admin 2',\n",
    "                                                                  'Province': 'Admin 1' })\n",
    "\n",
    "# Rename columns in communities served dataframe\n",
    "communities_served_copy = communities_served_copy.rename(columns={'Community Name': 'Admin 5',\n",
    "                                                                  'Bridge Opportunity: Level 4 Government': 'Admin 4',\n",
    "                                                                  'Bridge Opportunity: Level 3 Government': 'Admin 3',\n",
    "                                                                  'Bridge Opportunity: Level 2 Government': 'Admin 2',\n",
    "                                                                  'Bridge Opportunity: Level 1 Government': 'Admin 1'})"
   ]
  },
  {
   "cell_type": "markdown",
   "id": "fa5b73d9",
   "metadata": {},
   "source": [
    "Combo 1: Joining on admin 3-5"
   ]
  },
  {
   "cell_type": "code",
   "execution_count": null,
   "id": "7df4862d",
   "metadata": {},
   "outputs": [],
   "source": [
    "# Perform a join on admin 3-5\n",
    "join_combo_1 = village_boundaries_copy.merge(communities_served_copy, \n",
    "                                             on=['Admin 3', 'Admin 4', 'Admin 5'],\n",
    "                                             how='left')\n",
    "\n",
    "# Identify rows in the communities served dataframe that were not matched in the join\n",
    "unmatched_communities_combo_1 = communities_served_copy[~communities_served_copy['Admin 3'].isin(join_combo_1['Admin 3']) | \n",
    "                                                        ~communities_served_copy['Admin 4'].isin(join_combo_1['Admin 4']) | \n",
    "                                                        ~communities_served_copy['Admin 5'].isin(join_combo_1['Admin 5'])]\n",
    "\n",
    "# Print number of matched & unmatched communities\n",
    "print(f'Number of matched communities:\\n{join_combo_1.shape[0]}')\n",
    "print(f'Number of unmatched communities:\\n{unmatched_communities_combo_1.shape[0]}')"
   ]
  },
  {
   "cell_type": "markdown",
   "id": "97b565a7",
   "metadata": {},
   "source": [
    "Combo 2: Joining on admin 3, 5"
   ]
  },
  {
   "cell_type": "code",
   "execution_count": null,
   "id": "0f7457ba",
   "metadata": {},
   "outputs": [],
   "source": [
    "# Perform a join on admin 3, 5\n",
    "join_combo_2 = village_boundaries_copy.merge(communities_served_copy, \n",
    "                                             on=['Admin 3', 'Admin 5'],\n",
    "                                             how='left')\n",
    "\n",
    "# Identify rows in the communities served dataframe that were not matched in the join\n",
    "unmatched_communities_combo_2 = communities_served_copy[~communities_served_copy['Admin 3'].isin(join_combo_2['Admin 3']) | \n",
    "                                                        ~communities_served_copy['Admin 5'].isin(join_combo_2['Admin 5'])]\n",
    "\n",
    "# Print number of matched & unmatched communities\n",
    "print(f'Number of matched communities:\\n{join_combo_2.shape[0]}')\n",
    "print(f'Number of unmatched communities:\\n{unmatched_communities_combo_2.shape[0]}')"
   ]
  },
  {
   "cell_type": "markdown",
   "id": "ce27c98a",
   "metadata": {},
   "source": [
    "Combo 3: Joining on admin 2-3, 5"
   ]
  },
  {
   "cell_type": "code",
   "execution_count": null,
   "id": "6daaee79",
   "metadata": {},
   "outputs": [],
   "source": [
    "# Perform a join on admin 3, 5\n",
    "join_combo_3 = village_boundaries_copy.merge(communities_served_copy, \n",
    "                                             on=['Admin 2', 'Admin 3', 'Admin 5'],\n",
    "                                             how='left')\n",
    "\n",
    "# Identify rows in the communities served dataframe that were not matched in the join\n",
    "unmatched_communities_combo_3 = communities_served_copy[~communities_served_copy['Admin 2'].isin(join_combo_3['Admin 2']) |\n",
    "                                                        ~communities_served_copy['Admin 3'].isin(join_combo_3['Admin 3']) | \n",
    "                                                        ~communities_served_copy['Admin 5'].isin(join_combo_3['Admin 5'])]\n",
    "\n",
    "# Print number of matched & unmatched communities\n",
    "print(f'Number of matched communities:\\n{join_combo_3.shape[0]}')\n",
    "print(f'Number of unmatched communities:\\n{unmatched_communities_combo_3.shape[0]}')"
   ]
  },
  {
   "cell_type": "markdown",
   "id": "2f7e4d25",
   "metadata": {},
   "source": [
    "Task 5: Explore results of the joins and identify unmatched communities\n",
    "\n",
    "Based on these three join combinations, joining on admin 3 & 5 and on admin 2-3 & 5 yields the highest number of matched communities. In both cases, the unmatched community count is 2475. Therefore, the next step is to identify the unmatched communities and determine if they can be matched to the admin boundaries.\n",
    "\n",
    "Going forward, we will use combo #3 since it includes the highest admin level included in the join combos (admin 2) and thus ensures greater accuracy in matching communities."
   ]
  },
  {
   "cell_type": "code",
   "execution_count": null,
   "id": "889cab18",
   "metadata": {},
   "outputs": [],
   "source": [
    "# Check for admin 2 mismatches in the unmatched communities from combo 3\n",
    "admin_2_mismatches = unmatched_communities_combo_3[\n",
    "    ~unmatched_communities_combo_3['Admin 2'].isin(village_boundaries_copy['Admin 2'])\n",
    "]\n",
    "print(f\"Number of Admin 2 mismatches: {len(admin_2_mismatches)}\")\n",
    "\n",
    "# Check for admin 3 mismatches in the unmatched communities from combo 3\n",
    "admin_3_mismatches = unmatched_communities_combo_3[\n",
    "    ~unmatched_communities_combo_3['Admin 3'].isin(village_boundaries_copy['Admin 3'])\n",
    "]\n",
    "print(f\"Number of Admin 3 mismatches: {len(admin_3_mismatches)}\")\n",
    "\n",
    "# Check for admin 5 mismatches in the unmatched communities from combo 3\n",
    "admin_5_mismatches = unmatched_communities_combo_3[\n",
    "    ~unmatched_communities_combo_3['Admin 5'].isin(village_boundaries_copy['Admin 5'])\n",
    "]\n",
    "print(f\"Number of Admin 5 mismatches: {len(admin_5_mismatches)}\")"
   ]
  },
  {
   "cell_type": "code",
   "execution_count": null,
   "id": "6bb092bf",
   "metadata": {},
   "outputs": [],
   "source": [
    "# Check whether the admin 5 names in the needs assessment data actually match with the admin 3 names in the admin boundaries data\n",
    "admin_5_to_3_matching = admin_5_mismatches[admin_5_mismatches['Admin 5'].isin(village_boundaries_copy['Admin 3'])]\n",
    "\n",
    "print(f\"Number of Admin 5 names that match Admin 3 names: {len(admin_5_to_3_matching)}\")\n",
    "\n",
    "# Check whether the admin 3 names in the needs assessment data actually match with the admin 5 names in the admin boundaries data\n",
    "admin_3_to_5_matching = admin_3_mismatches[admin_3_mismatches['Admin 3'].isin(village_boundaries_copy['Admin 5'])]\n",
    "\n",
    "print(f\"Number of Admin 3 names that match Admin 5 names: {len(admin_3_to_5_matching)}\")"
   ]
  },
  {
   "cell_type": "markdown",
   "id": "b5620eb1",
   "metadata": {},
   "source": [
    "Task 6: Export results of the admin 2-3, 5 (Combo 3) join as geojson"
   ]
  },
  {
   "cell_type": "code",
   "execution_count": null,
   "id": "61edce28",
   "metadata": {},
   "outputs": [],
   "source": [
    "# Export Combo 3 join as geojson\n",
    "join_combo_3.to_file(os.path.join(\"../../synced-data/population-exploration\", \"processed_needs_assessment_estimates.geojson\"), driver=\"GeoJSON\")"
   ]
  }
 ],
 "metadata": {
  "kernelspec": {
   "display_name": "bridges",
   "language": "python",
   "name": "python3"
  },
  "language_info": {
   "codemirror_mode": {
    "name": "ipython",
    "version": 3
   },
   "file_extension": ".py",
   "mimetype": "text/x-python",
   "name": "python",
   "nbconvert_exporter": "python",
   "pygments_lexer": "ipython3",
   "version": "3.13.2"
  }
 },
 "nbformat": 4,
 "nbformat_minor": 5
}
