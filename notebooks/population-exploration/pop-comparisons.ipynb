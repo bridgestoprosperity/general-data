{
 "cells": [
  {
   "cell_type": "markdown",
   "id": "6efbbdc5",
   "metadata": {},
   "source": [
    "### Workbook for comparing population counts for villages surrounding Rwanda bridges\n",
    "Week of April 21, 2025\n",
    "Author: Adele Birkenes"
   ]
  },
  {
   "cell_type": "code",
   "execution_count": null,
   "id": "d627a4fc",
   "metadata": {},
   "outputs": [],
   "source": [
    "import pandas as pd\n",
    "import geopandas as gpd\n",
    "from shapely.geometry import Point, LineString, Polygon\n",
    "import rasterio\n",
    "import os\n",
    "import numpy as np"
   ]
  },
  {
   "cell_type": "markdown",
   "id": "83699497",
   "metadata": {},
   "source": [
    "Task 1: Read in needs assessment data as dataframe and Rwanda village boundaries as geodataframe"
   ]
  },
  {
   "cell_type": "code",
   "execution_count": null,
   "id": "9cbb336a",
   "metadata": {},
   "outputs": [],
   "source": [
    "# Specify file path for needs assessment data\n",
    "needs_assessment_fp = os.path.join(\"../../synced-data/population-exploration/\", \"Rwanda Sites with All Population Fields_Exported 2025.04.11.csv\")\n",
    "\n",
    "# Read the .csv file into a dataframe with an encoding that accommodates special characters\n",
    "needs_assessment = pd.read_csv(needs_assessment_fp, encoding='ISO-8859-1')\n",
    "\n",
    "# Print first 3 rows of needs assessment data\n",
    "print(needs_assessment.head(3))"
   ]
  },
  {
   "cell_type": "code",
   "execution_count": null,
   "id": "32fd28f7",
   "metadata": {},
   "outputs": [],
   "source": [
    "# Specify file path for Rwanda village boundaries\n",
    "Rwanda_village_boundaries_fp = os.path.join(\"../../synced-data/population-exploration/Rwanda Village Boundaries\", \"Village.shp\")\n",
    "\n",
    "# Read the shapefile into a geodataframe\n",
    "Rwanda_village_boundaries = gpd.read_file(Rwanda_village_boundaries_fp)\n",
    "\n",
    "# Print CRS of geodataframe\n",
    "print(f'The CRS of Rwanda_village_boundaries is {Rwanda_village_boundaries.crs}\\n')\n",
    "\n",
    "# Print first 3 rows of village boundaries data\n",
    "print(Rwanda_village_boundaries.head(3))"
   ]
  },
  {
   "cell_type": "markdown",
   "id": "36669f7a",
   "metadata": {},
   "source": [
    "Task 2: Filter bridges to those that have been completed and create new fields to list the villages associated with each bridge and their summed population counts (according to the needs assessments)"
   ]
  },
  {
   "cell_type": "code",
   "execution_count": null,
   "id": "9128ff3d",
   "metadata": {},
   "outputs": [],
   "source": [
    "# Filter bridges to those that have been completed\n",
    "completed_bridges = needs_assessment[needs_assessment['Bridge Opportunity: Stage'] == 'Complete'].copy()\n",
    "\n",
    "# Combine village names from six columns into one list per bridge\n",
    "village_columns = ['Community Served 1', 'Community Served 2', 'Community Served 3', 'Community Served 4', 'Community Served 5', 'Community Served 6']\n",
    "completed_bridges['Village List'] = completed_bridges[village_columns].apply(lambda row: [village for village in row if pd.notna(village)], axis=1)\n",
    "\n",
    "# Sum population counts for all villages served by each bridge\n",
    "population_columns = ['Individuals served in Community 1', 'Individuals served in Community 2',\n",
    "                     'Individuals served in Community 3', 'Individuals served in Community 4',\n",
    "                     'Individuals served in Community 5', 'Individuals Served in Community 6'] #note that case is different for community 6\n",
    "completed_bridges['Total Needs Assessment Pop'] = completed_bridges[population_columns].apply(lambda row: row.sum(), axis=1)\n",
    "\n",
    "# Display the results\n",
    "print(completed_bridges[['Village List', 'Total Needs Assessment Pop']].head())\n",
    "\n",
    "# Double-check summing - Display rows where the total sum does not match the sum of the six population columns\n",
    "mismatched_rows = completed_bridges[completed_bridges['Total Needs Assessment Pop'] != completed_bridges[population_columns].sum(axis=1)]\n",
    "print(f'\\nMismatched rows: {mismatched_rows}')"
   ]
  },
  {
   "cell_type": "markdown",
   "id": "5010cee9",
   "metadata": {},
   "source": [
    "Task 3: Create dataframe of communities included in needs assessments, where each row is a community (admin 5) and contains the community's associated population"
   ]
  },
  {
   "cell_type": "code",
   "execution_count": null,
   "id": "1ccfbf1a",
   "metadata": {},
   "outputs": [],
   "source": [
    "# Add unique identifier to each row in needs assessment dataframe to allow for matching of communities and their population counts\n",
    "# Note: Cannot use CaseSafeID, as some CaseSafeIDs correspond to multiple rows in dataset\n",
    "needs_assessment['Row ID'] = needs_assessment.index\n",
    "\n",
    "# Select community columns\n",
    "community_columns = ['Community Served 1', 'Community Served 2', 'Community Served 3', \n",
    "                     'Community Served 4', 'Community Served 5', 'Community Served 6']\n",
    "\n",
    "# Melt the needs assessment dataframe to create a long format table, where each row corresponds to a community served by a bridge\n",
    "communities_served = needs_assessment.melt(\n",
    "    id_vars=needs_assessment.columns[:21].tolist() + ['Row ID'],  # Preserve all fields up to \"Bridge Opportunity: Population Estimate 5000m\" and include \"Row ID\"\n",
    "    value_vars=community_columns, \n",
    "    var_name='Community Column', \n",
    "    value_name='Community Name')\n",
    "\n",
    "# Display the first few rows of the melted dataframe\n",
    "print(communities_served.head())\n",
    "\n",
    "# Select individuals served count columns\n",
    "individuals_served_columns = ['Individuals served in Community 1', 'Individuals served in Community 2', \n",
    "                              'Individuals served in Community 3', 'Individuals served in Community 4', \n",
    "                              'Individuals served in Community 5', 'Individuals Served in Community 6']\n",
    "\n",
    "# Create a separate melted dataframe for individuals served counts\n",
    "individuals_served = needs_assessment.melt(\n",
    "    id_vars=['Bridge Opportunity: CaseSafeID', 'Row ID'],\n",
    "    value_vars=individuals_served_columns,\n",
    "    var_name='Individuals Served Column',\n",
    "    value_name='Individuals Served')\n",
    "\n",
    "# Display the first few rows of the melted individuals served dataframe\n",
    "print(individuals_served.head())"
   ]
  },
  {
   "cell_type": "code",
   "execution_count": null,
   "id": "b119f380",
   "metadata": {},
   "outputs": [],
   "source": [
    "# Create new columns for community number in both dataframes (extracting the numbers from the dataframes' respective community columns)\n",
    "communities_served['Community Number'] = communities_served['Community Column'].str.extract(r'(\\d+)').astype(str)\n",
    "individuals_served['Community Number'] = individuals_served['Individuals Served Column'].str.extract(r'(\\d+)').astype(str)\n",
    "\n",
    "# Merge the two dataframes on row ID and community number\n",
    "communities_served = communities_served.merge(\n",
    "    individuals_served,\n",
    "    on=['Row ID', 'Community Number'],\n",
    "    how='left')\n",
    "\n",
    "# Drop rows where 'Community Name' is NaN\n",
    "communities_served = communities_served.dropna(subset=['Community Name'])\n",
    "\n",
    "# Display the resulting table\n",
    "print(communities_served.head())"
   ]
  },
  {
   "cell_type": "markdown",
   "id": "41cab5db",
   "metadata": {},
   "source": [
    "Task 4: Join each community with level 5 admin boundaries, also checking that admin 3 & 4 match"
   ]
  }
 ],
 "metadata": {
  "kernelspec": {
   "display_name": "bridges",
   "language": "python",
   "name": "python3"
  },
  "language_info": {
   "codemirror_mode": {
    "name": "ipython",
    "version": 3
   },
   "file_extension": ".py",
   "mimetype": "text/x-python",
   "name": "python",
   "nbconvert_exporter": "python",
   "pygments_lexer": "ipython3",
   "version": "3.13.2"
  }
 },
 "nbformat": 4,
 "nbformat_minor": 5
}
