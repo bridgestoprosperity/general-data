{
 "cells": [
  {
   "cell_type": "markdown",
   "id": "8a0815bb",
   "metadata": {},
   "source": [
    "### Workbook for exploring catchment survey data and replicating methods from 2021 paper\n",
    "Week of June 9, 2025\n",
    "<br>\n",
    "Author: Adele Birkenes"
   ]
  },
  {
   "cell_type": "markdown",
   "id": "d433f8cc",
   "metadata": {},
   "source": [
    "Objectives of 2021 study (pg. 5):\n",
    "- Understand the geographic area served by a completed bridge and validate the current needs assessment approach by comparing the geographic area served to the estimate of individuals directly served determined as part of the needs assessment\n",
    "- Understand the specific ways in which completed trailbridges serve as connections to key destinations"
   ]
  },
  {
   "cell_type": "markdown",
   "id": "59d006a6",
   "metadata": {},
   "source": [
    "The GIS methods in the paper are as follows:\n",
    "<br>\n",
    "5.1 Calculate summary statistics on number of individuals surveyed, demographics (age range and gender), and modes of transportation\n",
    "\n",
    "5.2 Calculate total catchment area of each site in sq km, and count number of unique villages served by the site. Compare number of unique villages to \"qualified home villages\" from the needs assessment.\n",
    "- Calculate the proportion of respondents reporting a given home village or destination\n",
    "- Calculate mean Euclidean distance from bridge to centroid of farthest home village with one or more surveys\n",
    "- Determine which of the home villages from the catchment surveys are considered \"qualified\" based on whether they meet hte criteria for individuals directly served, based on reported purpose of travel\n",
    "\n",
    "Sample outputs:\n",
    "\n",
    "| Bridge Site | Catchment area, all home and destination villages | Catchment area (sq km) | Catchment area, qualified home villages | Qualified home villages (needs assessment) |\n",
    "|-------------|---------------------------------------------------|------------------------|------------------------------------------|---------------------------------------------|\n",
    "| Gahororo    | 27                                                | 44.6                   | 18                                       | 4                                           |\n",
    "\n",
    "<br>\n",
    "<img src=\"graphics/Figure4.png\" alt=\"Figure 4\" width=\"400\"/>\n",
    "<br>\n",
    "<img src=\"graphics/Figure5.png\" alt=\"Figure 5\" width=\"400\"/>\n",
    "\n",
    "5.3 Calculate summary statistics on purpose of travel, disaggregated by gender\n",
    "\n",
    "5.4 Calculate travel time for a one-way trip between home village and destination, disaggregated by purpose of travel and gender\n",
    "- Exclude multi-day trips"
   ]
  }
 ],
 "metadata": {
  "language_info": {
   "name": "python"
  }
 },
 "nbformat": 4,
 "nbformat_minor": 5
}
