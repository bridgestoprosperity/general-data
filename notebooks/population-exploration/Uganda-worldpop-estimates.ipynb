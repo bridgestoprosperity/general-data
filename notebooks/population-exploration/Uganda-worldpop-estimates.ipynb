{
 "cells": [
  {
   "cell_type": "markdown",
   "id": "2b2097d5",
   "metadata": {},
   "source": [
    "### Workbook for extracting WorldPop population estimates for Uganda bridge catchment areas\n",
    "Week of August 4, 2025\n",
    "<br>\n",
    "Author: Adele Birkenes"
   ]
  },
  {
   "cell_type": "code",
   "execution_count": 1,
   "id": "5374cf03",
   "metadata": {},
   "outputs": [],
   "source": [
    "import pandas as pd\n",
    "import geopandas as gpd\n",
    "from shapely.geometry import Point, LineString, Polygon\n",
    "import rasterio\n",
    "from rasterio.mask import mask\n",
    "from rasterio.merge import merge\n",
    "from rasterio.plot import show\n",
    "from rasterio.warp import calculate_default_transform, reproject, Resampling\n",
    "import os\n",
    "import numpy as np\n",
    "import matplotlib.pyplot as plt\n",
    "import folium\n",
    "from folium import GeoJson"
   ]
  },
  {
   "cell_type": "markdown",
   "id": "3fdade1f",
   "metadata": {},
   "source": [
    "**Task 1: Read in data on bridge sites and village boundaries**\n",
    "\n",
    "Note: The village boundaries are not used in this analysis, but I am checking whether they contain a custom Uganda projection"
   ]
  },
  {
   "cell_type": "code",
   "execution_count": 6,
   "id": "8e42b54a",
   "metadata": {},
   "outputs": [
    {
     "name": "stdout",
     "output_type": "stream",
     "text": [
      "Uganda village boundaries CRS: EPSG:4326\n"
     ]
    }
   ],
   "source": [
    "synced_path = \"../../synced-data/population-exploration/Uganda\"\n",
    "unsynced_path = \"../../unsynced-data\"\n",
    "\n",
    "# Village boundaries (geodataframe)\n",
    "village_boundaries_fp = os.path.join(synced_path,\"uga_admbnda_ubos_20200824_shp/uga_admbnda_adm4_ubos_20200824.shp\")\n",
    "Uganda_village_boundaries = gpd.read_file(village_boundaries_fp)\n",
    "print(\"Uganda village boundaries CRS:\", Uganda_village_boundaries.crs)\n",
    "\n",
    "# Bridge sites (dataframe)\n",
    "bridge_sites_fp = os.path.join(synced_path, \"All B2P Uganda Sites_2025.07.14.csv\")\n",
    "Uganda_bridge_sites = pd.read_csv(bridge_sites_fp)"
   ]
  },
  {
   "cell_type": "markdown",
   "id": "10fa6562",
   "metadata": {},
   "source": [
    "Conclusion: The village boundaries are unprojected (WGS84). However, it is appropriate to use a projected CRS for distance calculations such as buffers. Therefore, I will use UTM zone 36N (EPSG:32636), which covers most of Uganda."
   ]
  },
  {
   "cell_type": "markdown",
   "id": "e1585499",
   "metadata": {},
   "source": [
    "**Task 2: Check for rows with missing/invalid coordinates, which can create invalid geometries and cause problems. Create a dataframe of invalid bridge sites for review**"
   ]
  },
  {
   "cell_type": "code",
   "execution_count": 25,
   "id": "2b3c023a",
   "metadata": {},
   "outputs": [
    {
     "name": "stdout",
     "output_type": "stream",
     "text": [
      "GPS (Latitude)     12\n",
      "GPS (Longitude)    12\n",
      "dtype: int64\n",
      "       GPS (Latitude)  GPS (Longitude)\n",
      "count      598.000000       598.000000\n",
      "mean         0.641824        31.522621\n",
      "std          0.913415         1.925981\n",
      "min         -1.459017        29.630709\n",
      "25%          0.098429        30.071547\n",
      "50%          0.674117        30.303297\n",
      "75%          1.064221        34.289442\n",
      "max          3.750561        35.355083\n",
      "True     598\n",
      "False     12\n",
      "Name: count, dtype: int64\n"
     ]
    }
   ],
   "source": [
    "# Check for missing or obviously invalid coordinates\n",
    "print(Uganda_bridge_sites[[\"GPS (Latitude)\", \"GPS (Longitude)\"]].isnull().sum())\n",
    "print(Uganda_bridge_sites[[\"GPS (Latitude)\", \"GPS (Longitude)\"]].describe())\n",
    "print(bridge_points.is_valid.value_counts())"
   ]
  },
  {
   "cell_type": "code",
   "execution_count": 27,
   "id": "48a47592",
   "metadata": {},
   "outputs": [],
   "source": [
    "# Create a dataframe of rows with missing latitude or longitude\n",
    "Uganda_bridge_sites_missing_coords = Uganda_bridge_sites[\n",
    "    Uganda_bridge_sites[\"GPS (Latitude)\"].isnull() | Uganda_bridge_sites[\"GPS (Longitude)\"].isnull()\n",
    "]\n",
    "\n",
    "# Export to CSV\n",
    "Uganda_bridge_sites_missing_coords_fp = os.path.join(synced_path, \"Uganda_bridge_sites_missing_coords.csv\")\n",
    "Uganda_bridge_sites_missing_coords.to_csv(Uganda_bridge_sites_missing_coords_fp, index=False)"
   ]
  },
  {
   "cell_type": "markdown",
   "id": "96d07336",
   "metadata": {},
   "source": [
    "**Task 3: Create a geodataframe of bridge sites with valid coordinates; use custom Uganda projection**"
   ]
  },
  {
   "cell_type": "code",
   "execution_count": 33,
   "id": "0e78e4f2",
   "metadata": {},
   "outputs": [
    {
     "name": "stdout",
     "output_type": "stream",
     "text": [
      "CRS of bridge sites: EPSG:32636\n"
     ]
    }
   ],
   "source": [
    "# Convert bridge sites dataframe to geodataframe that has custom Uganda projection\n",
    "def map_bridges(bridges, bridges_lat, bridges_lon, projection='EPSG:32636'):\n",
    "\n",
    "    # Remove rows with missing lat/lon values\n",
    "    bridges = bridges.dropna(subset=[bridges_lat, bridges_lon])\n",
    "\n",
    "    # Create lat/lon variables from filtered dataframe\n",
    "    lon = bridges[bridges_lon]\n",
    "    lat = bridges[bridges_lat]\n",
    "\n",
    "    # Create gdf of bridges data by converting lat/lon values to list of Shapely Point objects\n",
    "    bridge_points = gpd.GeoDataFrame(bridges, geometry=gpd.points_from_xy(x=lon, y=lat), crs='EPSG:4326')\n",
    "\n",
    "    # Set CRS of bridges gdf to custom Uganda projection\n",
    "    bridge_points = bridge_points.to_crs(projection)\n",
    "\n",
    "    # Check that reprojection was successful\n",
    "    print(f'CRS of bridge sites: {bridge_points.crs}')\n",
    "    \n",
    "    return bridge_points\n",
    "\n",
    "bridge_points = map_bridges(bridges = Uganda_bridge_sites,\n",
    "                            bridges_lat = \"GPS (Latitude)\",\n",
    "                            bridges_lon = \"GPS (Longitude)\")\n",
    "\n",
    "#bridge_points.explore()"
   ]
  },
  {
   "cell_type": "markdown",
   "id": "8fb08c4f",
   "metadata": {},
   "source": [
    "**Task 4: Create 3 km buffers around bridge sites**"
   ]
  },
  {
   "cell_type": "code",
   "execution_count": 48,
   "id": "fa9c1892",
   "metadata": {},
   "outputs": [],
   "source": [
    "def create_bridge_buffers(bridges, buffer_distance):\n",
    "\n",
    "    # Create buffers around bridges according to user's distance input\n",
    "    buf = bridges.geometry.buffer(distance=buffer_distance)\n",
    "\n",
    "    # Add bridges point attribute information to buffers\n",
    "    bridge_buffers = bridges.copy()\n",
    "    bridge_buffers['geometry'] = buf\n",
    "\n",
    "    return bridge_buffers\n",
    "\n",
    "bridge_buffers_3km = create_bridge_buffers(bridges = bridge_points, buffer_distance = 3000)\n",
    "\n",
    "#bridge_buffers_3km.explore()"
   ]
  },
  {
   "cell_type": "markdown",
   "id": "f9fb2926",
   "metadata": {},
   "source": [
    "**Task 5: Read in WorldPop rasters for Uganda and surrounding countries that overlap with bridge buffers: DRC, South Sudan, Rwanda, and Kenya**"
   ]
  },
  {
   "cell_type": "code",
   "execution_count": 36,
   "id": "632cbc45",
   "metadata": {},
   "outputs": [],
   "source": [
    "# Create list of WorldPop raster files for Uganda and surrounding countries: DRC, South Sudan, Rwanda, and Kenya\n",
    "countries = [\"uga\",\"cod\",\"ssd\",\"rwa\",\"ken\"]\n",
    "WorldPop_2020 = [os.path.join(unsynced_path, f\"WorldPop_Rasters_2020.nosync/{country}_ppp_2020_UNadj_constrained.tif\") for country in countries]\n",
    "\n",
    "# Mosaic WorldPop rasters in list\n",
    "WorldPop_2020_mosaic, mosaic_transform = merge([rasterio.open(raster) for raster in WorldPop_2020])\n",
    "\n",
    "# Specify output file path for the mosaic\n",
    "mosaic_fp = os.path.join(unsynced_path, \"WorldPop_Rasters_2020.nosync/worldpop_2020_mosaic_for_uganda.tif\")\n",
    "\n",
    "# Calculate width and height from the shape of the mosaic array\n",
    "height, width = WorldPop_2020_mosaic.shape[1], WorldPop_2020_mosaic.shape[2]\n",
    "\n",
    "# Save the mosaic to a GeoTIFF file\n",
    "with rasterio.open(\n",
    "    mosaic_fp, \n",
    "    'w', \n",
    "    driver='GTiff', \n",
    "    height=height, \n",
    "    width=width, \n",
    "    count=1, \n",
    "    dtype=WorldPop_2020_mosaic.dtype, \n",
    "    crs=\"EPSG:4326\",\n",
    "    transform=mosaic_transform\n",
    ") as dst:\n",
    "    dst.write(WorldPop_2020_mosaic[0], 1)"
   ]
  },
  {
   "cell_type": "markdown",
   "id": "874ebbee",
   "metadata": {},
   "source": [
    "**Task 6: Extract population estimates from raster mosaic for bridge buffers**\n",
    "\n",
    "Note: So that projecting the raster mosaic can be avoided, the bridge buffers will be reprojected to WGS84. Uganda is along the equator, so the distortion of WGS84 is minimal."
   ]
  },
  {
   "cell_type": "code",
   "execution_count": 38,
   "id": "38346946",
   "metadata": {},
   "outputs": [
    {
     "name": "stdout",
     "output_type": "stream",
     "text": [
      "Raster CRS: EPSG:4326\n",
      "Raster shape: (30809, 35616)\n",
      "Number of Bands: 1\n",
      "Buffer CRS: GEOGCS[\"WGS 84\",DATUM[\"WGS_1984\",SPHEROID[\"WGS 84\",6378137,298.257223563,AUTHORITY[\"EPSG\",\"7030\"]],AUTHORITY[\"EPSG\",\"6326\"]],PRIMEM[\"Greenwich\",0,AUTHORITY[\"EPSG\",\"8901\"]],UNIT[\"degree\",0.0174532925199433,AUTHORITY[\"EPSG\",\"9122\"]],AXIS[\"Latitude\",NORTH],AXIS[\"Longitude\",EAST],AUTHORITY[\"EPSG\",\"4326\"]]\n"
     ]
    }
   ],
   "source": [
    "# Use extract pop function to work with unprojected raster (converts buffer gdf to match raster CRS)\n",
    "def extract_pop_unproj(pop_raster, population_field_name, buffers):\n",
    "\n",
    "    # Copy input geodataframe to avoid modifying the original\n",
    "    buffers_copy = buffers.copy()\n",
    "\n",
    "    with rasterio.open(pop_raster) as src:\n",
    "        # Print information from raster profile\n",
    "        print(\"Raster CRS:\", src.crs)\n",
    "        print(\"Raster shape:\", src.shape)\n",
    "        print(\"Number of Bands:\", src.count)\n",
    "\n",
    "        # Reproject buffer gdf to match raster CRS and print new CRS\n",
    "        buffers_copy = buffers_copy.to_crs(src.crs)\n",
    "        print(\"Buffer CRS:\", buffers_copy.crs)\n",
    "\n",
    "        # Iterate over each village and extract population data\n",
    "        results = []\n",
    "        for idx, row in buffers_copy.iterrows():\n",
    "            try:\n",
    "                out_image = mask(src, [row.geometry], crop=True)\n",
    "                out_image = out_image[0]\n",
    "\n",
    "                # Handle masked arrays and replace with 0\n",
    "                if np.ma.is_masked(out_image):\n",
    "                    out_image = out_image.filled(0)\n",
    "\n",
    "                # Remove negative values (e.g., nodata placeholders)\n",
    "                out_image = np.where(out_image < 0, 0, out_image)\n",
    "\n",
    "                total_population = np.sum(out_image)\n",
    "\n",
    "            except Exception as e:\n",
    "                print(f\"Error at buffer {idx}: {e}\")\n",
    "                total_population = 0  # or np.nan\n",
    "\n",
    "            results.append(total_population)\n",
    "\n",
    "        # Add population data to the gdf\n",
    "        buffers_copy[population_field_name] = results\n",
    "\n",
    "    return buffers_copy\n",
    "\n",
    "# Get file path for WorldPop raster\n",
    "WorldPop_raster_fp = os.path.join(unsynced_path, \"WorldPop_Rasters_2020.nosync/worldpop_2020_mosaic_for_uganda.tif\")\n",
    "\n",
    "pop_estimates_3km_unproj = extract_pop_unproj(\n",
    "    pop_raster=WorldPop_raster_fp,\n",
    "    population_field_name=\"WorldPop_3km\",\n",
    "    buffers=bridge_buffers_3km)"
   ]
  },
  {
   "cell_type": "code",
   "execution_count": 43,
   "id": "e2ca692a",
   "metadata": {},
   "outputs": [
    {
     "data": {
      "text/html": [
       "<div>\n",
       "<style scoped>\n",
       "    .dataframe tbody tr th:only-of-type {\n",
       "        vertical-align: middle;\n",
       "    }\n",
       "\n",
       "    .dataframe tbody tr th {\n",
       "        vertical-align: top;\n",
       "    }\n",
       "\n",
       "    .dataframe thead th {\n",
       "        text-align: right;\n",
       "    }\n",
       "</style>\n",
       "<table border=\"1\" class=\"dataframe\">\n",
       "  <thead>\n",
       "    <tr style=\"text-align: right;\">\n",
       "      <th></th>\n",
       "      <th>Opportunity Name</th>\n",
       "      <th>Project Code</th>\n",
       "      <th>Level 1 Government</th>\n",
       "      <th>Level 2 Government</th>\n",
       "      <th>Level 3 Government</th>\n",
       "      <th>B2P Fiscal Year</th>\n",
       "      <th>Stage</th>\n",
       "      <th>Sub-Stage</th>\n",
       "      <th>Close Date</th>\n",
       "      <th>Bridge Type</th>\n",
       "      <th>Span (m)</th>\n",
       "      <th>GPS (Latitude)</th>\n",
       "      <th>GPS (Longitude)</th>\n",
       "      <th>Population Estimate 2000m</th>\n",
       "      <th>Population Estimate 5000m</th>\n",
       "      <th>Individuals Directly Served</th>\n",
       "      <th>geometry</th>\n",
       "      <th>WorldPop_3km</th>\n",
       "    </tr>\n",
       "  </thead>\n",
       "  <tbody>\n",
       "    <tr>\n",
       "      <th>4</th>\n",
       "      <td>Uganda - Tongole - 1008762</td>\n",
       "      <td>1008762</td>\n",
       "      <td>Eastern Region</td>\n",
       "      <td>Manafwa</td>\n",
       "      <td>Manafwa Town Council</td>\n",
       "      <td>2019.0</td>\n",
       "      <td>Complete</td>\n",
       "      <td>In Service</td>\n",
       "      <td>43518.0</td>\n",
       "      <td>Suspension Bridge</td>\n",
       "      <td>74.8</td>\n",
       "      <td>1.937883</td>\n",
       "      <td>34.2691</td>\n",
       "      <td>0.0</td>\n",
       "      <td>2578.0</td>\n",
       "      <td>3000.0</td>\n",
       "      <td>POLYGON ((34.29607 1.93786, 34.29594 1.9352, 3...</td>\n",
       "      <td>0.0</td>\n",
       "    </tr>\n",
       "  </tbody>\n",
       "</table>\n",
       "</div>"
      ],
      "text/plain": [
       "             Opportunity Name Project Code Level 1 Government  \\\n",
       "4  Uganda - Tongole - 1008762      1008762     Eastern Region   \n",
       "\n",
       "  Level 2 Government    Level 3 Government  B2P Fiscal Year     Stage  \\\n",
       "4            Manafwa  Manafwa Town Council           2019.0  Complete   \n",
       "\n",
       "    Sub-Stage  Close Date        Bridge Type  Span (m)  GPS (Latitude)  \\\n",
       "4  In Service     43518.0  Suspension Bridge      74.8        1.937883   \n",
       "\n",
       "   GPS (Longitude)  Population Estimate 2000m  Population Estimate 5000m  \\\n",
       "4          34.2691                        0.0                     2578.0   \n",
       "\n",
       "   Individuals Directly Served  \\\n",
       "4                       3000.0   \n",
       "\n",
       "                                            geometry  WorldPop_3km  \n",
       "4  POLYGON ((34.29607 1.93786, 34.29594 1.9352, 3...           0.0  "
      ]
     },
     "execution_count": 43,
     "metadata": {},
     "output_type": "execute_result"
    }
   ],
   "source": [
    "# Identify buffers with population estimates of 0 and map them in explore()\n",
    "zero_population_buffers = pop_estimates_3km_unproj[pop_estimates_3km_unproj[\"WorldPop_3km\"] == 0]\n",
    "zero_population_buffers"
   ]
  },
  {
   "cell_type": "code",
   "execution_count": 46,
   "id": "bd3401de",
   "metadata": {},
   "outputs": [
    {
     "data": {
      "application/vnd.microsoft.datawrangler.viewer.v0+json": {
       "columns": [
        {
         "name": "index",
         "rawType": "object",
         "type": "string"
        },
        {
         "name": "WorldPop_3km",
         "rawType": "float64",
         "type": "float"
        }
       ],
       "ref": "bc692bb7-7d66-4531-8571-6978f2a854ba",
       "rows": [
        [
         "count",
         "598.0"
        ],
        [
         "mean",
         "20023.34375"
        ],
        [
         "std",
         "14373.556640625"
        ],
        [
         "min",
         "0.0"
        ],
        [
         "25%",
         "9545.08544921875"
        ],
        [
         "50%",
         "16778.3115234375"
        ],
        [
         "75%",
         "26516.0546875"
        ],
        [
         "max",
         "131532.703125"
        ]
       ],
       "shape": {
        "columns": 1,
        "rows": 8
       }
      },
      "text/plain": [
       "count       598.000000\n",
       "mean      20023.343750\n",
       "std       14373.556641\n",
       "min           0.000000\n",
       "25%        9545.085449\n",
       "50%       16778.311523\n",
       "75%       26516.054688\n",
       "max      131532.703125\n",
       "Name: WorldPop_3km, dtype: float64"
      ]
     },
     "execution_count": 46,
     "metadata": {},
     "output_type": "execute_result"
    }
   ],
   "source": [
    "# Calculate summary statistics for population estimates\n",
    "pop_estimates_3km_unproj[\"WorldPop_3km\"].describe()"
   ]
  },
  {
   "cell_type": "code",
   "execution_count": 47,
   "id": "9223163e",
   "metadata": {},
   "outputs": [
    {
     "data": {
      "application/vnd.microsoft.datawrangler.viewer.v0+json": {
       "columns": [
        {
         "name": "index",
         "rawType": "int64",
         "type": "integer"
        },
        {
         "name": "Stage",
         "rawType": "object",
         "type": "string"
        },
        {
         "name": "Mean_Population",
         "rawType": "float32",
         "type": "float"
        }
       ],
       "ref": "ce2903ec-8696-4c79-8fc6-89543e82183d",
       "rows": [
        [
         "0",
         "Complete",
         "14335.8125"
        ],
        [
         "1",
         "Identified",
         "19934.002"
        ],
        [
         "2",
         "Ready to Confirm",
         "27971.414"
        ],
        [
         "3",
         "Rejected",
         "24074.998"
        ],
        [
         "4",
         "Under Construction",
         "6370.5645"
        ]
       ],
       "shape": {
        "columns": 2,
        "rows": 5
       }
      },
      "text/html": [
       "<div>\n",
       "<style scoped>\n",
       "    .dataframe tbody tr th:only-of-type {\n",
       "        vertical-align: middle;\n",
       "    }\n",
       "\n",
       "    .dataframe tbody tr th {\n",
       "        vertical-align: top;\n",
       "    }\n",
       "\n",
       "    .dataframe thead th {\n",
       "        text-align: right;\n",
       "    }\n",
       "</style>\n",
       "<table border=\"1\" class=\"dataframe\">\n",
       "  <thead>\n",
       "    <tr style=\"text-align: right;\">\n",
       "      <th></th>\n",
       "      <th>Stage</th>\n",
       "      <th>Mean_Population</th>\n",
       "    </tr>\n",
       "  </thead>\n",
       "  <tbody>\n",
       "    <tr>\n",
       "      <th>0</th>\n",
       "      <td>Complete</td>\n",
       "      <td>14335.812500</td>\n",
       "    </tr>\n",
       "    <tr>\n",
       "      <th>1</th>\n",
       "      <td>Identified</td>\n",
       "      <td>19934.001953</td>\n",
       "    </tr>\n",
       "    <tr>\n",
       "      <th>2</th>\n",
       "      <td>Ready to Confirm</td>\n",
       "      <td>27971.414062</td>\n",
       "    </tr>\n",
       "    <tr>\n",
       "      <th>3</th>\n",
       "      <td>Rejected</td>\n",
       "      <td>24074.998047</td>\n",
       "    </tr>\n",
       "    <tr>\n",
       "      <th>4</th>\n",
       "      <td>Under Construction</td>\n",
       "      <td>6370.564453</td>\n",
       "    </tr>\n",
       "  </tbody>\n",
       "</table>\n",
       "</div>"
      ],
      "text/plain": [
       "                Stage  Mean_Population\n",
       "0            Complete     14335.812500\n",
       "1          Identified     19934.001953\n",
       "2    Ready to Confirm     27971.414062\n",
       "3            Rejected     24074.998047\n",
       "4  Under Construction      6370.564453"
      ]
     },
     "execution_count": 47,
     "metadata": {},
     "output_type": "execute_result"
    }
   ],
   "source": [
    "# Calculate mean population estimates for all unique values in \"Stage\" column\n",
    "mean_population_by_stage = pop_estimates_3km_unproj.groupby(\"Stage\")[\"WorldPop_3km\"].mean().reset_index()\n",
    "mean_population_by_stage.columns = [\"Stage\", \"Mean_Population\"]\n",
    "mean_population_by_stage"
   ]
  }
 ],
 "metadata": {
  "kernelspec": {
   "display_name": "bridges",
   "language": "python",
   "name": "python3"
  },
  "language_info": {
   "codemirror_mode": {
    "name": "ipython",
    "version": 3
   },
   "file_extension": ".py",
   "mimetype": "text/x-python",
   "name": "python",
   "nbconvert_exporter": "python",
   "pygments_lexer": "ipython3",
   "version": "3.13.2"
  }
 },
 "nbformat": 4,
 "nbformat_minor": 5
}
