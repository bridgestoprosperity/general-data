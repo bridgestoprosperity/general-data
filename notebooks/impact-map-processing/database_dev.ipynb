{
 "cells": [
  {
   "cell_type": "code",
   "execution_count": 1,
   "id": "58a58f32",
   "metadata": {},
   "outputs": [],
   "source": [
    "import os\n",
    "import json\n",
    "import pandas as pd\n",
    "import geopandas as gpd\n",
    "pd.set_option('display.max_columns', None)\n",
    "import numpy as np\n",
    "from shapely.geometry import LineString, Point, Polygon\n",
    "import h3\n",
    "\n",
    "output_folder_path =\"/Volumes/samsung-4tb/b2p/impact-model/database_data/\""
   ]
  },
  {
   "cell_type": "code",
   "execution_count": null,
   "id": "fc340197",
   "metadata": {},
   "outputs": [],
   "source": []
  }
 ],
 "metadata": {
  "kernelspec": {
   "display_name": "geo",
   "language": "python",
   "name": "python3"
  },
  "language_info": {
   "codemirror_mode": {
    "name": "ipython",
    "version": 3
   },
   "file_extension": ".py",
   "mimetype": "text/x-python",
   "name": "python",
   "nbconvert_exporter": "python",
   "pygments_lexer": "ipython3",
   "version": "3.10.10"
  }
 },
 "nbformat": 4,
 "nbformat_minor": 5
}
