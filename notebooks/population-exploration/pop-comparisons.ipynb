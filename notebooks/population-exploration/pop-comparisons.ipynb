{
 "cells": [
  {
   "cell_type": "markdown",
   "id": "6efbbdc5",
   "metadata": {},
   "source": [
    "### Workbook for comparing population counts for villages surrounding Rwanda bridges\n",
    "Week of April 21, 2025\n",
    "Author: Adele Birkenes"
   ]
  },
  {
   "cell_type": "code",
   "execution_count": null,
   "id": "d627a4fc",
   "metadata": {},
   "outputs": [],
   "source": [
    "import pandas as pd\n",
    "import geopandas as gpd\n",
    "from shapely.geometry import Point, LineString, Polygon\n",
    "import rasterio\n",
    "import os\n",
    "import numpy as np"
   ]
  },
  {
   "cell_type": "markdown",
   "id": "83699497",
   "metadata": {},
   "source": [
    "Step 1: Read in needs assessment data"
   ]
  },
  {
   "cell_type": "code",
   "execution_count": null,
   "id": "9cbb336a",
   "metadata": {},
   "outputs": [],
   "source": [
    "path = \"../../synced-data/population-exploration/\"\n",
    "\n",
    "# Specify file path\n",
    "needs_assessment_fp = os.path.join(path, \"Rwanda Sites with All Population Fields_Exported 2025.04.11.csv\")\n",
    "\n",
    "# Read the .csv file into a dataframe with an encoding that accommodates special characters\n",
    "needs_assessment = pd.read_csv(needs_assessment_fp, encoding='ISO-8859-1')\n",
    "\n",
    "print(needs_assessment.head())"
   ]
  },
  {
   "cell_type": "markdown",
   "id": "36669f7a",
   "metadata": {},
   "source": [
    "Step 2: Filter bridges to those that have been completed and create new fields to list the villages associated with each bridge and their summed population counts (according to the needs assessments)"
   ]
  },
  {
   "cell_type": "code",
   "execution_count": null,
   "id": "9128ff3d",
   "metadata": {},
   "outputs": [],
   "source": [
    "# Filter bridges to those that have been completed\n",
    "completed_bridges = needs_assessment[needs_assessment['Bridge Opportunity: Stage'] == 'Complete'].copy()\n",
    "\n",
    "# Combine village names from six columns into one list per bridge\n",
    "village_columns = ['Community Served 1', 'Community Served 2', 'Community Served 3', 'Community Served 4', 'Community Served 5', 'Community Served 6']\n",
    "completed_bridges['Village List'] = completed_bridges[village_columns].apply(lambda row: [village for village in row if pd.notna(village)], axis=1)\n",
    "\n",
    "# Sum population counts for all villages served by each bridge\n",
    "population_columns = ['Individuals served in Community 1', 'Individuals served in Community 2',\n",
    "                     'Individuals served in Community 3', 'Individuals served in Community 4',\n",
    "                     'Individuals served in Community 5', 'Individuals Served in Community 6'] #note that case is different for community 6\n",
    "completed_bridges['Total Needs Assessment Pop'] = completed_bridges[population_columns].apply(lambda row: row.sum(), axis=1)\n",
    "\n",
    "# Display the results\n",
    "print(completed_bridges[['Village List', 'Total Needs Assessment Pop']].head())\n",
    "\n",
    "# Double-check summing - Display rows where the total sum does not match the sum of the six population columns\n",
    "mismatched_rows = completed_bridges[completed_bridges['Total Needs Assessment Pop'] != completed_bridges[population_columns].sum(axis=1)]\n",
    "print(mismatched_rows)"
   ]
  }
 ],
 "metadata": {
  "kernelspec": {
   "display_name": "bridges",
   "language": "python",
   "name": "python3"
  },
  "language_info": {
   "codemirror_mode": {
    "name": "ipython",
    "version": 3
   },
   "file_extension": ".py",
   "mimetype": "text/x-python",
   "name": "python",
   "nbconvert_exporter": "python",
   "pygments_lexer": "ipython3",
   "version": "3.13.2"
  }
 },
 "nbformat": 4,
 "nbformat_minor": 5
}
