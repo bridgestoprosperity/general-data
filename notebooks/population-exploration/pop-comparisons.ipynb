{
 "cells": [
  {
   "cell_type": "markdown",
   "id": "6efbbdc5",
   "metadata": {},
   "source": [
    "### Workbook for comparing population counts for villages surrounding Rwanda bridges\n",
    "Weeks of April 21 & 28, 2025 |\n",
    "Author: Adele Birkenes"
   ]
  },
  {
   "cell_type": "code",
   "execution_count": 14,
   "id": "d627a4fc",
   "metadata": {},
   "outputs": [],
   "source": [
    "import pandas as pd\n",
    "import geopandas as gpd\n",
    "from shapely.geometry import Point, LineString, Polygon\n",
    "import rasterio\n",
    "import os\n",
    "import numpy as np"
   ]
  },
  {
   "cell_type": "markdown",
   "id": "83699497",
   "metadata": {},
   "source": [
    "Task 1: Read in needs assessment data as dataframe and Rwanda village boundaries as geodataframe"
   ]
  },
  {
   "cell_type": "code",
   "execution_count": 15,
   "id": "9cbb336a",
   "metadata": {},
   "outputs": [
    {
     "name": "stdout",
     "output_type": "stream",
     "text": [
      "  Bridge Opportunity: CaseSafeID Bridge Opportunity: Project Code  \\\n",
      "0             006f100000a86CpAAI                          1007327   \n",
      "1             006f100000a86CpAAI                          1007327   \n",
      "2             006f100000a86CtAAI                          1007331   \n",
      "\n",
      "  Bridge Opportunity: Country Bridge Opportunity: Opportunity Name  \\\n",
      "0                      Rwanda            Rwanda - Gikana - 1007327   \n",
      "1                      Rwanda            Rwanda - Gikana - 1007327   \n",
      "2                      Rwanda        Rwanda - Nyamigende - 1007331   \n",
      "\n",
      "  Bridge Opportunity: Stage Bridge Opportunity: Sub-Stage  \\\n",
      "0                  Rejected                     Technical   \n",
      "1                  Rejected                     Technical   \n",
      "2                  Rejected                           NaN   \n",
      "\n",
      "  Bridge Opportunity: Close Date Bridge Opportunity: Level 1 Government  \\\n",
      "0                       11/30/18                       Eastern Province   \n",
      "1                       11/30/18                       Eastern Province   \n",
      "2                       12/31/18                       Eastern Province   \n",
      "\n",
      "  Bridge Opportunity: Level 2 Government  \\\n",
      "0                               Bugesera   \n",
      "1                               Bugesera   \n",
      "2                               Bugesera   \n",
      "\n",
      "  Bridge Opportunity: Level 3 Government  ...  \\\n",
      "0                               Kabukuba  ...   \n",
      "1                               Kabukuba  ...   \n",
      "2                                   Juru  ...   \n",
      "\n",
      "  Individuals Served in Community 6 Form: Created Date Community Served 7  \\\n",
      "0                               NaN            5/14/18                NaN   \n",
      "1                               NaN           11/30/18                NaN   \n",
      "2                               NaN            5/14/18                NaN   \n",
      "\n",
      "  Individuals Served in Community 7 Community Served 8  \\\n",
      "0                               NaN                NaN   \n",
      "1                               NaN                NaN   \n",
      "2                               NaN                NaN   \n",
      "\n",
      "  Individuals Served in Community 8  Community Served 9  \\\n",
      "0                               NaN                 NaN   \n",
      "1                               NaN                 NaN   \n",
      "2                               NaN                 NaN   \n",
      "\n",
      "   Individuals Served in Community 9  Community Served 10  \\\n",
      "0                                NaN                  NaN   \n",
      "1                                NaN                  NaN   \n",
      "2                                NaN                  NaN   \n",
      "\n",
      "  Individuals Served in Community 10  \n",
      "0                                NaN  \n",
      "1                                NaN  \n",
      "2                                NaN  \n",
      "\n",
      "[3 rows x 43 columns]\n"
     ]
    }
   ],
   "source": [
    "# Specify file path for needs assessment data\n",
    "needs_assessment_fp = os.path.join(\"../../synced-data/population-exploration/\", \"Rwanda Sites with All Population Fields_Exported 2025.04.11.csv\")\n",
    "\n",
    "# Read the .csv file into a dataframe with an encoding that accommodates special characters\n",
    "needs_assessment = pd.read_csv(needs_assessment_fp, encoding='ISO-8859-1')\n",
    "\n",
    "# Print first 3 rows of needs assessment data\n",
    "print(needs_assessment.head(3))"
   ]
  },
  {
   "cell_type": "code",
   "execution_count": 16,
   "id": "32fd28f7",
   "metadata": {},
   "outputs": [
    {
     "name": "stdout",
     "output_type": "stream",
     "text": [
      "The CRS of Rwanda_village_boundaries is PROJCS[\"TM_Rwanda\",GEOGCS[\"ITRF2005\",DATUM[\"International_Terrestrial_Reference_Frame_2005\",SPHEROID[\"GRS 1980\",6378137,298.257222101,AUTHORITY[\"EPSG\",\"7019\"]],AUTHORITY[\"EPSG\",\"6896\"]],PRIMEM[\"Greenwich\",0],UNIT[\"Degree\",0.0174532925199433]],PROJECTION[\"Transverse_Mercator\"],PARAMETER[\"latitude_of_origin\",0],PARAMETER[\"central_meridian\",30],PARAMETER[\"scale_factor\",0.9999],PARAMETER[\"false_easting\",500000],PARAMETER[\"false_northing\",5000000],UNIT[\"metre\",1,AUTHORITY[\"EPSG\",\"9001\"]],AXIS[\"Easting\",EAST],AXIS[\"Northing\",NORTH]]\n",
      "\n",
      "     District Village_ID Cell_ID Sector_ID Distr_ID Prov_ID        Name  \\\n",
      "0  Nyarugenge   11010102  110101      1101       11       1     Gihanga   \n",
      "1  Nyarugenge   11010103  110101      1101       11       1  Iterambere   \n",
      "2  Nyarugenge   11010104  110101      1101       11       1       Izuba   \n",
      "\n",
      "        Cell  Sector                      Province  \\\n",
      "0  Akabahizi  Gitega  Kigali Town/Umujyi wa Kigali   \n",
      "1  Akabahizi  Gitega  Kigali Town/Umujyi wa Kigali   \n",
      "2  Akabahizi  Gitega  Kigali Town/Umujyi wa Kigali   \n",
      "\n",
      "                                            geometry  \n",
      "0  POLYGON Z ((505804.107 4784697.395 0, 505808.8...  \n",
      "1  POLYGON Z ((505725.35 4785070.964 0, 505750.76...  \n",
      "2  POLYGON Z ((505689.339 4785047.225 0, 505712.2...  \n"
     ]
    }
   ],
   "source": [
    "# Specify file path for Rwanda village boundaries\n",
    "Rwanda_village_boundaries_fp = os.path.join(\"../../synced-data/population-exploration/Rwanda Village Boundaries\", \"Village.shp\")\n",
    "\n",
    "# Read the shapefile into a geodataframe\n",
    "Rwanda_village_boundaries = gpd.read_file(Rwanda_village_boundaries_fp)\n",
    "\n",
    "# Print CRS of geodataframe\n",
    "print(f'The CRS of Rwanda_village_boundaries is {Rwanda_village_boundaries.crs}\\n')\n",
    "\n",
    "# Print first 3 rows of village boundaries data\n",
    "print(Rwanda_village_boundaries.head(3))"
   ]
  },
  {
   "cell_type": "markdown",
   "id": "36669f7a",
   "metadata": {},
   "source": [
    "Task 2: Filter bridges to those that have been completed and create new fields to list the villages associated with each bridge and their summed population counts (according to the needs assessments)"
   ]
  },
  {
   "cell_type": "code",
   "execution_count": 17,
   "id": "9128ff3d",
   "metadata": {},
   "outputs": [
    {
     "name": "stdout",
     "output_type": "stream",
     "text": [
      "                                      Village List  Total Needs Assessment Pop\n",
      "24  [Kiziba, Bishingwe, Kabukoko, Ntazi, Mugonero]                      2946.0\n",
      "31        [Cyabami, Rugaragara, Butunda, Kadehero]                      2554.0\n",
      "71               [Nyabizi 1, Nyabizi 2, Nyabizi 3]                      1854.0\n",
      "85    [Gisenyi, Mwambi, Nyakigezi, Mubuga, Kibaya]                      5142.0\n",
      "86                               [Kibaya, Gisenyi]                      1230.0\n",
      "\n",
      "Mismatched rows: Empty DataFrame\n",
      "Columns: [Bridge Opportunity: CaseSafeID, Bridge Opportunity: Project Code, Bridge Opportunity: Country, Bridge Opportunity: Opportunity Name, Bridge Opportunity: Stage, Bridge Opportunity: Sub-Stage, Bridge Opportunity: Close Date, Bridge Opportunity: Level 1 Government, Bridge Opportunity: Level 2 Government, Bridge Opportunity: Level 3 Government, Bridge Opportunity: Level 4 Government, Bridge Name, Bridge Opportunity: River Name, Bridge Opportunity: Research Initiative, Bridge Opportunity: Monitoring Campaign, Form: Form Name, Bridge Opportunity: GPS (Latitude), Bridge Opportunity: GPS (Longitude), Individuals Directly Served, Bridge Opportunity: Population Dataset URL, Bridge Opportunity: Population Estimate 2000m, Bridge Opportunity: Population Estimate 5000m, Community Served 1, Individuals served in Community 1, Community Served 2, Individuals served in Community 2, Community Served 3, Individuals served in Community 3, Community Served 4, Individuals served in Community 4, Community Served 5, Individuals served in Community 5, Community Served 6, Individuals Served in Community 6, Form: Created Date, Community Served 7, Individuals Served in Community 7, Community Served 8, Individuals Served in Community 8, Community Served 9, Individuals Served in Community 9, Community Served 10, Individuals Served in Community 10, Village List, Total Needs Assessment Pop]\n",
      "Index: []\n",
      "\n",
      "[0 rows x 45 columns]\n"
     ]
    }
   ],
   "source": [
    "# Filter bridges to those that have been completed\n",
    "completed_bridges = needs_assessment[needs_assessment['Bridge Opportunity: Stage'] == 'Complete'].copy()\n",
    "\n",
    "# Combine village names from six columns into one list per bridge\n",
    "village_columns = ['Community Served 1', 'Community Served 2', 'Community Served 3', 'Community Served 4', 'Community Served 5', 'Community Served 6']\n",
    "completed_bridges['Village List'] = completed_bridges[village_columns].apply(lambda row: [village for village in row if pd.notna(village)], axis=1)\n",
    "\n",
    "# Sum population counts for all villages served by each bridge\n",
    "population_columns = ['Individuals served in Community 1', 'Individuals served in Community 2',\n",
    "                     'Individuals served in Community 3', 'Individuals served in Community 4',\n",
    "                     'Individuals served in Community 5', 'Individuals Served in Community 6'] #note that case is different for community 6\n",
    "completed_bridges['Total Needs Assessment Pop'] = completed_bridges[population_columns].apply(lambda row: row.sum(), axis=1)\n",
    "\n",
    "# Display the results\n",
    "print(completed_bridges[['Village List', 'Total Needs Assessment Pop']].head())\n",
    "\n",
    "# Double-check summing - Display rows where the total sum does not match the sum of the six population columns\n",
    "mismatched_rows = completed_bridges[completed_bridges['Total Needs Assessment Pop'] != completed_bridges[population_columns].sum(axis=1)]\n",
    "print(f'\\nMismatched rows: {mismatched_rows}')"
   ]
  },
  {
   "cell_type": "markdown",
   "id": "5010cee9",
   "metadata": {},
   "source": [
    "Task 3: Create dataframe of communities included in needs assessments, where each row is a community (admin 5) and contains the community's associated population"
   ]
  },
  {
   "cell_type": "code",
   "execution_count": 18,
   "id": "1ccfbf1a",
   "metadata": {},
   "outputs": [
    {
     "name": "stdout",
     "output_type": "stream",
     "text": [
      "  Bridge Opportunity: CaseSafeID Bridge Opportunity: Project Code  \\\n",
      "0             006f100000a86CpAAI                          1007327   \n",
      "1             006f100000a86CpAAI                          1007327   \n",
      "2             006f100000a86CtAAI                          1007331   \n",
      "3             006f100000a86CtAAI                          1007331   \n",
      "4             006f100000efEkkAAE                          1014568   \n",
      "\n",
      "  Bridge Opportunity: Country Bridge Opportunity: Opportunity Name  \\\n",
      "0                      Rwanda            Rwanda - Gikana - 1007327   \n",
      "1                      Rwanda            Rwanda - Gikana - 1007327   \n",
      "2                      Rwanda        Rwanda - Nyamigende - 1007331   \n",
      "3                      Rwanda        Rwanda - Nyamigende - 1007331   \n",
      "4                      Rwanda      Rwanda - Nyirarukobwa - 1014568   \n",
      "\n",
      "  Bridge Opportunity: Stage Bridge Opportunity: Sub-Stage  \\\n",
      "0                  Rejected                     Technical   \n",
      "1                  Rejected                     Technical   \n",
      "2                  Rejected                           NaN   \n",
      "3                  Rejected                           NaN   \n",
      "4                  Rejected                     Technical   \n",
      "\n",
      "  Bridge Opportunity: Close Date Bridge Opportunity: Level 1 Government  \\\n",
      "0                       11/30/18                       Eastern Province   \n",
      "1                       11/30/18                       Eastern Province   \n",
      "2                       12/31/18                       Eastern Province   \n",
      "3                       12/31/18                       Eastern Province   \n",
      "4                        12/2/18                       Eastern Province   \n",
      "\n",
      "  Bridge Opportunity: Level 2 Government  \\\n",
      "0                               Bugesera   \n",
      "1                               Bugesera   \n",
      "2                               Bugesera   \n",
      "3                               Bugesera   \n",
      "4                               Bugesera   \n",
      "\n",
      "  Bridge Opportunity: Level 3 Government  ...  \\\n",
      "0                               Kabukuba  ...   \n",
      "1                               Kabukuba  ...   \n",
      "2                                   Juru  ...   \n",
      "3                                   Juru  ...   \n",
      "4                        Ntarama-Nyamata  ...   \n",
      "\n",
      "  Bridge Opportunity: Monitoring Campaign                  Form: Form Name  \\\n",
      "0                                     NaN   Project Assessment - 2018.5.14   \n",
      "1                                     NaN  Project Assessment - 2018.11.30   \n",
      "2                                     NaN   Project Assessment - 2018.5.14   \n",
      "3                                     NaN  Project Assessment - 2018.11.30   \n",
      "4                                     NaN  Project Assessment - 2018.11.29   \n",
      "\n",
      "  Bridge Opportunity: GPS (Latitude) Bridge Opportunity: GPS (Longitude)  \\\n",
      "0                          -2.072628                           30.204381   \n",
      "1                          -2.072628                           30.204381   \n",
      "2                          -2.095311                           30.245678   \n",
      "3                          -2.095311                           30.245678   \n",
      "4                          -2.105740                           30.087112   \n",
      "\n",
      "  Individuals Directly Served  \\\n",
      "0                         NaN   \n",
      "1                         NaN   \n",
      "2                         NaN   \n",
      "3                         NaN   \n",
      "4                         NaN   \n",
      "\n",
      "          Bridge Opportunity: Population Dataset URL  \\\n",
      "0  http://www.worldpop.org.uk/data/summary?doi=10...   \n",
      "1  http://www.worldpop.org.uk/data/summary?doi=10...   \n",
      "2  http://www.worldpop.org.uk/data/summary?doi=10...   \n",
      "3  http://www.worldpop.org.uk/data/summary?doi=10...   \n",
      "4  http://www.worldpop.org.uk/data/summary?doi=10...   \n",
      "\n",
      "   Bridge Opportunity: Population Estimate 2000m  Row ID    Community Column  \\\n",
      "0                                         2374.0       0  Community Served 1   \n",
      "1                                         2374.0       1  Community Served 1   \n",
      "2                                         2731.0       2  Community Served 1   \n",
      "3                                         2731.0       3  Community Served 1   \n",
      "4                                         1585.0       4  Community Served 1   \n",
      "\n",
      "  Community Name  \n",
      "0         Gikana  \n",
      "1            NaN  \n",
      "2     Nyamigende  \n",
      "3           Juru  \n",
      "4       Kanzenze  \n",
      "\n",
      "[5 rows x 24 columns]\n",
      "  Bridge Opportunity: CaseSafeID  Row ID          Individuals Served Column  \\\n",
      "0             006f100000a86CpAAI       0  Individuals served in Community 1   \n",
      "1             006f100000a86CpAAI       1  Individuals served in Community 1   \n",
      "2             006f100000a86CtAAI       2  Individuals served in Community 1   \n",
      "3             006f100000a86CtAAI       3  Individuals served in Community 1   \n",
      "4             006f100000efEkkAAE       4  Individuals served in Community 1   \n",
      "\n",
      "   Individuals Served  \n",
      "0               870.0  \n",
      "1                 0.0  \n",
      "2              1000.0  \n",
      "3              6000.0  \n",
      "4              6500.0  \n"
     ]
    }
   ],
   "source": [
    "# Add unique identifier to each row in needs assessment dataframe to allow for matching of communities and their population counts\n",
    "# Note: Cannot use CaseSafeID, as some CaseSafeIDs correspond to multiple rows in dataset\n",
    "needs_assessment['Row ID'] = needs_assessment.index\n",
    "\n",
    "# Select community columns\n",
    "community_columns = ['Community Served 1', 'Community Served 2', 'Community Served 3', \n",
    "                     'Community Served 4', 'Community Served 5', 'Community Served 6']\n",
    "\n",
    "# Melt the needs assessment dataframe to create a long format table, where each row corresponds to a community served by a bridge\n",
    "communities_served = needs_assessment.melt(\n",
    "    id_vars=needs_assessment.columns[:21].tolist() + ['Row ID'],  # Preserve all fields up to \"Bridge Opportunity: Population Estimate 5000m\" and include \"Row ID\"\n",
    "    value_vars=community_columns, \n",
    "    var_name='Community Column', \n",
    "    value_name='Community Name')\n",
    "\n",
    "# Display the first few rows of the melted dataframe\n",
    "print(communities_served.head())\n",
    "\n",
    "# Select individuals served count columns\n",
    "individuals_served_columns = ['Individuals served in Community 1', 'Individuals served in Community 2', \n",
    "                              'Individuals served in Community 3', 'Individuals served in Community 4', \n",
    "                              'Individuals served in Community 5', 'Individuals Served in Community 6']\n",
    "\n",
    "# Create a separate melted dataframe for individuals served counts\n",
    "individuals_served = needs_assessment.melt(\n",
    "    id_vars=['Bridge Opportunity: CaseSafeID', 'Row ID'],\n",
    "    value_vars=individuals_served_columns,\n",
    "    var_name='Individuals Served Column',\n",
    "    value_name='Individuals Served')\n",
    "\n",
    "# Display the first few rows of the melted individuals served dataframe\n",
    "print(individuals_served.head())"
   ]
  },
  {
   "cell_type": "code",
   "execution_count": 19,
   "id": "b119f380",
   "metadata": {},
   "outputs": [
    {
     "name": "stdout",
     "output_type": "stream",
     "text": [
      "  Bridge Opportunity: CaseSafeID_x Bridge Opportunity: Project Code  \\\n",
      "0               006f100000a86CpAAI                          1007327   \n",
      "2               006f100000a86CtAAI                          1007331   \n",
      "3               006f100000a86CtAAI                          1007331   \n",
      "4               006f100000efEkkAAE                          1014568   \n",
      "5               006f100000efEkpAAE                          1014569   \n",
      "\n",
      "  Bridge Opportunity: Country Bridge Opportunity: Opportunity Name  \\\n",
      "0                      Rwanda            Rwanda - Gikana - 1007327   \n",
      "2                      Rwanda        Rwanda - Nyamigende - 1007331   \n",
      "3                      Rwanda        Rwanda - Nyamigende - 1007331   \n",
      "4                      Rwanda      Rwanda - Nyirarukobwa - 1014568   \n",
      "5                      Rwanda            Rwanda - Kibaza - 1014569   \n",
      "\n",
      "  Bridge Opportunity: Stage Bridge Opportunity: Sub-Stage  \\\n",
      "0                  Rejected                     Technical   \n",
      "2                  Rejected                           NaN   \n",
      "3                  Rejected                           NaN   \n",
      "4                  Rejected                     Technical   \n",
      "5                  Rejected     Vehicular Bridge Required   \n",
      "\n",
      "  Bridge Opportunity: Close Date Bridge Opportunity: Level 1 Government  \\\n",
      "0                       11/30/18                       Eastern Province   \n",
      "2                       12/31/18                       Eastern Province   \n",
      "3                       12/31/18                       Eastern Province   \n",
      "4                        12/2/18                       Eastern Province   \n",
      "5                       12/31/18                       Eastern Province   \n",
      "\n",
      "  Bridge Opportunity: Level 2 Government  \\\n",
      "0                               Bugesera   \n",
      "2                               Bugesera   \n",
      "3                               Bugesera   \n",
      "4                               Bugesera   \n",
      "5                               Bugesera   \n",
      "\n",
      "  Bridge Opportunity: Level 3 Government  ... Individuals Directly Served  \\\n",
      "0                               Kabukuba  ...                         NaN   \n",
      "2                                   Juru  ...                         NaN   \n",
      "3                                   Juru  ...                         NaN   \n",
      "4                        Ntarama-Nyamata  ...                         NaN   \n",
      "5                                    NaN  ...                         NaN   \n",
      "\n",
      "          Bridge Opportunity: Population Dataset URL  \\\n",
      "0  http://www.worldpop.org.uk/data/summary?doi=10...   \n",
      "2  http://www.worldpop.org.uk/data/summary?doi=10...   \n",
      "3  http://www.worldpop.org.uk/data/summary?doi=10...   \n",
      "4  http://www.worldpop.org.uk/data/summary?doi=10...   \n",
      "5  http://www.worldpop.org.uk/data/summary?doi=10...   \n",
      "\n",
      "  Bridge Opportunity: Population Estimate 2000m Row ID    Community Column  \\\n",
      "0                                        2374.0      0  Community Served 1   \n",
      "2                                        2731.0      2  Community Served 1   \n",
      "3                                        2731.0      3  Community Served 1   \n",
      "4                                        1585.0      4  Community Served 1   \n",
      "5                                        4708.0      5  Community Served 1   \n",
      "\n",
      "  Community Name  Community Number  Bridge Opportunity: CaseSafeID_y  \\\n",
      "0         Gikana                 1                006f100000a86CpAAI   \n",
      "2     Nyamigende                 1                006f100000a86CtAAI   \n",
      "3           Juru                 1                006f100000a86CtAAI   \n",
      "4       Kanzenze                 1                006f100000efEkkAAE   \n",
      "5        Kindama                 1                006f100000efEkpAAE   \n",
      "\n",
      "           Individuals Served Column Individuals Served  \n",
      "0  Individuals served in Community 1              870.0  \n",
      "2  Individuals served in Community 1             1000.0  \n",
      "3  Individuals served in Community 1             6000.0  \n",
      "4  Individuals served in Community 1             6500.0  \n",
      "5  Individuals served in Community 1               55.0  \n",
      "\n",
      "[5 rows x 28 columns]\n"
     ]
    }
   ],
   "source": [
    "# Create new columns for community number in both dataframes (extracting the numbers from the dataframes' respective community columns)\n",
    "communities_served['Community Number'] = communities_served['Community Column'].str.extract(r'(\\d+)').astype(str)\n",
    "individuals_served['Community Number'] = individuals_served['Individuals Served Column'].str.extract(r'(\\d+)').astype(str)\n",
    "\n",
    "# Merge the two dataframes on row ID and community number\n",
    "communities_served = communities_served.merge(\n",
    "    individuals_served,\n",
    "    on=['Row ID', 'Community Number'],\n",
    "    how='left')\n",
    "\n",
    "# Drop rows where 'Community Name' is NaN\n",
    "communities_served = communities_served.dropna(subset=['Community Name'])\n",
    "\n",
    "# Display the resulting table\n",
    "print(communities_served.head())"
   ]
  },
  {
   "cell_type": "markdown",
   "id": "41cab5db",
   "metadata": {},
   "source": [
    "Task 4: Join needs assessment communities with Rwanda admin boundaries\n",
    "\n",
    "| Admin level | Name in needs assessment                  | Name in admin boundaries |\n",
    "|-------------|-------------------------------------------|--------------------------|\n",
    "| 5           | Community Name                         | Name                     |\n",
    "| 4           | Bridge Opportunity: Level 4 Government | Cell                   |\n",
    "| 3           | Bridge Opportunity: Level 3 Government | Sector                 |\n",
    "| 2           | Bridge Opportunity: Level 2 Government | District               |\n",
    "| 1           | Bridge Opportunity: Level 1 Government | Province               |"
   ]
  },
  {
   "cell_type": "code",
   "execution_count": 20,
   "id": "7184beaa",
   "metadata": {},
   "outputs": [],
   "source": [
    "# Create copies of the communities served dataframe and village boundaries geodataframe\n",
    "communities_served_copy = communities_served.copy()\n",
    "village_boundaries_copy = Rwanda_village_boundaries.copy()\n",
    "\n",
    "# Rename columns in village boundaries geodataframe\n",
    "village_boundaries_copy = village_boundaries_copy.rename(columns={'Name': 'Admin 5',\n",
    "                                                                  'Cell': 'Admin 4',\n",
    "                                                                  'Sector': 'Admin 3',\n",
    "                                                                  'District': 'Admin 2',\n",
    "                                                                  'Province': 'Admin 1' })\n",
    "\n",
    "# Rename columns in communities served dataframe\n",
    "communities_served_copy = communities_served_copy.rename(columns={'Community Name': 'Admin 5',\n",
    "                                                                  'Bridge Opportunity: Level 4 Government': 'Admin 4',\n",
    "                                                                  'Bridge Opportunity: Level 3 Government': 'Admin 3',\n",
    "                                                                  'Bridge Opportunity: Level 2 Government': 'Admin 2',\n",
    "                                                                  'Bridge Opportunity: Level 1 Government': 'Admin 1'})"
   ]
  },
  {
   "cell_type": "markdown",
   "id": "fa5b73d9",
   "metadata": {},
   "source": [
    "Combo 1: Joining on admin 3-5"
   ]
  },
  {
   "cell_type": "code",
   "execution_count": 26,
   "id": "7df4862d",
   "metadata": {},
   "outputs": [
    {
     "name": "stdout",
     "output_type": "stream",
     "text": [
      "Number of matched communities:\n",
      "15021\n",
      "Number of unmatched communities:\n",
      "3980\n"
     ]
    }
   ],
   "source": [
    "# Perform a join on admin 3-5\n",
    "join_combo_1 = village_boundaries_copy.merge(communities_served_copy, \n",
    "                                             on=['Admin 3', 'Admin 4', 'Admin 5'],\n",
    "                                             how='left')\n",
    "\n",
    "# Identify rows in the communities served dataframe that were not matched in the join\n",
    "unmatched_communities_combo_1 = communities_served_copy[~communities_served_copy['Admin 3'].isin(join_combo_1['Admin 3']) | \n",
    "                                                        ~communities_served_copy['Admin 4'].isin(join_combo_1['Admin 4']) | \n",
    "                                                        ~communities_served_copy['Admin 5'].isin(join_combo_1['Admin 5'])]\n",
    "\n",
    "# Print number of matched & unmatched communities\n",
    "print(f'Number of matched communities:\\n{join_combo_1.shape[0]}')\n",
    "print(f'Number of unmatched communities:\\n{unmatched_communities_combo_1.shape[0]}')"
   ]
  },
  {
   "cell_type": "markdown",
   "id": "97b565a7",
   "metadata": {},
   "source": [
    "Combo 2: Joining on admin 3, 5"
   ]
  },
  {
   "cell_type": "code",
   "execution_count": 27,
   "id": "0f7457ba",
   "metadata": {},
   "outputs": [
    {
     "name": "stdout",
     "output_type": "stream",
     "text": [
      "Number of matched communities:\n",
      "15561\n",
      "Number of unmatched communities:\n",
      "2475\n"
     ]
    }
   ],
   "source": [
    "# Perform a join on admin 3, 5\n",
    "join_combo_2 = village_boundaries_copy.merge(communities_served_copy, \n",
    "                                             on=['Admin 3', 'Admin 5'],\n",
    "                                             how='left')\n",
    "\n",
    "# Identify rows in the communities served dataframe that were not matched in the join\n",
    "unmatched_communities_combo_2 = communities_served_copy[~communities_served_copy['Admin 3'].isin(join_combo_2['Admin 3']) | \n",
    "                                                        ~communities_served_copy['Admin 5'].isin(join_combo_2['Admin 5'])]\n",
    "\n",
    "# Print number of matched & unmatched communities\n",
    "print(f'Number of matched communities:\\n{join_combo_2.shape[0]}')\n",
    "print(f'Number of unmatched communities:\\n{unmatched_communities_combo_2.shape[0]}')"
   ]
  },
  {
   "cell_type": "markdown",
   "id": "ce27c98a",
   "metadata": {},
   "source": [
    "Combo 3: Joining on admin 2-3, 5"
   ]
  },
  {
   "cell_type": "code",
   "execution_count": 28,
   "id": "6daaee79",
   "metadata": {},
   "outputs": [
    {
     "name": "stdout",
     "output_type": "stream",
     "text": [
      "Number of matched communities:\n",
      "15547\n",
      "Number of unmatched communities:\n",
      "2475\n"
     ]
    }
   ],
   "source": [
    "# Perform a join on admin 3, 5\n",
    "join_combo_3 = village_boundaries_copy.merge(communities_served_copy, \n",
    "                                             on=['Admin 2', 'Admin 3', 'Admin 5'],\n",
    "                                             how='left')\n",
    "\n",
    "# Identify rows in the communities served dataframe that were not matched in the join\n",
    "unmatched_communities_combo_3 = communities_served_copy[~communities_served_copy['Admin 2'].isin(join_combo_3['Admin 2']) |\n",
    "                                                        ~communities_served_copy['Admin 3'].isin(join_combo_3['Admin 3']) | \n",
    "                                                        ~communities_served_copy['Admin 5'].isin(join_combo_3['Admin 5'])]\n",
    "\n",
    "# Print number of matched & unmatched communities\n",
    "print(f'Number of matched communities:\\n{join_combo_3.shape[0]}')\n",
    "print(f'Number of unmatched communities:\\n{unmatched_communities_combo_3.shape[0]}')"
   ]
  },
  {
   "cell_type": "markdown",
   "id": "2f7e4d25",
   "metadata": {},
   "source": [
    "Task 5: Explore results of the joins and identify unmatched communities\n",
    "\n",
    "Based on these three join combinations, joining on admin 3 & 5 and on admin 2-3 & 5 yields the highest number of matched communities. In both cases, the unmatched community count is 2475. Therefore, the next step is to identify the unmatched communities and determine if they can be matched to the admin boundaries.\n",
    "\n",
    "Going forward, we will use combo #3 since it includes the highest admin level included in the join combos (admin 2) and thus ensures greater accuracy in matching communities."
   ]
  },
  {
   "cell_type": "code",
   "execution_count": 30,
   "id": "889cab18",
   "metadata": {},
   "outputs": [
    {
     "name": "stdout",
     "output_type": "stream",
     "text": [
      "Number of Admin 2 mismatches: 0\n",
      "Number of Admin 3 mismatches: 1861\n",
      "Number of Admin 5 mismatches: 1045\n"
     ]
    }
   ],
   "source": [
    "# Check for admin 2 mismatches in the unmatched communities from combo 3\n",
    "admin_2_mismatches = unmatched_communities_combo_3[\n",
    "    ~unmatched_communities_combo_3['Admin 2'].isin(village_boundaries_copy['Admin 2'])\n",
    "]\n",
    "print(f\"Number of Admin 2 mismatches: {len(admin_2_mismatches)}\")\n",
    "\n",
    "# Check for admin 3 mismatches in the unmatched communities from combo 3\n",
    "admin_3_mismatches = unmatched_communities_combo_3[\n",
    "    ~unmatched_communities_combo_3['Admin 3'].isin(village_boundaries_copy['Admin 3'])\n",
    "]\n",
    "print(f\"Number of Admin 3 mismatches: {len(admin_3_mismatches)}\")\n",
    "\n",
    "# Check for admin 5 mismatches in the unmatched communities from combo 3\n",
    "admin_5_mismatches = unmatched_communities_combo_3[\n",
    "    ~unmatched_communities_combo_3['Admin 5'].isin(village_boundaries_copy['Admin 5'])\n",
    "]\n",
    "print(f\"Number of Admin 5 mismatches: {len(admin_5_mismatches)}\")"
   ]
  },
  {
   "cell_type": "code",
   "execution_count": 32,
   "id": "6bb092bf",
   "metadata": {},
   "outputs": [
    {
     "name": "stdout",
     "output_type": "stream",
     "text": [
      "Number of Admin 5 names that match Admin 3 names: 23\n",
      "Number of Admin 3 names that match Admin 5 names: 173\n"
     ]
    }
   ],
   "source": [
    "# Check whether the admin 5 names in the needs assessment data actually match with the admin 3 names in the admin boundaries data\n",
    "admin_5_to_3_matching = admin_5_mismatches[admin_5_mismatches['Admin 5'].isin(village_boundaries_copy['Admin 3'])]\n",
    "\n",
    "print(f\"Number of Admin 5 names that match Admin 3 names: {len(admin_5_to_3_matching)}\")\n",
    "\n",
    "# Check whether the admin 3 names in the needs assessment data actually match with the admin 5 names in the admin boundaries data\n",
    "admin_3_to_5_matching = admin_3_mismatches[admin_3_mismatches['Admin 3'].isin(village_boundaries_copy['Admin 5'])]\n",
    "\n",
    "print(f\"Number of Admin 3 names that match Admin 5 names: {len(admin_3_to_5_matching)}\")"
   ]
  }
 ],
 "metadata": {
  "kernelspec": {
   "display_name": "bridges",
   "language": "python",
   "name": "python3"
  },
  "language_info": {
   "codemirror_mode": {
    "name": "ipython",
    "version": 3
   },
   "file_extension": ".py",
   "mimetype": "text/x-python",
   "name": "python",
   "nbconvert_exporter": "python",
   "pygments_lexer": "ipython3",
   "version": "3.13.2"
  }
 },
 "nbformat": 4,
 "nbformat_minor": 5
}
