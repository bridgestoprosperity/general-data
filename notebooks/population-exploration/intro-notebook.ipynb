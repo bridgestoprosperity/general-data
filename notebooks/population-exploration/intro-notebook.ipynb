{
 "cells": [
  {
   "cell_type": "markdown",
   "metadata": {},
   "source": [
    "# Intro\n",
    "This is a notebook that introduces some of the data and concepts we will be working with"
   ]
  },
  {
   "cell_type": "code",
   "execution_count": null,
   "metadata": {},
   "outputs": [],
   "source": [
    "import pandas as pd\n",
    "import geopandas as gpd\n",
    "pd.set_option('display.max_columns', None)\n",
    "from shapely.geometry import Point, LineString, Polygon\n",
    "import rasterio\n",
    "from rasterio.plot import show\n",
    "import os"
   ]
  },
  {
   "cell_type": "markdown",
   "metadata": {},
   "source": [
    "## Paths to some of the data"
   ]
  },
  {
   "cell_type": "code",
   "execution_count": null,
   "metadata": {},
   "outputs": [],
   "source": [
    "path = \"../../synced-data/population-exploration/\"\n",
    "\n",
    "village_boundaries_filename = os.path.join(path,\"Rwanda Village Boundaries/Village.shp\")\n",
    "\n",
    "highway_primary_filename = os.path.join(path, \"rwanda_highway-primary.geojson\")\n",
    "highway_residential_filename = os.path.join(path, \"rwanda_highway-residential.geojson\")\n",
    "highway_secondary_filename = os.path.join(path, \"rwanda_highway-secondary.geojson\")\n",
    "highway_tertiary_filename = os.path.join(path, \"rwanda_highway-tertiary.geojson\")\n",
    "highway_trunk_filename = os.path.join(path, \"rwanda_highway-trunk.geojson\")\n",
    "highway_unclassified_filename = os.path.join(path, \"rwanda_highway-unclassified.geojson\")\n",
    "\n",
    "rwa_pop_2020_filename = os.path.join(path, \"rwa_ppp_2020.tif\")\n",
    "\n"
   ]
  },
  {
   "cell_type": "markdown",
   "metadata": {},
   "source": [
    "## Reading and Visualizing some of the data"
   ]
  },
  {
   "cell_type": "code",
   "execution_count": null,
   "metadata": {},
   "outputs": [],
   "source": [
    "village_boundaries = gpd.read_file(os.path.join(path, village_boundaries_filename))\n",
    "village_boundaries"
   ]
  },
  {
   "cell_type": "code",
   "execution_count": null,
   "metadata": {},
   "outputs": [],
   "source": [
    "village_boundaries.explore()"
   ]
  },
  {
   "cell_type": "code",
   "execution_count": null,
   "metadata": {},
   "outputs": [],
   "source": [
    "highway_trunk = gpd.read_file(os.path.join(path, highway_trunk_filename))\n",
    "highway_trunk.explore()"
   ]
  },
  {
   "cell_type": "code",
   "execution_count": null,
   "metadata": {},
   "outputs": [],
   "source": [
    "rwa_pop_2020 = rasterio.open(rwa_pop_2020_filename)\n",
    "show(rwa_pop_2020)\n"
   ]
  }
 ],
 "metadata": {
  "kernelspec": {
   "display_name": "geo",
   "language": "python",
   "name": "python3"
  },
  "language_info": {
   "codemirror_mode": {
    "name": "ipython",
    "version": 3
   },
   "file_extension": ".py",
   "mimetype": "text/x-python",
   "name": "python",
   "nbconvert_exporter": "python",
   "pygments_lexer": "ipython3",
   "version": "3.10.10"
  }
 },
 "nbformat": 4,
 "nbformat_minor": 2
}
