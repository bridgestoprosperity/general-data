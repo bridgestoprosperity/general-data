{
 "cells": [
  {
   "cell_type": "markdown",
   "metadata": {},
   "source": [
    "# Intro\n",
    "This is a notebook that introduces some of the data and concepts we will be working with"
   ]
  },
  {
   "cell_type": "code",
   "execution_count": null,
   "metadata": {},
   "outputs": [],
   "source": [
    "import pandas as pd\n",
    "import geopandas as gpd\n",
    "pd.set_option('display.max_columns', None)\n",
    "from shapely.geometry import Point, LineString, Polygon\n",
    "import rasterio\n",
    "from rasterio.plot import show\n",
    "from rasterio.mask import mask\n",
    "import os"
   ]
  },
  {
   "cell_type": "markdown",
   "metadata": {},
   "source": [
    "## Paths to some of the data"
   ]
  },
  {
   "cell_type": "code",
   "execution_count": null,
   "metadata": {},
   "outputs": [],
   "source": [
    "path = \"../../synced-data/population-exploration/\"\n",
    "\n",
    "village_boundaries_filename = os.path.join(path,\"Rwanda Village Boundaries/Village.shp\")\n",
    "\n",
    "highway_primary_filename = os.path.join(path, \"rwanda_highway-primary.geojson\")\n",
    "highway_residential_filename = os.path.join(path, \"rwanda_highway-residential.geojson\")\n",
    "highway_secondary_filename = os.path.join(path, \"rwanda_highway-secondary.geojson\")\n",
    "highway_tertiary_filename = os.path.join(path, \"rwanda_highway-tertiary.geojson\")\n",
    "highway_trunk_filename = os.path.join(path, \"rwanda_highway-trunk.geojson\")\n",
    "highway_unclassified_filename = os.path.join(path, \"rwanda_highway-unclassified.geojson\")\n",
    "\n",
    "rwa_pop_2020_filename = os.path.join(path, \"rwa_ppp_2020.tif\")\n",
    "\n"
   ]
  },
  {
   "cell_type": "markdown",
   "metadata": {},
   "source": [
    "## Reading and Visualizing some of the data"
   ]
  },
  {
   "cell_type": "code",
   "execution_count": null,
   "metadata": {},
   "outputs": [],
   "source": [
    "village_boundaries = gpd.read_file(os.path.join(path, village_boundaries_filename))\n",
    "village_boundaries"
   ]
  },
  {
   "cell_type": "code",
   "execution_count": null,
   "metadata": {},
   "outputs": [],
   "source": [
    "#village_boundaries.explore()"
   ]
  },
  {
   "cell_type": "code",
   "execution_count": null,
   "metadata": {},
   "outputs": [],
   "source": [
    "highway_trunk = gpd.read_file(os.path.join(path, highway_trunk_filename))\n",
    "#highway_trunk.explore()"
   ]
  },
  {
   "cell_type": "code",
   "execution_count": null,
   "metadata": {},
   "outputs": [],
   "source": [
    "rwa_pop_2020 = rasterio.open(rwa_pop_2020_filename)\n",
    "#show(rwa_pop_2020)\n"
   ]
  },
  {
   "cell_type": "code",
   "execution_count": null,
   "metadata": {},
   "outputs": [],
   "source": [
    "# Read in bridges CSV as dataframe and list column names\n",
    "bridges_filename = os.path.join(path, \"rct-all-bridges.csv\")\n",
    "bridges = pd.read_csv(os.path.join(path, bridges_filename))\n",
    "print(bridges.columns)"
   ]
  },
  {
   "cell_type": "code",
   "execution_count": null,
   "metadata": {},
   "outputs": [],
   "source": [
    "# Check CRS of village boundaries gdf\n",
    "print(f'The CRS of the village boundaries gdf is: {village_boundaries.crs}')\n",
    "\n",
    "# Create lat/lon variables\n",
    "lon = bridges['GPS (Longitude)']\n",
    "lat = bridges['GPS (Latitude)']\n",
    "\n",
    "# Create gdf of bridges data by converting lat/lon values to list of Shapely Point objects and copying CRS of village boundaries gdf\n",
    "bridges_points = gpd.GeoDataFrame(bridges, \n",
    "                                  geometry=gpd.points_from_xy(x=lon, y=lat), \n",
    "                                  crs='EPSG:4326')\n",
    "\n",
    "# Set CRS of bridges gdf to CRS of village boundaries gdf\n",
    "bridges_points.to_crs(village_boundaries.crs, inplace=True)\n",
    "\n",
    "# Check that reprojection was successful\n",
    "print(f'The CRS of the bridges gdf is: {bridges_points.crs}')\n",
    "\n",
    "# Visualize bridges point data\n",
    "bridges_points.explore()"
   ]
  },
  {
   "cell_type": "code",
   "execution_count": null,
   "metadata": {},
   "outputs": [],
   "source": [
    "# Check linear unit of projection\n",
    "print(bridges_points.crs.axis_info)\n",
    "\n",
    "# Create 2 km buffers around bridges\n",
    "buf = bridges_points.buffer(distance=2000)\n",
    "\n",
    "# Add bridges point attribute information to buffers\n",
    "bridges_buffers = bridges_points.copy()\n",
    "bridges_buffers['geometry'] = buf\n",
    "\n",
    "# Check whether attribute information copied over correctly\n",
    "bridges_buffers.head(3)\n",
    "\n",
    "# Visualize buffers\n",
    "# bridges_buffers.explore()"
   ]
  },
  {
   "cell_type": "code",
   "execution_count": null,
   "metadata": {},
   "outputs": [],
   "source": [
    "# Create list to store new combined geometries\n",
    "merged_buffers = []\n",
    "\n",
    "# Iterate through each buffer polygon in bridges_buffers\n",
    "for idx, buffer in bridges_buffers.iterrows():\n",
    "    # Find villages that intersect with this buffer\n",
    "    intersecting_villages = village_boundaries[village_boundaries.intersects(buffer['geometry'])]\n",
    "    \n",
    "    # Combine the buffer geometry with the intersecting villages' geometries\n",
    "    combined_geom = buffer['geometry'].union(intersecting_villages.geometry.union_all())\n",
    "    \n",
    "    # Append to the list of merged buffers\n",
    "    merged_buffers.append({\"geometry\": combined_geom})\n",
    "\n",
    "# Convert the merged buffers list to a new GeoDataFrame\n",
    "merged_buffers_gdf = gpd.GeoDataFrame(merged_buffers, geometry=\"geometry\", crs=bridges_buffers.crs)\n",
    "\n",
    "# Merge attributes from the original bridges_buffers based on index\n",
    "merged_buffers_gdf = merged_buffers_gdf.merge(bridges_buffers.drop(columns='geometry'), left_index=True, right_index=True, how='left')\n",
    "\n",
    "# Check whether attribute information copied over correctly\n",
    "merged_buffers_gdf.head(3)\n",
    "\n",
    "# Visualize buffers\n",
    "merged_buffers_gdf.explore()"
   ]
  },
  {
   "cell_type": "code",
   "execution_count": null,
   "metadata": {},
   "outputs": [],
   "source": [
    "# Plot bridges, bridge buffers, and expanded buffers\n",
    "import matplotlib.pyplot as plt\n",
    "\n",
    "# Create the plot\n",
    "fig, ax = plt.subplots(figsize=(10, 10))\n",
    "\n",
    "# Plot the original 2 km buffers (buffer polygons)\n",
    "bridges_buffers.plot(ax=ax, color='green')\n",
    "\n",
    "# Plot the expanded buffers that include the intersecting village polygons\n",
    "merged_buffers_gdf.plot(ax=ax, color='blue', alpha=0.5)\n",
    "\n",
    "# Plot villages\n",
    "village_boundaries.plot(ax=ax, color='gray', alpha=0.5)\n",
    "\n",
    "# Set title and labels\n",
    "ax.set_title(\"Bridge Buffers and Expanded Buffers with Villages\")\n",
    "ax.set_xlabel(\"Longitude\")\n",
    "ax.set_ylabel(\"Latitude\")\n",
    "\n",
    "# Show the plot\n",
    "plt.show()"
   ]
  },
  {
   "cell_type": "code",
   "execution_count": null,
   "metadata": {},
   "outputs": [],
   "source": [
    "# # Query WorldPop API to determine population count within expanded buffers\n",
    "# import requests\n",
    "# from rasterio.mask import mask\n",
    "\n",
    "# # Step 1: Define API Query Parameters for Rwanda\n",
    "# worldpop_api_url = \"https://hub.worldpop.org/rest/data/pop\"\n",
    "# params = {\n",
    "#     \"iso3\": \"RWA\",  # Rwanda's ISO3 country code\n",
    "#     \"year\": 2020,  # Year of data\n",
    "#     \"resolution\": \"100m\",  # Resolution (depends on availability)\n",
    "#     \"unadj\": 0,  # Adjusted or unadjusted population\n",
    "#     \"type\": \"gpwv4\"  # WorldPop dataset type (check API for latest)\n",
    "# }\n",
    "\n",
    "# # Step 2: Query the WorldPop API\n",
    "# response = requests.get(worldpop_api_url, params=params)\n",
    "\n",
    "# if response.status_code == 200:\n",
    "#     worldpop_data = response.json()\n",
    "#     print(\"WorldPop API response received successfully.\")\n",
    "    \n",
    "# else:\n",
    "#     print(f\"Failed to fetch data: {response.status_code}\")\n",
    "#     print(\"Response Content:\", response.text)\n",
    "#     exit()\n",
    "\n",
    "# # Step 3: Extract the Population Raster URL\n",
    "# if \"data\" in worldpop_data and len(worldpop_data[\"data\"]) > 0:\n",
    "#     raster_url = worldpop_data[\"data\"][0][\"download\"]\n",
    "#     print(f\"Raster URL: {raster_url}\")\n",
    "# else:\n",
    "#     print(\"No population raster found for Rwanda.\")\n",
    "#     exit()\n",
    "\n",
    "# # Step 4: Download the Raster\n",
    "# raster_path = \"RWA_WorldPop_2020.tif\"\n",
    "# raster_response = requests.get(raster_url, stream=True)\n",
    "\n",
    "# if raster_response.status_code == 200:\n",
    "#     with open(raster_path, \"wb\") as f:\n",
    "#         for chunk in raster_response.iter_content(chunk_size=1024):\n",
    "#             f.write(chunk)\n",
    "#     print(\"Raster downloaded successfully.\")\n",
    "# else:\n",
    "#     print(\"Failed to download the raster.\")\n",
    "#     exit()"
   ]
  },
  {
   "cell_type": "code",
   "execution_count": null,
   "metadata": {},
   "outputs": [],
   "source": [
    "import numpy as np\n",
    "\n",
    "# Copy input geodataframe to avoid modifying the original\n",
    "expanded_buffers = merged_buffers_gdf.copy()\n",
    "\n",
    "# Clip raster and compute population sum\n",
    "def extract_population(raster_path, gdf):\n",
    "    with rasterio.open(raster_path) as src:\n",
    "        # Print information from raster profile\n",
    "        print(\"CRS:\", src.crs)\n",
    "        print(\"Raster shape:\", src.shape)\n",
    "        print(\"Number of Bands:\", src.count)\n",
    "        \n",
    "        # Ensure the GeoDataFrame is in the same CRS as the raster\n",
    "        gdf = gdf.to_crs(src.crs)\n",
    "\n",
    "        # Iterate over each expanded buffer polygon and extract population data\n",
    "        results = []\n",
    "        for idx, row in gdf.iterrows():\n",
    "            try:\n",
    "                out_image = mask(src, [row.geometry], crop=True)\n",
    "                out_image = out_image[0]\n",
    "\n",
    "                # Handle masked arrays and replace with 0\n",
    "                if np.ma.is_masked(out_image):\n",
    "                    out_image = out_image.filled(0)\n",
    "\n",
    "                # Remove negative values (e.g., nodata placeholders)\n",
    "                out_image = np.where(out_image < 0, 0, out_image)\n",
    "\n",
    "                total_population = np.sum(out_image)\n",
    "\n",
    "            except Exception as e:\n",
    "                print(f\"Error at village {idx}: {e}\")\n",
    "                total_population = 0  # or np.nan\n",
    "\n",
    "            results.append(total_population)\n",
    "\n",
    "        # Add population data to the GeoDataFrame\n",
    "        gdf[\"population\"] = results\n",
    "\n",
    "    return gdf\n",
    "\n",
    "# Apply function to extract population within each buffer\n",
    "expanded_buffers = extract_population(rwa_pop_2020_filename, expanded_buffers)\n",
    "\n",
    "# Save results\n",
    "# expanded_buffers.to_file(os.path.join(path, \"expanded_buffers_with_population.geojson\"), driver=\"GeoJSON\")\n",
    "\n",
    "# Print the first few rows\n",
    "print(expanded_buffers[[\"geometry\", \"population\"]].head())"
   ]
  },
  {
   "cell_type": "code",
   "execution_count": null,
   "metadata": {},
   "outputs": [],
   "source": [
    "expanded_buffers.head()\n",
    "#expanded_buffers.explore()"
   ]
  }
 ],
 "metadata": {
  "kernelspec": {
   "display_name": "bridges",
   "language": "python",
   "name": "python3"
  },
  "language_info": {
   "codemirror_mode": {
    "name": "ipython",
    "version": 3
   },
   "file_extension": ".py",
   "mimetype": "text/x-python",
   "name": "python",
   "nbconvert_exporter": "python",
   "pygments_lexer": "ipython3",
   "version": "3.13.2"
  }
 },
 "nbformat": 4,
 "nbformat_minor": 2
}
