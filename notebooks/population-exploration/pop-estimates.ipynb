{
 "cells": [
  {
   "cell_type": "markdown",
   "id": "31c462d3",
   "metadata": {},
   "source": [
    "### Workbook for estimating population counts in villages surrounding Rwanda bridges\n",
    "Week of April 16, 2025\n",
    "Author: Adele Birkenes"
   ]
  },
  {
   "cell_type": "markdown",
   "id": "b4f88002",
   "metadata": {},
   "source": [
    "Step 1: Import packages & read in data on village boundaries, population (WorldPop raster), and bridges"
   ]
  },
  {
   "cell_type": "code",
   "execution_count": null,
   "id": "f7e24f14",
   "metadata": {},
   "outputs": [],
   "source": [
    "import pandas as pd\n",
    "import geopandas as gpd\n",
    "pd.set_option('display.max_columns', None)\n",
    "from shapely.geometry import Point, LineString, Polygon\n",
    "import rasterio\n",
    "from rasterio.plot import show\n",
    "from rasterio.mask import mask\n",
    "import os\n",
    "import numpy as np"
   ]
  },
  {
   "cell_type": "code",
   "execution_count": null,
   "id": "1f8c3089",
   "metadata": {},
   "outputs": [],
   "source": [
    "path = \"../../synced-data/population-exploration/\"\n",
    "\n",
    "# Village boundaries (geodataframe)\n",
    "village_boundaries_filename = os.path.join(path,\"Rwanda Village Boundaries/Village.shp\")\n",
    "Rwanda_village_boundaries = gpd.read_file(os.path.join(path, village_boundaries_filename))\n",
    "\n",
    "# Bridges (dataframe)\n",
    "bridges_filename = os.path.join(path, \"rct-all-bridges.csv\")\n",
    "Rwanda_bridges = pd.read_csv(os.path.join(path, bridges_filename))\n",
    "\n",
    "# Population\n",
    "rwa_pop_2020_filename = os.path.join(path, \"rwa_ppp_2020.tif\")"
   ]
  },
  {
   "cell_type": "markdown",
   "id": "c6c67f34",
   "metadata": {},
   "source": [
    "Step 2: Convert bridges dataframe to geodataframe & match projection to that of village boundaries"
   ]
  },
  {
   "cell_type": "code",
   "execution_count": null,
   "id": "6021a059",
   "metadata": {},
   "outputs": [],
   "source": [
    "def map_bridges(bridges, village_boundaries):\n",
    "\n",
    "    # Check CRS of village boundaries gdf\n",
    "    print(f'The CRS of the village boundaries gdf is: {village_boundaries.crs}')\n",
    "\n",
    "    # Create lat/lon variables\n",
    "    lon = bridges['GPS (Longitude)']\n",
    "    lat = bridges['GPS (Latitude)']\n",
    "\n",
    "    # Create gdf of bridges data by converting lat/lon values to list of Shapely Point objects\n",
    "    bridge_points = gpd.GeoDataFrame(bridges, geometry=gpd.points_from_xy(x=lon, y=lat), crs='EPSG:4326')\n",
    "\n",
    "    # Set CRS of bridges gdf to CRS of village boundaries gdf\n",
    "    bridge_points.to_crs(village_boundaries.crs, inplace=True)\n",
    "\n",
    "    # Check that reprojection was successful\n",
    "    print(f'The CRS of the bridges gdf is: {bridge_points.crs}')\n",
    "\n",
    "    return bridge_points\n",
    "\n",
    "bridge_points = map_bridges(bridges = Rwanda_bridges, village_boundaries = Rwanda_village_boundaries)"
   ]
  },
  {
   "cell_type": "markdown",
   "id": "8d4f94fb",
   "metadata": {},
   "source": [
    "Step 3: Create buffers around bridges according to user's distance input"
   ]
  },
  {
   "cell_type": "code",
   "execution_count": null,
   "id": "5a5046c8",
   "metadata": {},
   "outputs": [],
   "source": [
    "def create_bridge_buffers(bridges, buffer_distance):\n",
    "\n",
    "    # Create buffers around bridges according to user's distance input\n",
    "    buf = bridges.geometry.buffer(distance=buffer_distance)\n",
    "\n",
    "    # Add bridges point attribute information to buffers\n",
    "    bridge_buffers = bridge_points.copy()\n",
    "    bridge_buffers['geometry'] = buf\n",
    "\n",
    "    return bridge_buffers\n",
    "\n",
    "bridge_buffers = create_bridge_buffers(bridges = bridge_points, buffer_distance = 2000)\n",
    "bridge_buffers.head()"
   ]
  },
  {
   "cell_type": "markdown",
   "id": "ef662df7",
   "metadata": {},
   "source": [
    "Step 4: Perform a spatial join to identify villages that overlap with the bridge buffers and return a df listing each village and its associated bridge IDs"
   ]
  },
  {
   "cell_type": "code",
   "execution_count": null,
   "id": "ba00a19c",
   "metadata": {},
   "outputs": [],
   "source": [
    "def associate_villages_with_bridges(village_gdf, bridge_buffers_gdf, village_id_col, bridge_id_col):\n",
    "\n",
    "    # Perform spatial join\n",
    "    joined = gpd.sjoin(village_gdf, bridge_buffers_gdf, how=\"inner\", predicate=\"intersects\")\n",
    "\n",
    "    # Group bridge IDs by village ID\n",
    "    grouped = joined.groupby(village_id_col)[bridge_id_col].apply(list).reset_index()\n",
    "\n",
    "    # Drop duplicates so each village ID appears only once\n",
    "    village_attrs = village_gdf.drop_duplicates(subset=village_id_col)\n",
    "\n",
    "    # Merge grouped bridge lists back into village data\n",
    "    result = village_attrs.merge(grouped, on=village_id_col, how='left')\n",
    "\n",
    "    # Drop villages with no nearby bridges (i.e. CaseSafeID is null)\n",
    "    result = result.dropna(subset=[bridge_id_col])\n",
    "\n",
    "    return result\n",
    "\n",
    "village_bridge_gdf = associate_villages_with_bridges(village_gdf = Rwanda_village_boundaries, \n",
    "                                                    bridge_buffers_gdf = bridge_buffers, \n",
    "                                                    village_id_col='Village_ID', \n",
    "                                                    bridge_id_col='CaseSafeID')\n",
    "\n",
    "village_bridge_gdf.explore()"
   ]
  },
  {
   "cell_type": "markdown",
   "id": "f6113a28",
   "metadata": {},
   "source": [
    "Step 5: Extract population data for each village from WorldPop raster"
   ]
  },
  {
   "cell_type": "code",
   "execution_count": null,
   "id": "5c96f216",
   "metadata": {},
   "outputs": [],
   "source": [
    "def extract_pop(population_raster, villages_near_bridges):\n",
    "    \n",
    "    # Load population raster and print information from profile\n",
    "    try:\n",
    "        with rasterio.open(population_raster) as src:\n",
    "            print(\"CRS:\", src.crs)\n",
    "            print(\"Raster shape:\", src.shape)\n",
    "            print(\"Number of Bands:\", src.count)\n",
    "    except Exception as e:\n",
    "        print(\"Error opening the raster:\", e)\n",
    "\n",
    "    # Reproject village_bridge gdf to match CRS of population raster (EPSG:4326)\n",
    "    villages_near_bridges = villages_near_bridges.to_crs(\"EPSG:4326\")\n",
    "\n",
    "    # Clip raster to each village and compute population sum\n",
    "    with rasterio.open(population_raster) as src:\n",
    "        results = []\n",
    "        for idx, row in villages_near_bridges.iterrows():\n",
    "            try:\n",
    "                out_image, out_transform = mask(src, [row.geometry], crop=True)\n",
    "                out_image = out_image[0]\n",
    "\n",
    "                # Handle masked arrays and replace with 0\n",
    "                if np.ma.is_masked(out_image):\n",
    "                    out_image = out_image.filled(0)\n",
    "\n",
    "                # Remove negative values (e.g., nodata placeholders)\n",
    "                out_image = np.where(out_image < 0, 0, out_image)\n",
    "\n",
    "                total_population = np.sum(out_image)\n",
    "\n",
    "            except Exception as e:\n",
    "                print(f\"Error at village {idx}: {e}\")\n",
    "                total_population = 0  # or np.nan\n",
    "\n",
    "            results.append(total_population)\n",
    "\n",
    "        # Add population data to the gdf\n",
    "        villages_near_bridges[\"WorldPop_Population\"] = results\n",
    "\n",
    "    return villages_near_bridges\n",
    "\n",
    "# Apply function to extract population within each village\n",
    "Rwanda_village_pop = extract_pop(population_raster=rwa_pop_2020_filename, \n",
    "                                 villages_near_bridges=village_bridge_gdf)\n",
    "\n",
    "Rwanda_village_pop.explore()"
   ]
  }
 ],
 "metadata": {
  "kernelspec": {
   "display_name": "bridges",
   "language": "python",
   "name": "python3"
  },
  "language_info": {
   "codemirror_mode": {
    "name": "ipython",
    "version": 3
   },
   "file_extension": ".py",
   "mimetype": "text/x-python",
   "name": "python",
   "nbconvert_exporter": "python",
   "pygments_lexer": "ipython3",
   "version": "3.13.2"
  }
 },
 "nbformat": 4,
 "nbformat_minor": 5
}
