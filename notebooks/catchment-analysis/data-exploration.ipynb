{
 "cells": [
  {
   "cell_type": "markdown",
   "id": "8a0815bb",
   "metadata": {},
   "source": [
    "### Workbook for exploring catchment survey data and replicating methods from 2021 paper\n",
    "Week of June 9, 2025\n",
    "<br>\n",
    "Author: Adele Birkenes"
   ]
  },
  {
   "cell_type": "markdown",
   "id": "d433f8cc",
   "metadata": {},
   "source": [
    "Objectives of 2021 study (pg. 5):\n",
    "- Understand the geographic area served by a completed bridge and validate the current needs assessment approach by comparing the geographic area served to the estimate of individuals directly served determined as part of the needs assessment\n",
    "- Understand the specific ways in which completed trailbridges serve as connections to key destinations"
   ]
  },
  {
   "cell_type": "markdown",
   "id": "59d006a6",
   "metadata": {},
   "source": [
    "The GIS methods in the paper are as follows:\n",
    "<br>\n",
    "5.1 Calculate summary statistics on number of individuals surveyed, demographics (age range and gender), and modes of transportation\n",
    "\n",
    "5.2 Calculate total catchment area of each site in sq km, and count number of unique villages served by the site. Compare number of unique villages to \"qualified home villages\" from the needs assessment.\n",
    "- Calculate the proportion of respondents reporting a given home village or destination\n",
    "- Calculate mean Euclidean distance from bridge to centroid of farthest home village with one or more surveys\n",
    "- Determine which of the home villages from the catchment surveys are considered \"qualified\" based on whether they meet the criteria for individuals directly served, based on reported purpose of travel\n",
    "\n",
    "Sample outputs:\n",
    "\n",
    "| Bridge Site | Catchment area, all home and destination villages | Catchment area (sq km) | Catchment area, qualified home villages | Qualified home villages (needs assessment) |\n",
    "|-------------|---------------------------------------------------|------------------------|------------------------------------------|---------------------------------------------|\n",
    "| Gahororo    | 27                                                | 44.6                   | 18                                       | 4                                           |\n",
    "\n",
    "<br>\n",
    "<img src=\"graphics/Figure4.png\" alt=\"Figure 4\" width=\"400\"/>\n",
    "<br>\n",
    "<img src=\"graphics/Figure5.png\" alt=\"Figure 5\" width=\"400\"/>\n",
    "\n",
    "5.3 Calculate summary statistics on purpose of travel, disaggregated by gender\n",
    "\n",
    "5.4 Calculate travel time for a one-way trip between home village and destination, disaggregated by purpose of travel and gender\n",
    "- Exclude multi-day trips"
   ]
  },
  {
   "cell_type": "code",
   "execution_count": 1,
   "id": "7e1a6267",
   "metadata": {},
   "outputs": [],
   "source": [
    "import pandas as pd\n",
    "import geopandas as gpd\n",
    "from shapely.geometry import Point, LineString, Polygon\n",
    "import os"
   ]
  },
  {
   "cell_type": "markdown",
   "id": "7bf18eaa",
   "metadata": {},
   "source": [
    "Task 1: Read in Rwanda bridge sites (df), catchment survey data (df), and village boundaries (gdf)"
   ]
  },
  {
   "cell_type": "code",
   "execution_count": 10,
   "id": "f1afe60a",
   "metadata": {},
   "outputs": [],
   "source": [
    "synced_catchment_path = \"../../synced-data/catchment-analysis\"\n",
    "synced_population_path = \"../../synced-data/population-exploration\"\n",
    "\n",
    "# Rwanda bridge sites\n",
    "Rwanda_bridges_fp = os.path.join(synced_catchment_path, \"Rwanda_catchment_bridge_sites.csv\")\n",
    "Rwanda_bridges = pd.read_csv(Rwanda_bridges_fp, encoding='ISO-8859-1') # Note: This encoding accommodates special characters)\n",
    "\n",
    "# Rwanda catchment survey data\n",
    "Rwanda_catchment_surveys_fp = os.path.join(synced_catchment_path, \"Rwanda_catchment_all_surveys.csv\")\n",
    "Rwanda_catchment_surveys = pd.read_csv(Rwanda_catchment_surveys_fp, encoding='ISO-8859-1')\n",
    "\n",
    "# Rwanda village boundaries\n",
    "Rwanda_village_boundaries_fp = os.path.join(synced_population_path, \"Rwanda Village Boundaries/Village.shp\")\n",
    "Rwanda_village_boundaries = gpd.read_file(Rwanda_village_boundaries_fp, encoding='ISO-8859-1')"
   ]
  },
  {
   "cell_type": "markdown",
   "id": "6cd50d76",
   "metadata": {},
   "source": [
    "Task 2: Convert bridge sites dataframe to geodataframe that has custom Rwanda TM CRS copied from village boundaries geodataframe"
   ]
  },
  {
   "cell_type": "code",
   "execution_count": 11,
   "id": "64670b3b",
   "metadata": {},
   "outputs": [
    {
     "name": "stdout",
     "output_type": "stream",
     "text": [
      "The CRS of the village boundaries gdf is: PROJCS[\"TM_Rwanda\",GEOGCS[\"ITRF2005\",DATUM[\"International_Terrestrial_Reference_Frame_2005\",SPHEROID[\"GRS 1980\",6378137,298.257222101,AUTHORITY[\"EPSG\",\"7019\"]],AUTHORITY[\"EPSG\",\"6896\"]],PRIMEM[\"Greenwich\",0],UNIT[\"Degree\",0.0174532925199433]],PROJECTION[\"Transverse_Mercator\"],PARAMETER[\"latitude_of_origin\",0],PARAMETER[\"central_meridian\",30],PARAMETER[\"scale_factor\",0.9999],PARAMETER[\"false_easting\",500000],PARAMETER[\"false_northing\",5000000],UNIT[\"metre\",1,AUTHORITY[\"EPSG\",\"9001\"]],AXIS[\"Easting\",EAST],AXIS[\"Northing\",NORTH]]\n",
      "The CRS of the bridges gdf is: PROJCS[\"TM_Rwanda\",GEOGCS[\"ITRF2005\",DATUM[\"International_Terrestrial_Reference_Frame_2005\",SPHEROID[\"GRS 1980\",6378137,298.257222101,AUTHORITY[\"EPSG\",\"7019\"]],AUTHORITY[\"EPSG\",\"6896\"]],PRIMEM[\"Greenwich\",0],UNIT[\"Degree\",0.0174532925199433]],PROJECTION[\"Transverse_Mercator\"],PARAMETER[\"latitude_of_origin\",0],PARAMETER[\"central_meridian\",30],PARAMETER[\"scale_factor\",0.9999],PARAMETER[\"false_easting\",500000],PARAMETER[\"false_northing\",5000000],UNIT[\"metre\",1,AUTHORITY[\"EPSG\",\"9001\"]],AXIS[\"Easting\",EAST],AXIS[\"Northing\",NORTH]]\n"
     ]
    }
   ],
   "source": [
    "# Convert bridge sites dataframe to geodataframe that has custom Rwanda TM CRS copied from village boundaries geodataframe\n",
    "def map_bridges(bridges, bridges_lat, bridges_lon, village_boundaries):\n",
    "\n",
    "    # Check CRS of village boundaries gdf\n",
    "    print(f'The CRS of the village boundaries gdf is: {village_boundaries.crs}')\n",
    "\n",
    "    # Create lat/lon variables\n",
    "    lon = bridges[bridges_lon]\n",
    "    lat = bridges[bridges_lat]\n",
    "\n",
    "    # Create gdf of bridges data by converting lat/lon values to list of Shapely Point objects\n",
    "    bridge_points = gpd.GeoDataFrame(bridges, geometry=gpd.points_from_xy(x=lon, y=lat), crs='EPSG:4326')\n",
    "\n",
    "    # Set CRS of bridges gdf to CRS of village boundaries gdf\n",
    "    bridge_points.to_crs(village_boundaries.crs, inplace=True)\n",
    "\n",
    "    # Check that reprojection was successful\n",
    "    print(f'The CRS of the bridges gdf is: {bridge_points.crs}')\n",
    "    \n",
    "    return bridge_points\n",
    "\n",
    "bridge_points = map_bridges(bridges = Rwanda_bridges,\n",
    "                            bridges_lat = \"Lat\",\n",
    "                            bridges_lon = \"Long\",\n",
    "                            village_boundaries = Rwanda_village_boundaries)"
   ]
  },
  {
   "cell_type": "markdown",
   "id": "f84c4bd3",
   "metadata": {},
   "source": [
    "Task 3: For each bridge site, calculate the number of catchment villages (home or destination). Calculate the proportion of respondents reporting a given home/destination village."
   ]
  },
  {
   "cell_type": "code",
   "execution_count": 12,
   "id": "217087ac",
   "metadata": {},
   "outputs": [
    {
     "name": "stdout",
     "output_type": "stream",
     "text": [
      "         Bridge Site  unique_home_and_destination_admin_codes\n",
      "0           Gahororo                                       32\n",
      "1             Gasasa                                       56\n",
      "2          Kanyarira                                       72\n",
      "3            Muhembe                                       55\n",
      "4           Muregeya                                       55\n",
      "5        Mutiwingoma                                       66\n",
      "6         Nyarusange                                       91\n",
      "7            Rugeshi                                       71\n",
      "8           Ruharazi                                       18\n",
      "9          Rwamamara                                       42\n",
      "10          Rwimvubu                                       57\n",
      "11  Uwumugeti-Kigusa                                       43\n"
     ]
    },
    {
     "name": "stderr",
     "output_type": "stream",
     "text": [
      "/var/folders/k3/5zvypv9111d6n3b8k2wb1bc00000gn/T/ipykernel_37068/2757783136.py:4: DeprecationWarning: DataFrameGroupBy.apply operated on the grouping columns. This behavior is deprecated, and in a future version of pandas the grouping columns will be excluded from the operation. Either pass `include_groups=False` to exclude the groupings or explicitly select the grouping columns after groupby to silence this warning.\n",
      "  result = catchment_surveys.groupby('Bridge Site').apply(\n"
     ]
    }
   ],
   "source": [
    "# For each bridge site, count the number of unique home and destination admin codes\n",
    "def count_catchment_villages_by_site(catchment_surveys):\n",
    "    # Group by 'Bridge Site' and count unique home and destination admin codes\n",
    "    result = catchment_surveys.groupby('Bridge Site').apply(\n",
    "        lambda group: pd.Series({\n",
    "            'unique_home_and_destination_admin_codes': pd.concat([\n",
    "                group['Home Village - Admin Code'].dropna(),\n",
    "                group['Destination - Admin Code'].dropna()\n",
    "            ]).nunique()\n",
    "        })\n",
    "    ).reset_index()\n",
    "    \n",
    "    return result\n",
    "\n",
    "# Apply the function\n",
    "catchment_village_counts = count_catchment_villages_by_site(Rwanda_catchment_surveys)\n",
    "print(catchment_village_counts)"
   ]
  },
  {
   "cell_type": "code",
   "execution_count": 14,
   "id": "a4896ef9",
   "metadata": {},
   "outputs": [
    {
     "name": "stdout",
     "output_type": "stream",
     "text": [
      "          Bridge Site Home Village - Admin Code  respondent_count\n",
      "0            Gahororo                  23140302                 2\n",
      "1            Gahororo                  23140303                11\n",
      "2            Gahororo                  23140501                 4\n",
      "3            Gahororo                  24010101                 1\n",
      "4            Gahororo                  24010202                 2\n",
      "..                ...                       ...               ...\n",
      "359  Uwumugeti-Kigusa                    251605                92\n",
      "360  Uwumugeti-Kigusa                  25160501                76\n",
      "361  Uwumugeti-Kigusa                  25160504                12\n",
      "362  Uwumugeti-Kigusa                  25160509                11\n",
      "363  Uwumugeti-Kigusa                  25160510                52\n",
      "\n",
      "[364 rows x 3 columns]\n"
     ]
    }
   ],
   "source": [
    "# Create a dataframe that counts the number of respondents who reported each home village for each bridge site\n",
    "def count_respondents_by_home_village(catchment_surveys):\n",
    "    # Group by 'Bridge Site' and 'Home Village - Admin Code', then count unique respondents\n",
    "    result = catchment_surveys.groupby(['Bridge Site', 'Home Village - Admin Code']).size().reset_index(name='respondent_count')\n",
    "    \n",
    "    return result\n",
    "\n",
    "# Apply the function\n",
    "respondent_counts_home_village = count_respondents_by_home_village(Rwanda_catchment_surveys)\n",
    "print(respondent_counts_home_village)"
   ]
  },
  {
   "cell_type": "code",
   "execution_count": 16,
   "id": "bc87c69b",
   "metadata": {},
   "outputs": [
    {
     "name": "stdout",
     "output_type": "stream",
     "text": [
      "          Bridge Site  Destination - Admin Code  respondent_count\n",
      "0            Gahororo                24010202.0                 6\n",
      "1            Gahororo                24030201.0                 2\n",
      "2            Gahororo                24030306.0               874\n",
      "3            Gahororo                24030307.0                 8\n",
      "4            Gahororo                24030501.0                49\n",
      "..                ...                       ...               ...\n",
      "289  Uwumugeti-Kigusa                25160503.0                 1\n",
      "290  Uwumugeti-Kigusa                25160504.0                17\n",
      "291  Uwumugeti-Kigusa                25160506.0                 1\n",
      "292  Uwumugeti-Kigusa                25160509.0                16\n",
      "293  Uwumugeti-Kigusa                25160510.0                35\n",
      "\n",
      "[294 rows x 3 columns]\n"
     ]
    }
   ],
   "source": [
    "# Create a dataframe that counts the number of respondents who reported each destination village for each bridge site\n",
    "def count_respondents_by_destination_village(catchment_surveys):\n",
    "    # Group by 'Bridge Site' and 'Destination Village - Admin Code', then count unique respondents\n",
    "    result = catchment_surveys.groupby(['Bridge Site', 'Destination - Admin Code']).size().reset_index(name='respondent_count')\n",
    "    \n",
    "    return result\n",
    "\n",
    "# Apply the function\n",
    "respondent_counts_destination_village = count_respondents_by_destination_village(Rwanda_catchment_surveys)\n",
    "print(respondent_counts_destination_village)"
   ]
  }
 ],
 "metadata": {
  "kernelspec": {
   "display_name": "bridges",
   "language": "python",
   "name": "python3"
  },
  "language_info": {
   "codemirror_mode": {
    "name": "ipython",
    "version": 3
   },
   "file_extension": ".py",
   "mimetype": "text/x-python",
   "name": "python",
   "nbconvert_exporter": "python",
   "pygments_lexer": "ipython3",
   "version": "3.13.2"
  }
 },
 "nbformat": 4,
 "nbformat_minor": 5
}
