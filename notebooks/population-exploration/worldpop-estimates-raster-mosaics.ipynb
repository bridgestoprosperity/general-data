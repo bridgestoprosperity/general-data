{
 "cells": [
  {
   "cell_type": "markdown",
   "id": "794cdc40",
   "metadata": {},
   "source": [
    "### Workbook for extracting WorldPop population estimates for varying bridge catchment distances, reading in WorldPop rasters for Rwanda and surrounding countries\n",
    "Week of May 12, 2025\n",
    "Author: Adele Birkenes"
   ]
  },
  {
   "cell_type": "code",
   "execution_count": 1,
   "id": "14e08526",
   "metadata": {},
   "outputs": [],
   "source": [
    "import pandas as pd\n",
    "import geopandas as gpd\n",
    "from shapely.geometry import Point, LineString, Polygon\n",
    "import rasterio\n",
    "from rasterio.mask import mask\n",
    "from rasterio.merge import merge\n",
    "from rasterio.plot import show\n",
    "from rasterio.warp import calculate_default_transform, reproject, Resampling\n",
    "import os\n",
    "import numpy as np\n",
    "import matplotlib.pyplot as plt\n",
    "import folium\n",
    "from folium import GeoJson"
   ]
  },
  {
   "cell_type": "markdown",
   "id": "2b505fff",
   "metadata": {},
   "source": [
    "Task 1: Read in data on bridge sites and village boundaries\n",
    "\n",
    "Note: The village boundaries are not used in this analysis, but they contain the custom Rwanda Transverse Mercator projection that will be copied over to the bridge sites and WorldPop data"
   ]
  },
  {
   "cell_type": "code",
   "execution_count": 2,
   "id": "47c8adf8",
   "metadata": {},
   "outputs": [],
   "source": [
    "synced_path = \"../../synced-data/population-exploration/\"\n",
    "unsynced_path = \"../../unsynced-data\"\n",
    "\n",
    "# Village boundaries (geodataframe)\n",
    "village_boundaries_fp = os.path.join(synced_path,\"Rwanda Village Boundaries/Village.shp\")\n",
    "Rwanda_village_boundaries = gpd.read_file(village_boundaries_fp)\n",
    "\n",
    "# Bridge sites (dataframe)\n",
    "bridge_sites_fp = os.path.join(synced_path, \"Rwanda Sites with All Population Fields_Exported 2025.04.11.csv\")\n",
    "bridge_sites = pd.read_csv(bridge_sites_fp, encoding='ISO-8859-1') # Note: This encoding accommodates special characters"
   ]
  },
  {
   "cell_type": "code",
   "execution_count": 3,
   "id": "34f5c99b",
   "metadata": {},
   "outputs": [
    {
     "name": "stdout",
     "output_type": "stream",
     "text": [
      "The CRS of the village boundaries gdf is: PROJCS[\"TM_Rwanda\",GEOGCS[\"ITRF2005\",DATUM[\"International_Terrestrial_Reference_Frame_2005\",SPHEROID[\"GRS 1980\",6378137,298.257222101,AUTHORITY[\"EPSG\",\"7019\"]],AUTHORITY[\"EPSG\",\"6896\"]],PRIMEM[\"Greenwich\",0],UNIT[\"Degree\",0.0174532925199433]],PROJECTION[\"Transverse_Mercator\"],PARAMETER[\"latitude_of_origin\",0],PARAMETER[\"central_meridian\",30],PARAMETER[\"scale_factor\",0.9999],PARAMETER[\"false_easting\",500000],PARAMETER[\"false_northing\",5000000],UNIT[\"metre\",1,AUTHORITY[\"EPSG\",\"9001\"]],AXIS[\"Easting\",EAST],AXIS[\"Northing\",NORTH]]\n",
      "The CRS of the bridges gdf is: PROJCS[\"TM_Rwanda\",GEOGCS[\"ITRF2005\",DATUM[\"International_Terrestrial_Reference_Frame_2005\",SPHEROID[\"GRS 1980\",6378137,298.257222101,AUTHORITY[\"EPSG\",\"7019\"]],AUTHORITY[\"EPSG\",\"6896\"]],PRIMEM[\"Greenwich\",0],UNIT[\"Degree\",0.0174532925199433]],PROJECTION[\"Transverse_Mercator\"],PARAMETER[\"latitude_of_origin\",0],PARAMETER[\"central_meridian\",30],PARAMETER[\"scale_factor\",0.9999],PARAMETER[\"false_easting\",500000],PARAMETER[\"false_northing\",5000000],UNIT[\"metre\",1,AUTHORITY[\"EPSG\",\"9001\"]],AXIS[\"Easting\",EAST],AXIS[\"Northing\",NORTH]]\n"
     ]
    }
   ],
   "source": [
    "# Convert bridge sites dataframe to geodataframe that has custom Rwanda TM CRS copied from village boundaries geodataframe\n",
    "def map_bridges(bridges, bridges_lat, bridges_lon, village_boundaries):\n",
    "\n",
    "    # Check CRS of village boundaries gdf\n",
    "    print(f'The CRS of the village boundaries gdf is: {village_boundaries.crs}')\n",
    "\n",
    "    # Create lat/lon variables\n",
    "    lon = bridges[bridges_lon]\n",
    "    lat = bridges[bridges_lat]\n",
    "\n",
    "    # Create gdf of bridges data by converting lat/lon values to list of Shapely Point objects\n",
    "    bridge_points = gpd.GeoDataFrame(bridges, geometry=gpd.points_from_xy(x=lon, y=lat), crs='EPSG:4326')\n",
    "\n",
    "    # Set CRS of bridges gdf to CRS of village boundaries gdf\n",
    "    bridge_points.to_crs(village_boundaries.crs, inplace=True)\n",
    "\n",
    "    # Check that reprojection was successful\n",
    "    print(f'The CRS of the bridges gdf is: {bridge_points.crs}')\n",
    "    \n",
    "    return bridge_points\n",
    "\n",
    "bridge_points = map_bridges(bridges = bridge_sites,\n",
    "                            bridges_lat = \"Bridge Opportunity: GPS (Latitude)\",\n",
    "                            bridges_lon = \"Bridge Opportunity: GPS (Longitude)\",\n",
    "                            village_boundaries = Rwanda_village_boundaries)"
   ]
  },
  {
   "cell_type": "markdown",
   "id": "12b9cda2",
   "metadata": {},
   "source": [
    "Task 2: Read in WorldPop rasters for Rwanda and surrounding countries. Mosaic rasters and reproject to custom Rwanda Transverse Mercator projection."
   ]
  },
  {
   "cell_type": "code",
   "execution_count": 20,
   "id": "adb843ac",
   "metadata": {},
   "outputs": [],
   "source": [
    "# Create list of WorldPop raster files for Rwanda and surrounding countries: DRC, Uganda, Tanzania, and Burundi\n",
    "countries = [\"bdi\", \"cod\", \"rwa\", \"uga\", \"tza\"]\n",
    "WorldPop_2020 = [os.path.join(unsynced_path, f\"WorldPop_Rasters_2020.nosync/{country}_ppp_2020_UNadj_constrained.tif\") for country in countries]\n",
    "\n",
    "# Mosaic WorldPop rasters in list\n",
    "WorldPop_2020_mosaic, mosaic_transform = merge([rasterio.open(raster) for raster in WorldPop_2020])\n",
    "\n",
    "# Specify output file path for the mosaic\n",
    "mosaic_fp = os.path.join(unsynced_path, \"WorldPop_Rasters_2020.nosync/worldpop_2020_mosaic.tif\")\n",
    "\n",
    "# Calculate width and height from the shape of the mosaic array\n",
    "height, width = WorldPop_2020_mosaic.shape[1], WorldPop_2020_mosaic.shape[2]\n",
    "\n",
    "# Save the mosaic to a GeoTIFF file\n",
    "with rasterio.open(\n",
    "    mosaic_fp, \n",
    "    'w', \n",
    "    driver='GTiff', \n",
    "    height=height, \n",
    "    width=width, \n",
    "    count=1, \n",
    "    dtype=WorldPop_2020_mosaic.dtype, \n",
    "    crs=\"EPSG:4326\",\n",
    "    transform=mosaic_transform\n",
    ") as dst:\n",
    "    dst.write(WorldPop_2020_mosaic[0], 1)"
   ]
  },
  {
   "cell_type": "code",
   "execution_count": null,
   "id": "95c688e0",
   "metadata": {},
   "outputs": [
    {
     "name": "stdout",
     "output_type": "stream",
     "text": [
      "The starting CRS of the raster is: EPSG:4326\n",
      "The target CRS from villages is: PROJCS[\"TM_Rwanda\",GEOGCS[\"ITRF2005\",DATUM[\"International_Terrestrial_Reference_Frame_2005\",SPHEROID[\"GRS 1980\",6378137,298.257222101,AUTHORITY[\"EPSG\",\"7019\"]],AUTHORITY[\"EPSG\",\"6896\"]],PRIMEM[\"Greenwich\",0],UNIT[\"Degree\",0.0174532925199433]],PROJECTION[\"Transverse_Mercator\"],PARAMETER[\"latitude_of_origin\",0],PARAMETER[\"central_meridian\",30],PARAMETER[\"scale_factor\",0.9999],PARAMETER[\"false_easting\",500000],PARAMETER[\"false_northing\",5000000],UNIT[\"metre\",1,AUTHORITY[\"EPSG\",\"9001\"]],AXIS[\"Easting\",EAST],AXIS[\"Northing\",NORTH]]\n",
      "Reprojected raster saved to: ../../unsynced-data/WorldPop_Rasters_2020.nosync/reprojected_worldpop_2020_mosaic.tif\n"
     ]
    }
   ],
   "source": [
    "# Reproject raster mosaic to custom Rwanda TM CRS\n",
    "def reproject_raster(population_raster_file, villages_boundaries):\n",
    "    \n",
    "    # Open the raster file\n",
    "    with rasterio.open(population_raster_file) as src:\n",
    "        src_crs = src.crs\n",
    "        dst_crs = villages_boundaries.crs\n",
    "        print(f'The starting CRS of the raster is: {src_crs}')\n",
    "        print(f'The target CRS from villages is: {dst_crs}')\n",
    "\n",
    "        # Calculate the transform, width, height for the destination raster\n",
    "        transform, width, height = calculate_default_transform(\n",
    "            src.crs, dst_crs, src.width, src.height, *src.bounds\n",
    "        )\n",
    "\n",
    "        # Update metadata\n",
    "        meta = src.meta.copy()\n",
    "        meta.update({\n",
    "            'crs': dst_crs,\n",
    "            'transform': transform,\n",
    "            'width': width,\n",
    "            'height': height\n",
    "        })\n",
    "\n",
    "        # Prepare an empty destination array\n",
    "        dest = np.empty((src.count, height, width), dtype=src.dtypes[0])\n",
    "\n",
    "        # Reproject\n",
    "        for i in range(1, src.count + 1):\n",
    "            reproject(\n",
    "                source=rasterio.band(src, i),\n",
    "                destination=dest[i - 1],\n",
    "                src_transform=src.transform,\n",
    "                src_crs=src.crs,\n",
    "                dst_transform=transform,\n",
    "                dst_crs=dst_crs,\n",
    "                resampling=Resampling.nearest\n",
    "            )\n",
    "\n",
    "    # Save to file\n",
    "    reprojected_raster_file = os.path.join(unsynced_path, \"WorldPop_Rasters_2020.nosync/reprojected_worldpop_2020_mosaic.tif\")\n",
    "    with rasterio.open(reprojected_raster_file, 'w', **meta) as dst:\n",
    "        dst.write(dest)\n",
    "\n",
    "    print(f'Reprojected raster saved to: {reprojected_raster_file}')\n",
    "    \n",
    "    return dest, transform, meta\n",
    "\n",
    "reprojected_worldpop = reproject_raster(population_raster_file=mosaic_fp,\n",
    "                                        villages_boundaries=Rwanda_village_boundaries)"
   ]
  },
  {
   "cell_type": "markdown",
   "id": "b8062337",
   "metadata": {},
   "source": [
    "Task 3: Create 1, 1.5, 2, and 3 km buffers around each bridge site"
   ]
  },
  {
   "cell_type": "code",
   "execution_count": 4,
   "id": "467d7632",
   "metadata": {},
   "outputs": [],
   "source": [
    "def create_bridge_buffers(bridges, buffer_distance):\n",
    "\n",
    "    # Create buffers around bridges according to user's distance input\n",
    "    buf = bridges.geometry.buffer(distance=buffer_distance)\n",
    "\n",
    "    # Add bridges point attribute information to buffers\n",
    "    bridge_buffers = bridge_points.copy()\n",
    "    bridge_buffers['geometry'] = buf\n",
    "\n",
    "    return bridge_buffers\n",
    "\n",
    "bridge_buffers_1km = create_bridge_buffers(bridges = bridge_points, buffer_distance = 1000)\n",
    "bridge_buffers_1_5km = create_bridge_buffers(bridges = bridge_points, buffer_distance = 1500)\n",
    "bridge_buffers_2km = create_bridge_buffers(bridges = bridge_points, buffer_distance = 2000)\n",
    "bridge_buffers_3km = create_bridge_buffers(bridges = bridge_points, buffer_distance = 3000)"
   ]
  },
  {
   "cell_type": "code",
   "execution_count": 17,
   "id": "62a109ae",
   "metadata": {},
   "outputs": [
    {
     "data": {
      "text/plain": [
       "<folium.map.LayerControl at 0x150a13ed0>"
      ]
     },
     "execution_count": 17,
     "metadata": {},
     "output_type": "execute_result"
    }
   ],
   "source": [
    "# Create a base map\n",
    "buffer_map = folium.Map(location=[-2.0, 30.0], zoom_start=8)\n",
    "\n",
    "# Map bridge points and buffers\n",
    "GeoJson(bridge_buffers_1km, name=\"1 km Buffers\").add_to(buffer_map)\n",
    "GeoJson(bridge_buffers_1_5km, name=\"1.5 km Buffers\").add_to(buffer_map)\n",
    "GeoJson(bridge_buffers_2km, name=\"2 km Buffers\").add_to(buffer_map)\n",
    "GeoJson(bridge_buffers_3km, name=\"3 km Buffers\").add_to(buffer_map)\n",
    "\n",
    "# Add layer control to toggle between layers\n",
    "folium.LayerControl().add_to(buffer_map)\n",
    "\n",
    "# Display the map\n",
    "#buffer_map"
   ]
  },
  {
   "cell_type": "markdown",
   "id": "e62780bb",
   "metadata": {},
   "source": [
    "Task 4: Extract population estimates from WorldPop raster for each buffer"
   ]
  },
  {
   "cell_type": "code",
   "execution_count": 34,
   "id": "97907d56",
   "metadata": {},
   "outputs": [
    {
     "name": "stdout",
     "output_type": "stream",
     "text": [
      "CRS: PROJCS[\"TM_Rwanda\",GEOGCS[\"ITRF2005\",DATUM[\"International_Terrestrial_Reference_Frame_2005\",SPHEROID[\"GRS 1980\",6378137,298.257222101,AUTHORITY[\"EPSG\",\"7019\"]],AUTHORITY[\"EPSG\",\"6896\"]],PRIMEM[\"Greenwich\",0],UNIT[\"degree\",0.0174532925199433,AUTHORITY[\"EPSG\",\"9122\"]]],PROJECTION[\"Transverse_Mercator\"],PARAMETER[\"latitude_of_origin\",0],PARAMETER[\"central_meridian\",30],PARAMETER[\"scale_factor\",0.9999],PARAMETER[\"false_easting\",500000],PARAMETER[\"false_northing\",5000000],UNIT[\"metre\",1,AUTHORITY[\"EPSG\",\"9001\"]],AXIS[\"Easting\",EAST],AXIS[\"Northing\",NORTH]]\n",
      "Raster shape: (23438, 34126)\n",
      "Number of Bands: 1\n",
      "Error at village 197: Input shapes do not overlap raster.\n",
      "Error at village 198: Input shapes do not overlap raster.\n",
      "Error at village 459: tuple index out of range\n",
      "Error at village 542: tuple index out of range\n",
      "Error at village 548: Input shapes do not overlap raster.\n",
      "Error at village 733: tuple index out of range\n",
      "Error at village 734: tuple index out of range\n",
      "Error at village 735: tuple index out of range\n",
      "Error at village 736: tuple index out of range\n",
      "Error at village 923: tuple index out of range\n",
      "Error at village 1077: tuple index out of range\n",
      "Error at village 1274: tuple index out of range\n",
      "Error at village 1370: tuple index out of range\n",
      "Error at village 1645: tuple index out of range\n",
      "CRS: PROJCS[\"TM_Rwanda\",GEOGCS[\"ITRF2005\",DATUM[\"International_Terrestrial_Reference_Frame_2005\",SPHEROID[\"GRS 1980\",6378137,298.257222101,AUTHORITY[\"EPSG\",\"7019\"]],AUTHORITY[\"EPSG\",\"6896\"]],PRIMEM[\"Greenwich\",0],UNIT[\"degree\",0.0174532925199433,AUTHORITY[\"EPSG\",\"9122\"]]],PROJECTION[\"Transverse_Mercator\"],PARAMETER[\"latitude_of_origin\",0],PARAMETER[\"central_meridian\",30],PARAMETER[\"scale_factor\",0.9999],PARAMETER[\"false_easting\",500000],PARAMETER[\"false_northing\",5000000],UNIT[\"metre\",1,AUTHORITY[\"EPSG\",\"9001\"]],AXIS[\"Easting\",EAST],AXIS[\"Northing\",NORTH]]\n",
      "Raster shape: (23438, 34126)\n",
      "Number of Bands: 1\n",
      "Error at village 197: Input shapes do not overlap raster.\n",
      "Error at village 198: Input shapes do not overlap raster.\n",
      "Error at village 459: tuple index out of range\n",
      "Error at village 542: tuple index out of range\n",
      "Error at village 548: Input shapes do not overlap raster.\n",
      "Error at village 733: tuple index out of range\n",
      "Error at village 734: tuple index out of range\n",
      "Error at village 735: tuple index out of range\n",
      "Error at village 736: tuple index out of range\n",
      "Error at village 923: tuple index out of range\n",
      "Error at village 1077: tuple index out of range\n",
      "Error at village 1274: tuple index out of range\n",
      "Error at village 1370: tuple index out of range\n",
      "Error at village 1645: tuple index out of range\n",
      "CRS: PROJCS[\"TM_Rwanda\",GEOGCS[\"ITRF2005\",DATUM[\"International_Terrestrial_Reference_Frame_2005\",SPHEROID[\"GRS 1980\",6378137,298.257222101,AUTHORITY[\"EPSG\",\"7019\"]],AUTHORITY[\"EPSG\",\"6896\"]],PRIMEM[\"Greenwich\",0],UNIT[\"degree\",0.0174532925199433,AUTHORITY[\"EPSG\",\"9122\"]]],PROJECTION[\"Transverse_Mercator\"],PARAMETER[\"latitude_of_origin\",0],PARAMETER[\"central_meridian\",30],PARAMETER[\"scale_factor\",0.9999],PARAMETER[\"false_easting\",500000],PARAMETER[\"false_northing\",5000000],UNIT[\"metre\",1,AUTHORITY[\"EPSG\",\"9001\"]],AXIS[\"Easting\",EAST],AXIS[\"Northing\",NORTH]]\n",
      "Raster shape: (23438, 34126)\n",
      "Number of Bands: 1\n",
      "Error at village 197: Input shapes do not overlap raster.\n",
      "Error at village 198: Input shapes do not overlap raster.\n",
      "Error at village 459: tuple index out of range\n",
      "Error at village 542: tuple index out of range\n",
      "Error at village 548: Input shapes do not overlap raster.\n",
      "Error at village 733: tuple index out of range\n",
      "Error at village 734: tuple index out of range\n",
      "Error at village 735: tuple index out of range\n",
      "Error at village 736: tuple index out of range\n",
      "Error at village 923: tuple index out of range\n",
      "Error at village 1077: tuple index out of range\n",
      "Error at village 1274: tuple index out of range\n",
      "Error at village 1370: tuple index out of range\n",
      "Error at village 1645: tuple index out of range\n",
      "CRS: PROJCS[\"TM_Rwanda\",GEOGCS[\"ITRF2005\",DATUM[\"International_Terrestrial_Reference_Frame_2005\",SPHEROID[\"GRS 1980\",6378137,298.257222101,AUTHORITY[\"EPSG\",\"7019\"]],AUTHORITY[\"EPSG\",\"6896\"]],PRIMEM[\"Greenwich\",0],UNIT[\"degree\",0.0174532925199433,AUTHORITY[\"EPSG\",\"9122\"]]],PROJECTION[\"Transverse_Mercator\"],PARAMETER[\"latitude_of_origin\",0],PARAMETER[\"central_meridian\",30],PARAMETER[\"scale_factor\",0.9999],PARAMETER[\"false_easting\",500000],PARAMETER[\"false_northing\",5000000],UNIT[\"metre\",1,AUTHORITY[\"EPSG\",\"9001\"]],AXIS[\"Easting\",EAST],AXIS[\"Northing\",NORTH]]\n",
      "Raster shape: (23438, 34126)\n",
      "Number of Bands: 1\n",
      "Error at village 197: Input shapes do not overlap raster.\n",
      "Error at village 198: Input shapes do not overlap raster.\n",
      "Error at village 459: tuple index out of range\n",
      "Error at village 542: tuple index out of range\n",
      "Error at village 548: Input shapes do not overlap raster.\n",
      "Error at village 733: tuple index out of range\n",
      "Error at village 734: tuple index out of range\n",
      "Error at village 735: tuple index out of range\n",
      "Error at village 736: tuple index out of range\n",
      "Error at village 923: tuple index out of range\n",
      "Error at village 1077: tuple index out of range\n",
      "Error at village 1274: tuple index out of range\n",
      "Error at village 1370: tuple index out of range\n",
      "Error at village 1645: tuple index out of range\n"
     ]
    }
   ],
   "source": [
    "def extract_pop(reprojected_pop_raster, population_raster_name, villages_near_bridges):\n",
    "    \n",
    "    # Copy input geodataframe to avoid modifying the original\n",
    "    villages_copy = villages_near_bridges.copy()\n",
    "    \n",
    "    with rasterio.open(reprojected_pop_raster) as src:\n",
    "        # Print information from raster profile\n",
    "        print(\"CRS:\", src.crs)\n",
    "        print(\"Raster shape:\", src.shape)\n",
    "        print(\"Number of Bands:\", src.count)\n",
    "\n",
    "        # Iterate over each village and extract population data\n",
    "        results = []\n",
    "        for idx, row in villages_copy.iterrows():\n",
    "            try:\n",
    "                out_image = mask(src, [row.geometry], crop=True)\n",
    "                out_image = out_image[0]\n",
    "\n",
    "                # Handle masked arrays and replace with 0\n",
    "                if np.ma.is_masked(out_image):\n",
    "                    out_image = out_image.filled(0)\n",
    "\n",
    "                # Remove negative values (e.g., nodata placeholders)\n",
    "                out_image = np.where(out_image < 0, 0, out_image)\n",
    "\n",
    "                total_population = np.sum(out_image)\n",
    "\n",
    "            except Exception as e:\n",
    "                print(f\"Error at village {idx}: {e}\")\n",
    "                total_population = 0  # or np.nan\n",
    "\n",
    "            results.append(total_population)\n",
    "\n",
    "        # Add population data to the gdf\n",
    "        villages_copy[population_raster_name] = results\n",
    "\n",
    "    return villages_copy\n",
    "\n",
    "# Get file path for reprojected raster\n",
    "reprojected_raster_file = os.path.join(unsynced_path, \"WorldPop_Rasters_2020.nosync/reprojected_worldpop_2020_mosaic.tif\")\n",
    "\n",
    "# Extract population estimates for each buffer distance\n",
    "pop_estimates_1km = extract_pop(reprojected_pop_raster = reprojected_raster_file,\n",
    "                                population_raster_name = \"WorldPop_1km\",\n",
    "                                villages_near_bridges = bridge_buffers_1km)\n",
    "\n",
    "pop_estimates_1_5km = extract_pop(reprojected_pop_raster = reprojected_raster_file,\n",
    "                                  population_raster_name = \"WorldPop_1_5km\",\n",
    "                                  villages_near_bridges = bridge_buffers_1_5km)\n",
    "\n",
    "pop_estimates_2km = extract_pop(reprojected_pop_raster = reprojected_raster_file,\n",
    "                                population_raster_name = \"WorldPop_2km\",\n",
    "                                villages_near_bridges = bridge_buffers_2km)\n",
    "\n",
    "pop_estimates_3km = extract_pop(reprojected_pop_raster = reprojected_raster_file,\n",
    "                                population_raster_name = \"WorldPop_3km\",\n",
    "                                villages_near_bridges = bridge_buffers_3km)"
   ]
  },
  {
   "cell_type": "code",
   "execution_count": 35,
   "id": "b534d391",
   "metadata": {},
   "outputs": [],
   "source": [
    "# Combine population estimates into a single geodataframe\n",
    "pop_estimates_combined = bridge_points.copy()\n",
    "\n",
    "# Add population estimates from each buffer to the combined geodataframe\n",
    "# Note: The merge is done on the index, which is the same for all geodataframes\n",
    "pop_estimates_combined = pop_estimates_combined.merge(\n",
    "    pop_estimates_1km[['WorldPop_1km']], left_index=True, right_index=True\n",
    ").merge(\n",
    "    pop_estimates_1_5km[['WorldPop_1_5km']], left_index=True, right_index=True\n",
    ").merge(\n",
    "    pop_estimates_2km[['WorldPop_2km']], left_index=True, right_index=True\n",
    ").merge(\n",
    "    pop_estimates_3km[['WorldPop_3km']], left_index=True, right_index=True\n",
    ")"
   ]
  },
  {
   "cell_type": "code",
   "execution_count": 36,
   "id": "46331832",
   "metadata": {},
   "outputs": [],
   "source": [
    "# Update the population estimates to replace 0 with NaN\n",
    "# Note: The zeroes are because a number of villages are outside of Rwanda and its neighboring countries (the raster extent)\n",
    "pop_estimates_combined['WorldPop_1km'] = pop_estimates_combined['WorldPop_1km'].replace(0, np.nan)\n",
    "pop_estimates_combined['WorldPop_1_5km'] = pop_estimates_combined['WorldPop_1_5km'].replace(0, np.nan)\n",
    "pop_estimates_combined['WorldPop_2km'] = pop_estimates_combined['WorldPop_2km'].replace(0, np.nan)\n",
    "pop_estimates_combined['WorldPop_3km'] = pop_estimates_combined['WorldPop_3km'].replace(0, np.nan)"
   ]
  },
  {
   "cell_type": "code",
   "execution_count": 37,
   "id": "5417cff2",
   "metadata": {},
   "outputs": [],
   "source": [
    "# Export the combined geodataframe as a CSV file\n",
    "pop_estimates_combined_fp = os.path.join(synced_path, \"Rwanda_Bridge_Sites_WorldPop_2020_Estimates_Projected.csv\")\n",
    "#pop_estimates_combined.to_csv(pop_estimates_combined_fp, index=False)"
   ]
  },
  {
   "cell_type": "markdown",
   "id": "803a87e9",
   "metadata": {},
   "source": [
    "Task 5: Calculate summary statistics"
   ]
  },
  {
   "cell_type": "code",
   "execution_count": 38,
   "id": "19342c2b",
   "metadata": {},
   "outputs": [
    {
     "name": "stdout",
     "output_type": "stream",
     "text": [
      "The mean of WorldPop_1km is: 2838.88\n",
      "The mean of WorldPop_1_5km is: 6222.52\n",
      "The mean of WorldPop_2km is: 10766.41\n",
      "The mean of WorldPop_3km is: 23241.60\n",
      "The mean of Bridge Opportunity: Population Estimate 2000m is: 9769.34\n"
     ]
    },
    {
     "data": {
      "text/plain": [
       "np.float64(9769.340919269298)"
      ]
     },
     "execution_count": 38,
     "metadata": {},
     "output_type": "execute_result"
    }
   ],
   "source": [
    "# Calculate mean population for each distance radius\n",
    "def mean_pop(pop_estimates_combined, pop_column):\n",
    "    mean_value = pop_estimates_combined[pop_column].mean()\n",
    "    print(f\"The mean of {pop_column} is: {mean_value:.2f}\")\n",
    "    return mean_value\n",
    "\n",
    "mean_pop(pop_estimates_combined, 'WorldPop_1km')\n",
    "mean_pop(pop_estimates_combined, 'WorldPop_1_5km')\n",
    "mean_pop(pop_estimates_combined, 'WorldPop_2km')\n",
    "mean_pop(pop_estimates_combined, 'WorldPop_3km')\n",
    "mean_pop(pop_estimates_combined, \"Bridge Opportunity: Population Estimate 2000m\")"
   ]
  },
  {
   "cell_type": "code",
   "execution_count": 39,
   "id": "4c6cf916",
   "metadata": {},
   "outputs": [
    {
     "name": "stdout",
     "output_type": "stream",
     "text": [
      "Mean population for sites with research initiatives:\n",
      "The mean of WorldPop_1km is: 2236.09\n",
      "The mean of WorldPop_1_5km is: 5273.33\n",
      "The mean of WorldPop_2km is: 9315.01\n",
      "The mean of WorldPop_3km is: 19277.88\n",
      "The mean of Bridge Opportunity: Population Estimate 2000m is: 7044.64\n"
     ]
    },
    {
     "data": {
      "text/plain": [
       "np.float64(7044.636339285715)"
      ]
     },
     "execution_count": 39,
     "metadata": {},
     "output_type": "execute_result"
    }
   ],
   "source": [
    "# Calculate mean population for sites with value \"Rwanda Full Scale Research - Randomized but Not Baselined\"\n",
    "# OR \"Rwanda Full Scale Research - Randomized and Baselined - Long Term Control\" in the Research Initiative field\n",
    "print(\"Mean population for sites with research initiatives:\")\n",
    "\n",
    "# Define research values of interest\n",
    "research_values = [\"Rwanda Full Scale Research - Randomized but Not Baselined\",\n",
    "                   \"Rwanda Full Scale Research - Randomized and Baselined - Long Term Control\"]\n",
    "\n",
    "# Calculate mean population for the defined research values\n",
    "mean_pop(\n",
    "    pop_estimates_combined[\n",
    "        pop_estimates_combined['Bridge Opportunity: Research Initiative'].isin(research_values)\n",
    "    ], \"WorldPop_1km\"\n",
    ")\n",
    "\n",
    "mean_pop(\n",
    "    pop_estimates_combined[\n",
    "        pop_estimates_combined['Bridge Opportunity: Research Initiative'].isin(research_values)\n",
    "    ], \"WorldPop_1_5km\"\n",
    ")\n",
    "\n",
    "mean_pop(\n",
    "    pop_estimates_combined[\n",
    "        pop_estimates_combined['Bridge Opportunity: Research Initiative'].isin(research_values)\n",
    "    ], \"WorldPop_2km\"\n",
    ")\n",
    "\n",
    "mean_pop(\n",
    "    pop_estimates_combined[\n",
    "        pop_estimates_combined['Bridge Opportunity: Research Initiative'].isin(research_values)\n",
    "    ], \"WorldPop_3km\"\n",
    ")\n",
    "\n",
    "mean_pop(\n",
    "    pop_estimates_combined[\n",
    "        pop_estimates_combined['Bridge Opportunity: Research Initiative'].isin(research_values)\n",
    "    ], \"Bridge Opportunity: Population Estimate 2000m\"\n",
    ")"
   ]
  },
  {
   "cell_type": "markdown",
   "id": "460b4b26",
   "metadata": {},
   "source": [
    "Task 6: Rerun calculations in unprojected CRS (WGS84)"
   ]
  },
  {
   "cell_type": "code",
   "execution_count": 40,
   "id": "ef25ced8",
   "metadata": {},
   "outputs": [
    {
     "name": "stdout",
     "output_type": "stream",
     "text": [
      "Raster CRS: EPSG:4326\n",
      "Raster shape: (22610, 33886)\n",
      "Number of Bands: 1\n",
      "Buffer CRS: GEOGCS[\"WGS 84\",DATUM[\"WGS_1984\",SPHEROID[\"WGS 84\",6378137,298.257223563,AUTHORITY[\"EPSG\",\"7030\"]],AUTHORITY[\"EPSG\",\"6326\"]],PRIMEM[\"Greenwich\",0,AUTHORITY[\"EPSG\",\"8901\"]],UNIT[\"degree\",0.0174532925199433,AUTHORITY[\"EPSG\",\"9122\"]],AXIS[\"Latitude\",NORTH],AXIS[\"Longitude\",EAST],AUTHORITY[\"EPSG\",\"4326\"]]\n",
      "Error at village 197: Input shapes do not overlap raster.\n",
      "Error at village 198: Input shapes do not overlap raster.\n",
      "Error at village 459: tuple index out of range\n",
      "Error at village 542: tuple index out of range\n",
      "Error at village 548: Input shapes do not overlap raster.\n",
      "Error at village 733: tuple index out of range\n",
      "Error at village 734: tuple index out of range\n",
      "Error at village 735: tuple index out of range\n",
      "Error at village 736: tuple index out of range\n",
      "Error at village 923: tuple index out of range\n",
      "Error at village 1077: tuple index out of range\n",
      "Error at village 1274: tuple index out of range\n",
      "Error at village 1370: tuple index out of range\n",
      "Error at village 1645: tuple index out of range\n",
      "Raster CRS: EPSG:4326\n",
      "Raster shape: (22610, 33886)\n",
      "Number of Bands: 1\n",
      "Buffer CRS: GEOGCS[\"WGS 84\",DATUM[\"WGS_1984\",SPHEROID[\"WGS 84\",6378137,298.257223563,AUTHORITY[\"EPSG\",\"7030\"]],AUTHORITY[\"EPSG\",\"6326\"]],PRIMEM[\"Greenwich\",0,AUTHORITY[\"EPSG\",\"8901\"]],UNIT[\"degree\",0.0174532925199433,AUTHORITY[\"EPSG\",\"9122\"]],AXIS[\"Latitude\",NORTH],AXIS[\"Longitude\",EAST],AUTHORITY[\"EPSG\",\"4326\"]]\n",
      "Error at village 197: Input shapes do not overlap raster.\n",
      "Error at village 198: Input shapes do not overlap raster.\n",
      "Error at village 459: tuple index out of range\n",
      "Error at village 542: tuple index out of range\n",
      "Error at village 548: Input shapes do not overlap raster.\n",
      "Error at village 733: tuple index out of range\n",
      "Error at village 734: tuple index out of range\n",
      "Error at village 735: tuple index out of range\n",
      "Error at village 736: tuple index out of range\n",
      "Error at village 923: tuple index out of range\n",
      "Error at village 1077: tuple index out of range\n",
      "Error at village 1274: tuple index out of range\n",
      "Error at village 1370: tuple index out of range\n",
      "Error at village 1645: tuple index out of range\n",
      "Raster CRS: EPSG:4326\n",
      "Raster shape: (22610, 33886)\n",
      "Number of Bands: 1\n",
      "Buffer CRS: GEOGCS[\"WGS 84\",DATUM[\"WGS_1984\",SPHEROID[\"WGS 84\",6378137,298.257223563,AUTHORITY[\"EPSG\",\"7030\"]],AUTHORITY[\"EPSG\",\"6326\"]],PRIMEM[\"Greenwich\",0,AUTHORITY[\"EPSG\",\"8901\"]],UNIT[\"degree\",0.0174532925199433,AUTHORITY[\"EPSG\",\"9122\"]],AXIS[\"Latitude\",NORTH],AXIS[\"Longitude\",EAST],AUTHORITY[\"EPSG\",\"4326\"]]\n",
      "Error at village 197: Input shapes do not overlap raster.\n",
      "Error at village 198: Input shapes do not overlap raster.\n",
      "Error at village 459: tuple index out of range\n",
      "Error at village 542: tuple index out of range\n",
      "Error at village 548: Input shapes do not overlap raster.\n",
      "Error at village 733: tuple index out of range\n",
      "Error at village 734: tuple index out of range\n",
      "Error at village 735: tuple index out of range\n",
      "Error at village 736: tuple index out of range\n",
      "Error at village 923: tuple index out of range\n",
      "Error at village 1077: tuple index out of range\n",
      "Error at village 1274: tuple index out of range\n",
      "Error at village 1370: tuple index out of range\n",
      "Error at village 1645: tuple index out of range\n",
      "Raster CRS: EPSG:4326\n",
      "Raster shape: (22610, 33886)\n",
      "Number of Bands: 1\n",
      "Buffer CRS: GEOGCS[\"WGS 84\",DATUM[\"WGS_1984\",SPHEROID[\"WGS 84\",6378137,298.257223563,AUTHORITY[\"EPSG\",\"7030\"]],AUTHORITY[\"EPSG\",\"6326\"]],PRIMEM[\"Greenwich\",0,AUTHORITY[\"EPSG\",\"8901\"]],UNIT[\"degree\",0.0174532925199433,AUTHORITY[\"EPSG\",\"9122\"]],AXIS[\"Latitude\",NORTH],AXIS[\"Longitude\",EAST],AUTHORITY[\"EPSG\",\"4326\"]]\n",
      "Error at village 197: Input shapes do not overlap raster.\n",
      "Error at village 198: Input shapes do not overlap raster.\n",
      "Error at village 459: tuple index out of range\n",
      "Error at village 542: tuple index out of range\n",
      "Error at village 548: Input shapes do not overlap raster.\n",
      "Error at village 733: tuple index out of range\n",
      "Error at village 734: tuple index out of range\n",
      "Error at village 735: tuple index out of range\n",
      "Error at village 736: tuple index out of range\n",
      "Error at village 923: tuple index out of range\n",
      "Error at village 1077: tuple index out of range\n",
      "Error at village 1274: tuple index out of range\n",
      "Error at village 1370: tuple index out of range\n",
      "Error at village 1645: tuple index out of range\n"
     ]
    }
   ],
   "source": [
    "# Update extract pop function to work with unprojected raster (converts buffer gdf to match raster CRS)\n",
    "def extract_pop_unproj(pop_raster, population_raster_name, villages_near_bridges):\n",
    "    \n",
    "    # Copy input geodataframe to avoid modifying the original\n",
    "    villages_copy = villages_near_bridges.copy()\n",
    "    \n",
    "    with rasterio.open(pop_raster) as src:\n",
    "        # Print information from raster profile\n",
    "        print(\"Raster CRS:\", src.crs)\n",
    "        print(\"Raster shape:\", src.shape)\n",
    "        print(\"Number of Bands:\", src.count)\n",
    "\n",
    "        # Reproject buffer gdf to match raster CRS and print new CRS\n",
    "        villages_copy = villages_copy.to_crs(src.crs)\n",
    "        print(\"Buffer CRS:\", villages_copy.crs)\n",
    "\n",
    "        # Iterate over each village and extract population data\n",
    "        results = []\n",
    "        for idx, row in villages_copy.iterrows():\n",
    "            try:\n",
    "                out_image = mask(src, [row.geometry], crop=True)\n",
    "                out_image = out_image[0]\n",
    "\n",
    "                # Handle masked arrays and replace with 0\n",
    "                if np.ma.is_masked(out_image):\n",
    "                    out_image = out_image.filled(0)\n",
    "\n",
    "                # Remove negative values (e.g., nodata placeholders)\n",
    "                out_image = np.where(out_image < 0, 0, out_image)\n",
    "\n",
    "                total_population = np.sum(out_image)\n",
    "\n",
    "            except Exception as e:\n",
    "                print(f\"Error at village {idx}: {e}\")\n",
    "                total_population = 0  # or np.nan\n",
    "\n",
    "            results.append(total_population)\n",
    "\n",
    "        # Add population data to the gdf\n",
    "        villages_copy[population_raster_name] = results\n",
    "\n",
    "    return villages_copy\n",
    "\n",
    "# Get file path for unprojected raster\n",
    "unprojected_raster_file = os.path.join(unsynced_path, \"WorldPop_Rasters_2020.nosync/worldpop_2020_mosaic.tif\")\n",
    "\n",
    "# Extract population estimates for each buffer distance\n",
    "pop_estimates_1km_unproj = extract_pop_unproj(pop_raster = unprojected_raster_file,\n",
    "                                population_raster_name = \"WorldPop_1km\",\n",
    "                                villages_near_bridges = bridge_buffers_1km)\n",
    "\n",
    "pop_estimates_1_5km_unproj = extract_pop_unproj(pop_raster = unprojected_raster_file,\n",
    "                                  population_raster_name = \"WorldPop_1_5km\",\n",
    "                                  villages_near_bridges = bridge_buffers_1_5km)\n",
    "\n",
    "pop_estimates_2km_unproj = extract_pop_unproj(pop_raster = unprojected_raster_file,\n",
    "                                population_raster_name = \"WorldPop_2km\",\n",
    "                                villages_near_bridges = bridge_buffers_2km)\n",
    "\n",
    "pop_estimates_3km_unproj = extract_pop_unproj(pop_raster = unprojected_raster_file,\n",
    "                                population_raster_name = \"WorldPop_3km\",\n",
    "                                villages_near_bridges = bridge_buffers_3km)"
   ]
  },
  {
   "cell_type": "code",
   "execution_count": 41,
   "id": "7190f5bd",
   "metadata": {},
   "outputs": [],
   "source": [
    "# Combine population estimates into a single geodataframe\n",
    "pop_estimates_combined_unproj = bridge_points.copy()\n",
    "\n",
    "# Add population estimates from each buffer to the combined geodataframe\n",
    "# Note: The merge is done on the index, which is the same for all geodataframes\n",
    "pop_estimates_combined_unproj = pop_estimates_combined_unproj.merge(\n",
    "    pop_estimates_1km_unproj[['WorldPop_1km']], left_index=True, right_index=True\n",
    ").merge(\n",
    "    pop_estimates_1_5km_unproj[['WorldPop_1_5km']], left_index=True, right_index=True\n",
    ").merge(\n",
    "    pop_estimates_2km_unproj[['WorldPop_2km']], left_index=True, right_index=True\n",
    ").merge(\n",
    "    pop_estimates_3km_unproj[['WorldPop_3km']], left_index=True, right_index=True)\n",
    "\n",
    "# Update the population estimates to replace 0 with NaN\n",
    "pop_estimates_combined_unproj['WorldPop_1km'] = pop_estimates_combined_unproj['WorldPop_1km'].replace(0, np.nan)\n",
    "pop_estimates_combined_unproj['WorldPop_1_5km'] = pop_estimates_combined_unproj['WorldPop_1_5km'].replace(0, np.nan)\n",
    "pop_estimates_combined_unproj['WorldPop_2km'] = pop_estimates_combined_unproj['WorldPop_2km'].replace(0, np.nan)\n",
    "pop_estimates_combined_unproj['WorldPop_3km'] = pop_estimates_combined_unproj['WorldPop_3km'].replace(0, np.nan)"
   ]
  },
  {
   "cell_type": "code",
   "execution_count": 42,
   "id": "bdfeb171",
   "metadata": {},
   "outputs": [
    {
     "name": "stdout",
     "output_type": "stream",
     "text": [
      "The mean of WorldPop_1km is: 2887.39\n",
      "The mean of WorldPop_1_5km is: 6322.43\n",
      "The mean of WorldPop_2km is: 10949.84\n",
      "The mean of WorldPop_3km is: 23639.14\n",
      "The mean of Bridge Opportunity: Population Estimate 2000m is: 9769.34\n"
     ]
    },
    {
     "data": {
      "text/plain": [
       "np.float64(9769.340919269298)"
      ]
     },
     "execution_count": 42,
     "metadata": {},
     "output_type": "execute_result"
    }
   ],
   "source": [
    "# Calculate mean population for each distance radius\n",
    "def mean_pop(pop_estimates_combined_unproj, pop_column):\n",
    "    mean_value = pop_estimates_combined_unproj[pop_column].mean()\n",
    "    print(f\"The mean of {pop_column} is: {mean_value:.2f}\")\n",
    "    return mean_value\n",
    "\n",
    "mean_pop(pop_estimates_combined_unproj, 'WorldPop_1km')\n",
    "mean_pop(pop_estimates_combined_unproj, 'WorldPop_1_5km')\n",
    "mean_pop(pop_estimates_combined_unproj, 'WorldPop_2km')\n",
    "mean_pop(pop_estimates_combined_unproj, 'WorldPop_3km')\n",
    "mean_pop(pop_estimates_combined_unproj, \"Bridge Opportunity: Population Estimate 2000m\")"
   ]
  },
  {
   "cell_type": "code",
   "execution_count": 43,
   "id": "a3262259",
   "metadata": {},
   "outputs": [
    {
     "name": "stdout",
     "output_type": "stream",
     "text": [
      "\n",
      "Mean population for sites with research initiatives:\n",
      "The mean of WorldPop_1km is: 2294.09\n",
      "The mean of WorldPop_1_5km is: 5377.69\n",
      "The mean of WorldPop_2km is: 9518.26\n",
      "The mean of WorldPop_3km is: 19632.49\n",
      "The mean of Bridge Opportunity: Population Estimate 2000m is: 7044.64\n"
     ]
    },
    {
     "data": {
      "text/plain": [
       "np.float64(7044.636339285715)"
      ]
     },
     "execution_count": 43,
     "metadata": {},
     "output_type": "execute_result"
    }
   ],
   "source": [
    "# Calculate mean population for sites with value \"Rwanda Full Scale Research - Randomized but Not Baselined\"\n",
    "# OR \"Rwanda Full Scale Research - Randomized and Baselined - Long Term Control\" in the Research Initiative field\n",
    "print(\"\\nMean population for sites with research initiatives:\")\n",
    "\n",
    "# Define research values of interest\n",
    "research_values = [\"Rwanda Full Scale Research - Randomized but Not Baselined\",\n",
    "                   \"Rwanda Full Scale Research - Randomized and Baselined - Long Term Control\"]\n",
    "\n",
    "# Calculate mean population for the defined research values\n",
    "mean_pop(\n",
    "    pop_estimates_combined_unproj[\n",
    "        pop_estimates_combined_unproj['Bridge Opportunity: Research Initiative'].isin(research_values)\n",
    "    ], \"WorldPop_1km\"\n",
    ")\n",
    "\n",
    "mean_pop(\n",
    "    pop_estimates_combined_unproj[\n",
    "        pop_estimates_combined_unproj['Bridge Opportunity: Research Initiative'].isin(research_values)\n",
    "    ], \"WorldPop_1_5km\"\n",
    ")\n",
    "\n",
    "mean_pop(\n",
    "    pop_estimates_combined_unproj[\n",
    "        pop_estimates_combined_unproj['Bridge Opportunity: Research Initiative'].isin(research_values)\n",
    "    ], \"WorldPop_2km\"\n",
    ")\n",
    "\n",
    "mean_pop(\n",
    "    pop_estimates_combined_unproj[\n",
    "        pop_estimates_combined_unproj['Bridge Opportunity: Research Initiative'].isin(research_values)\n",
    "    ], \"WorldPop_3km\"\n",
    ")\n",
    "\n",
    "mean_pop(\n",
    "    pop_estimates_combined_unproj[\n",
    "        pop_estimates_combined_unproj['Bridge Opportunity: Research Initiative'].isin(research_values)\n",
    "    ], \"Bridge Opportunity: Population Estimate 2000m\"\n",
    ")"
   ]
  },
  {
   "cell_type": "code",
   "execution_count": 44,
   "id": "7a011c09",
   "metadata": {},
   "outputs": [],
   "source": [
    "# Combine the projected and unprojected population estimates into a single geodataframe\n",
    "pop_estimates_combined = pop_estimates_combined.merge(\n",
    "    pop_estimates_combined_unproj[['WorldPop_1km', 'WorldPop_1_5km', 'WorldPop_2km', 'WorldPop_3km']],\n",
    "    left_index=True, right_index=True, suffixes=('', '_unproj')\n",
    ")"
   ]
  },
  {
   "cell_type": "code",
   "execution_count": 45,
   "id": "80af2e50",
   "metadata": {},
   "outputs": [],
   "source": [
    "# Export the combined geodataframe as a CSV file\n",
    "pop_estimates_proj_unproj_fp = os.path.join(synced_path, \"Rwanda_Bridge_Sites_WorldPop_2020_with3km.csv\")\n",
    "pop_estimates_combined.to_csv(pop_estimates_proj_unproj_fp, index=False)"
   ]
  },
  {
   "cell_type": "markdown",
   "id": "3fd976b7",
   "metadata": {},
   "source": [
    "\n",
    "### Projected Summary Statistics\n",
    "\n",
    "**Mean population for all sites:**\n",
    "- The mean of WorldPop_1km is: 2838.88\n",
    "- The mean of WorldPop_1_5km is: 6222.52\n",
    "- The mean of WorldPop_2km is: 10766.41\n",
    "- The mean of WorldPop_3km is: 23241.60\n",
    "- The mean of Salesforce WorldPop estimate at 2km is: 9769.34\n",
    "\n",
    "**Mean population for sites with research initiatives:**\n",
    "- The mean of WorldPop_1km is: 2236.09\n",
    "- The mean of WorldPop_1_5km is: 5273.33\n",
    "- The mean of WorldPop_2km is: 9315.01\n",
    "- The mean of WorldPop_3km is: 19277.88\n",
    "- The mean of Salesforce WorldPop estimate at 2km is: 7044.64\n",
    "\n",
    "### Unprojected Summary Statistics\n",
    "\n",
    "**Mean population for all sites:**\n",
    "- The mean of WorldPop_1km is: 2887.39\n",
    "- The mean of WorldPop_1_5km is: 6322.43\n",
    "- The mean of WorldPop_2km is: 10949.84\n",
    "- The mean of WorldPop_3km is: 23639.14\n",
    "\n",
    "**Mean population for sites with research initiatives:**\n",
    "- The mean of WorldPop_1km is: 2294.09\n",
    "- The mean of WorldPop_1_5km is: 5377.69\n",
    "- The mean of WorldPop_2km is: 9518.26\n",
    "- The mean of WorldPop_3km is: 19632.49\n"
   ]
  }
 ],
 "metadata": {
  "kernelspec": {
   "display_name": "bridges",
   "language": "python",
   "name": "python3"
  },
  "language_info": {
   "codemirror_mode": {
    "name": "ipython",
    "version": 3
   },
   "file_extension": ".py",
   "mimetype": "text/x-python",
   "name": "python",
   "nbconvert_exporter": "python",
   "pygments_lexer": "ipython3",
   "version": "3.13.2"
  }
 },
 "nbformat": 4,
 "nbformat_minor": 5
}
