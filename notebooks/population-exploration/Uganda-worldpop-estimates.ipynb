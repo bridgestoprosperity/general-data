{
 "cells": [
  {
   "cell_type": "markdown",
   "id": "2b2097d5",
   "metadata": {},
   "source": [
    "### Workbook for extracting WorldPop population estimates for Uganda bridge catchment areas\n",
    "Week of August 4, 2025\n",
    "<br>\n",
    "Author: Adele Birkenes"
   ]
  },
  {
   "cell_type": "code",
   "execution_count": 1,
   "id": "5374cf03",
   "metadata": {},
   "outputs": [],
   "source": [
    "import pandas as pd\n",
    "import geopandas as gpd\n",
    "from shapely.geometry import Point, LineString, Polygon\n",
    "import rasterio\n",
    "from rasterio.mask import mask\n",
    "from rasterio.merge import merge\n",
    "from rasterio.plot import show\n",
    "from rasterio.warp import calculate_default_transform, reproject, Resampling\n",
    "import os\n",
    "import numpy as np\n",
    "import matplotlib.pyplot as plt\n",
    "import folium\n",
    "from folium import GeoJson"
   ]
  },
  {
   "cell_type": "markdown",
   "id": "3fdade1f",
   "metadata": {},
   "source": [
    "**Task 1: Read in data on bridge sites and village boundaries**\n",
    "\n",
    "Note: The village boundaries are not used in this analysis, but I am checking whether they contain a custom Uganda projection"
   ]
  },
  {
   "cell_type": "code",
   "execution_count": 6,
   "id": "8e42b54a",
   "metadata": {},
   "outputs": [
    {
     "name": "stdout",
     "output_type": "stream",
     "text": [
      "Uganda village boundaries CRS: EPSG:4326\n"
     ]
    }
   ],
   "source": [
    "synced_path = \"../../synced-data/population-exploration/Uganda\"\n",
    "unsynced_path = \"../../unsynced-data\"\n",
    "\n",
    "# Village boundaries (geodataframe)\n",
    "village_boundaries_fp = os.path.join(synced_path,\"uga_admbnda_ubos_20200824_shp/uga_admbnda_adm4_ubos_20200824.shp\")\n",
    "Uganda_village_boundaries = gpd.read_file(village_boundaries_fp)\n",
    "print(\"Uganda village boundaries CRS:\", Uganda_village_boundaries.crs)\n",
    "\n",
    "# Bridge sites (dataframe)\n",
    "bridge_sites_fp = os.path.join(synced_path, \"All B2P Uganda Sites_2025.07.14.csv\")\n",
    "Uganda_bridge_sites = pd.read_csv(bridge_sites_fp)"
   ]
  },
  {
   "cell_type": "markdown",
   "id": "10fa6562",
   "metadata": {},
   "source": [
    "Conclusion: The village boundaries are unprojected (WGS84). However, it is appropriate to use a projected CRS for distance calculations such as buffers. Therefore, I will use UTM zone 36N (EPSG:32636), which covers most of the country."
   ]
  },
  {
   "cell_type": "markdown",
   "id": "e1585499",
   "metadata": {},
   "source": [
    "**Task 2: Check for rows with missing/invalid coordinates, which can create invalid geometries and cause problems. Create a dataframe of invalid bridge sites for review**"
   ]
  },
  {
   "cell_type": "code",
   "execution_count": 25,
   "id": "2b3c023a",
   "metadata": {},
   "outputs": [
    {
     "name": "stdout",
     "output_type": "stream",
     "text": [
      "GPS (Latitude)     12\n",
      "GPS (Longitude)    12\n",
      "dtype: int64\n",
      "       GPS (Latitude)  GPS (Longitude)\n",
      "count      598.000000       598.000000\n",
      "mean         0.641824        31.522621\n",
      "std          0.913415         1.925981\n",
      "min         -1.459017        29.630709\n",
      "25%          0.098429        30.071547\n",
      "50%          0.674117        30.303297\n",
      "75%          1.064221        34.289442\n",
      "max          3.750561        35.355083\n",
      "True     598\n",
      "False     12\n",
      "Name: count, dtype: int64\n"
     ]
    }
   ],
   "source": [
    "# Check for missing or obviously invalid coordinates\n",
    "print(Uganda_bridge_sites[[\"GPS (Latitude)\", \"GPS (Longitude)\"]].isnull().sum())\n",
    "print(Uganda_bridge_sites[[\"GPS (Latitude)\", \"GPS (Longitude)\"]].describe())\n",
    "print(bridge_points.is_valid.value_counts())"
   ]
  },
  {
   "cell_type": "code",
   "execution_count": 27,
   "id": "48a47592",
   "metadata": {},
   "outputs": [],
   "source": [
    "# Create a dataframe of rows with missing latitude or longitude\n",
    "Uganda_bridge_sites_missing_coords = Uganda_bridge_sites[\n",
    "    Uganda_bridge_sites[\"GPS (Latitude)\"].isnull() | Uganda_bridge_sites[\"GPS (Longitude)\"].isnull()\n",
    "]\n",
    "\n",
    "# Export to CSV\n",
    "Uganda_bridge_sites_missing_coords_fp = os.path.join(synced_path, \"Uganda_bridge_sites_missing_coords.csv\")\n",
    "Uganda_bridge_sites_missing_coords.to_csv(Uganda_bridge_sites_missing_coords_fp, index=False)"
   ]
  },
  {
   "cell_type": "markdown",
   "id": "96d07336",
   "metadata": {},
   "source": [
    "**Task 3: Create a geodataframe of bridge sites with valid coordinates; use custom Uganda projection**"
   ]
  },
  {
   "cell_type": "code",
   "execution_count": 33,
   "id": "0e78e4f2",
   "metadata": {},
   "outputs": [
    {
     "name": "stdout",
     "output_type": "stream",
     "text": [
      "CRS of bridge sites: EPSG:32636\n"
     ]
    }
   ],
   "source": [
    "# Convert bridge sites dataframe to geodataframe that has custom Uganda projection\n",
    "def map_bridges(bridges, bridges_lat, bridges_lon, projection='EPSG:32636'):\n",
    "\n",
    "    # Remove rows with missing lat/lon values\n",
    "    bridges = bridges.dropna(subset=[bridges_lat, bridges_lon])\n",
    "\n",
    "    # Create lat/lon variables from filtered dataframe\n",
    "    lon = bridges[bridges_lon]\n",
    "    lat = bridges[bridges_lat]\n",
    "\n",
    "    # Create gdf of bridges data by converting lat/lon values to list of Shapely Point objects\n",
    "    bridge_points = gpd.GeoDataFrame(bridges, geometry=gpd.points_from_xy(x=lon, y=lat), crs='EPSG:4326')\n",
    "\n",
    "    # Set CRS of bridges gdf to custom Uganda projection\n",
    "    bridge_points = bridge_points.to_crs(projection)\n",
    "\n",
    "    # Check that reprojection was successful\n",
    "    print(f'CRS of bridge sites: {bridge_points.crs}')\n",
    "    \n",
    "    return bridge_points\n",
    "\n",
    "bridge_points = map_bridges(bridges = Uganda_bridge_sites,\n",
    "                            bridges_lat = \"GPS (Latitude)\",\n",
    "                            bridges_lon = \"GPS (Longitude)\")\n",
    "\n",
    "#bridge_points.explore()"
   ]
  },
  {
   "cell_type": "markdown",
   "id": "8fb08c4f",
   "metadata": {},
   "source": [
    "**Task 4: Create 3 km buffers around bridge sites**"
   ]
  },
  {
   "cell_type": "code",
   "execution_count": 34,
   "id": "fa9c1892",
   "metadata": {},
   "outputs": [],
   "source": [
    "def create_bridge_buffers(bridges, buffer_distance):\n",
    "\n",
    "    # Create buffers around bridges according to user's distance input\n",
    "    buf = bridges.geometry.buffer(distance=buffer_distance)\n",
    "\n",
    "    # Add bridges point attribute information to buffers\n",
    "    bridge_buffers = bridges.copy()\n",
    "    bridge_buffers['geometry'] = buf\n",
    "\n",
    "    return bridge_buffers\n",
    "\n",
    "bridge_buffers_3km = create_bridge_buffers(bridges = bridge_points, buffer_distance = 3000)\n",
    "\n",
    "#bridge_buffers_3km.explore()"
   ]
  }
 ],
 "metadata": {
  "kernelspec": {
   "display_name": "bridges",
   "language": "python",
   "name": "python3"
  },
  "language_info": {
   "codemirror_mode": {
    "name": "ipython",
    "version": 3
   },
   "file_extension": ".py",
   "mimetype": "text/x-python",
   "name": "python",
   "nbconvert_exporter": "python",
   "pygments_lexer": "ipython3",
   "version": "3.13.2"
  }
 },
 "nbformat": 4,
 "nbformat_minor": 5
}
