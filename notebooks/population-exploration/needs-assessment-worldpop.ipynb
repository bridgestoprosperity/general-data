{
 "cells": [
  {
   "cell_type": "markdown",
   "id": "9affb770",
   "metadata": {},
   "source": [
    "### Workbook for further processing needs assessment data and extracting Worldpop population estimates\n",
    "Week of May 12, 2025\n",
    "Author: Adele Birkenes"
   ]
  },
  {
   "cell_type": "code",
   "execution_count": 1,
   "id": "3a3ab7d0",
   "metadata": {},
   "outputs": [],
   "source": [
    "import pandas as pd\n",
    "import geopandas as gpd\n",
    "from shapely.geometry import Point, LineString, Polygon\n",
    "import rasterio\n",
    "from rasterio.mask import mask\n",
    "import os\n",
    "import numpy as np\n",
    "import matplotlib.pyplot as plt"
   ]
  },
  {
   "cell_type": "markdown",
   "id": "d74d24c0",
   "metadata": {},
   "source": [
    "Task 1: Set synced & unsynced file paths, read in needs assessment data & Worldpop raster, ensure CRSs match"
   ]
  },
  {
   "cell_type": "code",
   "execution_count": 2,
   "id": "342530af",
   "metadata": {},
   "outputs": [
    {
     "name": "stdout",
     "output_type": "stream",
     "text": [
      "PROJCS[\"TM_Rwanda\",GEOGCS[\"ITRF2005\",DATUM[\"International_Terrestrial_Reference_Frame_2005\",SPHEROID[\"GRS 1980\",6378137,298.257222101,AUTHORITY[\"EPSG\",\"7019\"]],AUTHORITY[\"EPSG\",\"6896\"]],PRIMEM[\"Greenwich\",0],UNIT[\"Degree\",0.0174532925199433]],PROJECTION[\"Transverse_Mercator\"],PARAMETER[\"latitude_of_origin\",0],PARAMETER[\"central_meridian\",30],PARAMETER[\"scale_factor\",0.9999],PARAMETER[\"false_easting\",500000],PARAMETER[\"false_northing\",5000000],UNIT[\"metre\",1,AUTHORITY[\"EPSG\",\"9001\"]],AXIS[\"Easting\",EAST],AXIS[\"Northing\",NORTH]]\n"
     ]
    }
   ],
   "source": [
    "synced_path = \"../../synced-data/population-exploration/\"\n",
    "unsynced_path = \"../../unsynced-data\"\n",
    "\n",
    "# Specify file path for needs assessment data\n",
    "needs_assessment_fp = os.path.join(unsynced_path, \"processed_needs_assessments_05_11.geojson\") #update if needed\n",
    "\n",
    "# Import original village boundaries so that the correct CRS can be set\n",
    "village_boundaries_fp = os.path.join(synced_path, \"Rwanda Village Boundaries/Village.shp\")\n",
    "village_boundaries = gpd.read_file(village_boundaries_fp)\n",
    "\n",
    "# Read the needs assessment data into a geodataframe and set the CRS to that of the village boundaries file\n",
    "needs_assessment = gpd.read_file(needs_assessment_fp).set_crs(village_boundaries.crs, allow_override=True)\n",
    "print(needs_assessment.crs)"
   ]
  },
  {
   "cell_type": "code",
   "execution_count": 3,
   "id": "b0ecb1c0",
   "metadata": {},
   "outputs": [
    {
     "name": "stdout",
     "output_type": "stream",
     "text": [
      "PROJCS[\"TM_Rwanda\",GEOGCS[\"ITRF2005\",DATUM[\"International_Terrestrial_Reference_Frame_2005\",SPHEROID[\"GRS 1980\",6378137,298.257222101,AUTHORITY[\"EPSG\",\"7019\"]],AUTHORITY[\"EPSG\",\"6896\"]],PRIMEM[\"Greenwich\",0],UNIT[\"degree\",0.0174532925199433,AUTHORITY[\"EPSG\",\"9122\"]]],PROJECTION[\"Transverse_Mercator\"],PARAMETER[\"latitude_of_origin\",0],PARAMETER[\"central_meridian\",30],PARAMETER[\"scale_factor\",0.9999],PARAMETER[\"false_easting\",500000],PARAMETER[\"false_northing\",5000000],UNIT[\"metre\",1,AUTHORITY[\"EPSG\",\"9001\"]],AXIS[\"Easting\",EAST],AXIS[\"Northing\",NORTH]]\n"
     ]
    }
   ],
   "source": [
    "# Specify file path for Worldpop raster\n",
    "worldpop_fp = os.path.join(unsynced_path, \"reprojected_population_raster.tif\")\n",
    "\n",
    "# Print CRS of raster\n",
    "with rasterio.open(worldpop_fp) as src:\n",
    "    print(src.crs)"
   ]
  },
  {
   "cell_type": "markdown",
   "id": "b9df4f6c",
   "metadata": {},
   "source": [
    "Task 2: Conduct light cleaning of needs assessment data: remove communities with likely data entry errors (population counts of 0 or 1). Count number of repeated communities with & without conflicting population counts."
   ]
  },
  {
   "cell_type": "code",
   "execution_count": 4,
   "id": "cc9101b0",
   "metadata": {},
   "outputs": [
    {
     "name": "stdout",
     "output_type": "stream",
     "text": [
      "Prior to data cleaning:\n",
      "Number of communities with 0 individuals served: 57\n",
      "Number of communities with 1 individuals served: 8\n"
     ]
    }
   ],
   "source": [
    "# Get stats on likely number of data entry errors (0 or 1 in Individuals Served column)\n",
    "print(\"Prior to data cleaning:\")\n",
    "print(f'Number of communities with 0 individuals served: {needs_assessment[\"Individuals Served\"].value_counts().get(0, 0)}')\n",
    "print(f'Number of communities with 1 individuals served: {needs_assessment[\"Individuals Served\"].value_counts().get(1, 0)}')\n",
    "\n",
    "# Remove any rows with a count of 0 or 1 in the Individuals Served column\n",
    "needs_assessment = needs_assessment[~needs_assessment[\"Individuals Served\"].isin([0, 1])]"
   ]
  },
  {
   "cell_type": "code",
   "execution_count": 5,
   "id": "b5c6f687",
   "metadata": {},
   "outputs": [
    {
     "name": "stdout",
     "output_type": "stream",
     "text": [
      "After data cleaning:\n",
      "Number of repeated communities: 505\n",
      "Number of communities with conflicting population counts: 237\n"
     ]
    }
   ],
   "source": [
    "# Get stats on number of repeated communities (same admin 2, 3, and 5 values)\n",
    "repeated_communities_count = needs_assessment.groupby(['Admin 5', 'Admin 3', 'Admin 2']).size().reset_index(name='Count')\n",
    "repeated_communities = repeated_communities_count[repeated_communities_count['Count'] > 1]\n",
    "print(\"After data cleaning:\")\n",
    "print(f'Number of repeated communities: {len(repeated_communities)}')\n",
    "\n",
    "# Count the number of communities with conflicting population counts\n",
    "grouped = needs_assessment.groupby(['Admin 5', 'Admin 3', 'Admin 2'])\n",
    "conflicting_groups = grouped['Individuals Served'].nunique().reset_index()\n",
    "conflicting_groups = conflicting_groups[conflicting_groups['Individuals Served'] > 1]\n",
    "print(f'Number of communities with conflicting population counts: {conflicting_groups.shape[0]}')"
   ]
  },
  {
   "cell_type": "markdown",
   "id": "e14e17ad",
   "metadata": {},
   "source": [
    "Task 3: Extract Worldpop population estimates for communities in needs assessment gdf"
   ]
  },
  {
   "cell_type": "code",
   "execution_count": 6,
   "id": "70a72756",
   "metadata": {},
   "outputs": [
    {
     "name": "stdout",
     "output_type": "stream",
     "text": [
      "CRS: PROJCS[\"TM_Rwanda\",GEOGCS[\"ITRF2005\",DATUM[\"International_Terrestrial_Reference_Frame_2005\",SPHEROID[\"GRS 1980\",6378137,298.257222101,AUTHORITY[\"EPSG\",\"7019\"]],AUTHORITY[\"EPSG\",\"6896\"]],PRIMEM[\"Greenwich\",0],UNIT[\"degree\",0.0174532925199433,AUTHORITY[\"EPSG\",\"9122\"]]],PROJECTION[\"Transverse_Mercator\"],PARAMETER[\"latitude_of_origin\",0],PARAMETER[\"central_meridian\",30],PARAMETER[\"scale_factor\",0.9999],PARAMETER[\"false_easting\",500000],PARAMETER[\"false_northing\",5000000],UNIT[\"metre\",1,AUTHORITY[\"EPSG\",\"9001\"]],AXIS[\"Easting\",EAST],AXIS[\"Northing\",NORTH]]\n",
      "Raster shape: (2145, 2455)\n",
      "Number of Bands: 1\n"
     ]
    },
    {
     "data": {
      "text/html": [
       "<div>\n",
       "<style scoped>\n",
       "    .dataframe tbody tr th:only-of-type {\n",
       "        vertical-align: middle;\n",
       "    }\n",
       "\n",
       "    .dataframe tbody tr th {\n",
       "        vertical-align: top;\n",
       "    }\n",
       "\n",
       "    .dataframe thead th {\n",
       "        text-align: right;\n",
       "    }\n",
       "</style>\n",
       "<table border=\"1\" class=\"dataframe\">\n",
       "  <thead>\n",
       "    <tr style=\"text-align: right;\">\n",
       "      <th></th>\n",
       "      <th>Admin 2</th>\n",
       "      <th>Village_ID</th>\n",
       "      <th>Cell_ID</th>\n",
       "      <th>Sector_ID</th>\n",
       "      <th>Distr_ID</th>\n",
       "      <th>Prov_ID</th>\n",
       "      <th>Admin 5</th>\n",
       "      <th>Admin 4_x</th>\n",
       "      <th>Admin 3</th>\n",
       "      <th>Admin 1_x</th>\n",
       "      <th>...</th>\n",
       "      <th>Bridge Opportunity: Population Dataset URL</th>\n",
       "      <th>Bridge Opportunity: Population Estimate 2000m</th>\n",
       "      <th>Row ID</th>\n",
       "      <th>Community Column</th>\n",
       "      <th>Community Number</th>\n",
       "      <th>Bridge Opportunity: CaseSafeID_y</th>\n",
       "      <th>Individuals Served Column</th>\n",
       "      <th>Individuals Served</th>\n",
       "      <th>geometry</th>\n",
       "      <th>WorldPop_2020</th>\n",
       "    </tr>\n",
       "  </thead>\n",
       "  <tbody>\n",
       "    <tr>\n",
       "      <th>0</th>\n",
       "      <td>Nyarugenge</td>\n",
       "      <td>11010103</td>\n",
       "      <td>110101</td>\n",
       "      <td>1101</td>\n",
       "      <td>11</td>\n",
       "      <td>1</td>\n",
       "      <td>Iterambere</td>\n",
       "      <td>Akabahizi</td>\n",
       "      <td>Gitega</td>\n",
       "      <td>Kigali Town/Umujyi wa Kigali</td>\n",
       "      <td>...</td>\n",
       "      <td>http://www.worldpop.org.uk/data/summary?doi=10...</td>\n",
       "      <td>172079.0</td>\n",
       "      <td>1257.0</td>\n",
       "      <td>Community Served 1</td>\n",
       "      <td>1</td>\n",
       "      <td>006f100000eekXgAAI</td>\n",
       "      <td>Individuals served in Community 1</td>\n",
       "      <td>510.0</td>\n",
       "      <td>POLYGON Z ((505725.35 4785070.964 0, 505750.76...</td>\n",
       "      <td>2163.167236</td>\n",
       "    </tr>\n",
       "    <tr>\n",
       "      <th>1</th>\n",
       "      <td>Nyarugenge</td>\n",
       "      <td>11010106</td>\n",
       "      <td>110101</td>\n",
       "      <td>1101</td>\n",
       "      <td>11</td>\n",
       "      <td>1</td>\n",
       "      <td>Nyenyeri</td>\n",
       "      <td>Akabahizi</td>\n",
       "      <td>Gitega</td>\n",
       "      <td>Kigali Town/Umujyi wa Kigali</td>\n",
       "      <td>...</td>\n",
       "      <td>http://www.worldpop.org.uk/data/summary?doi=10...</td>\n",
       "      <td>172079.0</td>\n",
       "      <td>1257.0</td>\n",
       "      <td>Community Served 2</td>\n",
       "      <td>2</td>\n",
       "      <td>006f100000eekXgAAI</td>\n",
       "      <td>Individuals served in Community 2</td>\n",
       "      <td>652.0</td>\n",
       "      <td>POLYGON Z ((505779.445 4784753.818 0, 505787.7...</td>\n",
       "      <td>542.728760</td>\n",
       "    </tr>\n",
       "    <tr>\n",
       "      <th>2</th>\n",
       "      <td>Nyarugenge</td>\n",
       "      <td>11010107</td>\n",
       "      <td>110101</td>\n",
       "      <td>1101</td>\n",
       "      <td>11</td>\n",
       "      <td>1</td>\n",
       "      <td>Ubukorikori</td>\n",
       "      <td>Akabahizi</td>\n",
       "      <td>Gitega</td>\n",
       "      <td>Kigali Town/Umujyi wa Kigali</td>\n",
       "      <td>...</td>\n",
       "      <td>http://www.worldpop.org.uk/data/summary?doi=10...</td>\n",
       "      <td>190281.0</td>\n",
       "      <td>1253.0</td>\n",
       "      <td>Community Served 2</td>\n",
       "      <td>2</td>\n",
       "      <td>006f100000eekXCAAY</td>\n",
       "      <td>Individuals served in Community 2</td>\n",
       "      <td>523.0</td>\n",
       "      <td>POLYGON Z ((506104.903 4784756.585 0, 506114.0...</td>\n",
       "      <td>1370.246582</td>\n",
       "    </tr>\n",
       "    <tr>\n",
       "      <th>3</th>\n",
       "      <td>Nyarugenge</td>\n",
       "      <td>11010108</td>\n",
       "      <td>110101</td>\n",
       "      <td>1101</td>\n",
       "      <td>11</td>\n",
       "      <td>1</td>\n",
       "      <td>Ubumwe</td>\n",
       "      <td>Akabahizi</td>\n",
       "      <td>Gitega</td>\n",
       "      <td>Kigali Town/Umujyi wa Kigali</td>\n",
       "      <td>...</td>\n",
       "      <td>http://www.worldpop.org.uk/data/summary?doi=10...</td>\n",
       "      <td>193056.0</td>\n",
       "      <td>1250.0</td>\n",
       "      <td>Community Served 2</td>\n",
       "      <td>2</td>\n",
       "      <td>006f100000eekWsAAI</td>\n",
       "      <td>Individuals served in Community 2</td>\n",
       "      <td>523.0</td>\n",
       "      <td>POLYGON Z ((505371.715 4785311.959 0, 505376.9...</td>\n",
       "      <td>1419.238281</td>\n",
       "    </tr>\n",
       "    <tr>\n",
       "      <th>4</th>\n",
       "      <td>Nyarugenge</td>\n",
       "      <td>11010108</td>\n",
       "      <td>110101</td>\n",
       "      <td>1101</td>\n",
       "      <td>11</td>\n",
       "      <td>1</td>\n",
       "      <td>Ubumwe</td>\n",
       "      <td>Akabahizi</td>\n",
       "      <td>Gitega</td>\n",
       "      <td>Kigali Town/Umujyi wa Kigali</td>\n",
       "      <td>...</td>\n",
       "      <td>http://www.worldpop.org.uk/data/summary?doi=10...</td>\n",
       "      <td>207606.0</td>\n",
       "      <td>1252.0</td>\n",
       "      <td>Community Served 2</td>\n",
       "      <td>2</td>\n",
       "      <td>006f100000eekX7AAI</td>\n",
       "      <td>Individuals served in Community 2</td>\n",
       "      <td>524.0</td>\n",
       "      <td>POLYGON Z ((505371.715 4785311.959 0, 505376.9...</td>\n",
       "      <td>1419.238281</td>\n",
       "    </tr>\n",
       "  </tbody>\n",
       "</table>\n",
       "<p>5 rows × 37 columns</p>\n",
       "</div>"
      ],
      "text/plain": [
       "      Admin 2 Village_ID Cell_ID Sector_ID Distr_ID Prov_ID      Admin 5  \\\n",
       "0  Nyarugenge   11010103  110101      1101       11       1   Iterambere   \n",
       "1  Nyarugenge   11010106  110101      1101       11       1     Nyenyeri   \n",
       "2  Nyarugenge   11010107  110101      1101       11       1  Ubukorikori   \n",
       "3  Nyarugenge   11010108  110101      1101       11       1       Ubumwe   \n",
       "4  Nyarugenge   11010108  110101      1101       11       1       Ubumwe   \n",
       "\n",
       "   Admin 4_x Admin 3                     Admin 1_x  ...  \\\n",
       "0  Akabahizi  Gitega  Kigali Town/Umujyi wa Kigali  ...   \n",
       "1  Akabahizi  Gitega  Kigali Town/Umujyi wa Kigali  ...   \n",
       "2  Akabahizi  Gitega  Kigali Town/Umujyi wa Kigali  ...   \n",
       "3  Akabahizi  Gitega  Kigali Town/Umujyi wa Kigali  ...   \n",
       "4  Akabahizi  Gitega  Kigali Town/Umujyi wa Kigali  ...   \n",
       "\n",
       "          Bridge Opportunity: Population Dataset URL  \\\n",
       "0  http://www.worldpop.org.uk/data/summary?doi=10...   \n",
       "1  http://www.worldpop.org.uk/data/summary?doi=10...   \n",
       "2  http://www.worldpop.org.uk/data/summary?doi=10...   \n",
       "3  http://www.worldpop.org.uk/data/summary?doi=10...   \n",
       "4  http://www.worldpop.org.uk/data/summary?doi=10...   \n",
       "\n",
       "  Bridge Opportunity: Population Estimate 2000m  Row ID    Community Column  \\\n",
       "0                                      172079.0  1257.0  Community Served 1   \n",
       "1                                      172079.0  1257.0  Community Served 2   \n",
       "2                                      190281.0  1253.0  Community Served 2   \n",
       "3                                      193056.0  1250.0  Community Served 2   \n",
       "4                                      207606.0  1252.0  Community Served 2   \n",
       "\n",
       "  Community Number Bridge Opportunity: CaseSafeID_y  \\\n",
       "0                1               006f100000eekXgAAI   \n",
       "1                2               006f100000eekXgAAI   \n",
       "2                2               006f100000eekXCAAY   \n",
       "3                2               006f100000eekWsAAI   \n",
       "4                2               006f100000eekX7AAI   \n",
       "\n",
       "           Individuals Served Column Individuals Served  \\\n",
       "0  Individuals served in Community 1              510.0   \n",
       "1  Individuals served in Community 2              652.0   \n",
       "2  Individuals served in Community 2              523.0   \n",
       "3  Individuals served in Community 2              523.0   \n",
       "4  Individuals served in Community 2              524.0   \n",
       "\n",
       "                                            geometry WorldPop_2020  \n",
       "0  POLYGON Z ((505725.35 4785070.964 0, 505750.76...   2163.167236  \n",
       "1  POLYGON Z ((505779.445 4784753.818 0, 505787.7...    542.728760  \n",
       "2  POLYGON Z ((506104.903 4784756.585 0, 506114.0...   1370.246582  \n",
       "3  POLYGON Z ((505371.715 4785311.959 0, 505376.9...   1419.238281  \n",
       "4  POLYGON Z ((505371.715 4785311.959 0, 505376.9...   1419.238281  \n",
       "\n",
       "[5 rows x 37 columns]"
      ]
     },
     "execution_count": 6,
     "metadata": {},
     "output_type": "execute_result"
    }
   ],
   "source": [
    "# Use extract-pop function (from pop-estimates.ipynb) to extract population estimates from Worldpop\n",
    "# Note: In order to run successfully, both the needs assessment gdf and the Worldpop raster must be in the same CRS\n",
    "# In this case, as confirmed above, both are in a Rwanda-specific CRS\n",
    "\n",
    "def extract_pop(reprojected_pop_raster, population_raster_name, villages_near_bridges):\n",
    "    \n",
    "    # Copy input geodataframe to avoid modifying the original\n",
    "    villages_copy = villages_near_bridges.copy()\n",
    "    \n",
    "    with rasterio.open(reprojected_pop_raster) as src:\n",
    "        # Print information from raster profile\n",
    "        print(\"CRS:\", src.crs)\n",
    "        print(\"Raster shape:\", src.shape)\n",
    "        print(\"Number of Bands:\", src.count)\n",
    "\n",
    "        # Iterate over each village and extract population data\n",
    "        results = []\n",
    "        for idx, row in villages_copy.iterrows():\n",
    "            try:\n",
    "                out_image = mask(src, [row.geometry], crop=True)\n",
    "                out_image = out_image[0]\n",
    "\n",
    "                # Handle masked arrays and replace with 0\n",
    "                if np.ma.is_masked(out_image):\n",
    "                    out_image = out_image.filled(0)\n",
    "\n",
    "                # Remove negative values (e.g., nodata placeholders)\n",
    "                out_image = np.where(out_image < 0, 0, out_image)\n",
    "\n",
    "                total_population = np.sum(out_image)\n",
    "\n",
    "            except Exception as e:\n",
    "                print(f\"Error at village {idx}: {e}\")\n",
    "                total_population = 0  # or np.nan\n",
    "\n",
    "            results.append(total_population)\n",
    "\n",
    "        # Add population data to the gdf\n",
    "        villages_copy[population_raster_name] = results\n",
    "\n",
    "    return villages_copy\n",
    "\n",
    "needs_assessment_worldpop = extract_pop(reprojected_pop_raster=worldpop_fp, \n",
    "                                 population_raster_name=\"WorldPop_2020\",\n",
    "                                 villages_near_bridges=needs_assessment)\n",
    "\n",
    "needs_assessment_worldpop.head()\n",
    "#needs_assessment_worldpop.explore()"
   ]
  },
  {
   "cell_type": "markdown",
   "id": "cfe52c40",
   "metadata": {},
   "source": [
    "Task 4: Calculate statistics comparing needs assessment population counts to Worldpop population estimates"
   ]
  },
  {
   "cell_type": "code",
   "execution_count": 7,
   "id": "eefb7d6a",
   "metadata": {},
   "outputs": [
    {
     "name": "stdout",
     "output_type": "stream",
     "text": [
      "Mean difference: -9.379137604859224\n",
      "Median difference: 26.94000244140625\n",
      "Standard deviation of difference: 1145.2277378990052\n"
     ]
    }
   ],
   "source": [
    "# Create column to store difference between needs assessment and Worldpop counts\n",
    "# Difference = Needs assessment count - Worldpop count\n",
    "needs_assessment_worldpop[\"Difference\"] = needs_assessment_worldpop[\"Individuals Served\"] - needs_assessment_worldpop[\"WorldPop_2020\"]\n",
    "\n",
    "# Calculate mean and median of the difference\n",
    "mean_difference = needs_assessment_worldpop[\"Difference\"].mean()\n",
    "print(f\"Mean difference: {mean_difference}\")\n",
    "median_difference = needs_assessment_worldpop[\"Difference\"].median()\n",
    "print(f\"Median difference: {median_difference}\")\n",
    "\n",
    "# Calculate standard deviation of the difference\n",
    "std_dev_difference = needs_assessment_worldpop[\"Difference\"].std()\n",
    "print(f\"Standard deviation of difference: {std_dev_difference}\")"
   ]
  },
  {
   "cell_type": "code",
   "execution_count": 8,
   "id": "ed70bbd7",
   "metadata": {},
   "outputs": [
    {
     "name": "stdout",
     "output_type": "stream",
     "text": [
      "Number of communities with roughly matching population counts: 534\n",
      "Number of undercounted communities: 1176\n",
      "Number of overcounted communities: 1336\n"
     ]
    }
   ],
   "source": [
    "# Calculate number of communities with roughly matching population counts\n",
    "print(f\"Number of communities with roughly matching population counts: {(abs(needs_assessment_worldpop[\"Difference\"]) < 100).sum()}\")\n",
    "\n",
    "# Calculate number of undercounted communities (Worldpop count > Needs assessment count)\n",
    "print(f\"Number of undercounted communities: {(needs_assessment_worldpop[\"Difference\"] < 0).sum()}\")\n",
    "\n",
    "# Calculate number of overcounted communities (Needs assessment count > Worldpop count)\n",
    "print(f\"Number of overcounted communities: {(needs_assessment_worldpop[\"Difference\"] > 0).sum()}\")\n"
   ]
  },
  {
   "cell_type": "code",
   "execution_count": 9,
   "id": "9d8fd7ea",
   "metadata": {},
   "outputs": [
    {
     "data": {
      "image/png": "[encoded data removed]",
      "text/plain": [
       "<Figure size 640x480 with 1 Axes>"
      ]
     },
     "metadata": {},
     "output_type": "display_data"
    }
   ],
   "source": [
    "# Create histogram of difference\n",
    "plt.hist(needs_assessment_worldpop[\"Difference\"], bins=50)\n",
    "plt.show()"
   ]
  },
  {
   "cell_type": "code",
   "execution_count": 10,
   "id": "73765868",
   "metadata": {},
   "outputs": [],
   "source": [
    "# Create boxplot of difference\n",
    "#plt.boxplot(needs_assessment_worldpop[\"Difference\"])\n",
    "#plt.show()"
   ]
  },
  {
   "cell_type": "code",
   "execution_count": 11,
   "id": "4b1f78e6",
   "metadata": {},
   "outputs": [],
   "source": [
    "# Export needs-assessment-worldpop gdf as geojson\n",
    "needs_assessment_worldpop.to_file(os.path.join(unsynced_path, \"needs_assessment_worldpop_05_11.geojson\"), driver=\"GeoJSON\")"
   ]
  }
 ],
 "metadata": {
  "kernelspec": {
   "display_name": "bridges",
   "language": "python",
   "name": "python3"
  },
  "language_info": {
   "codemirror_mode": {
    "name": "ipython",
    "version": 3
   },
   "file_extension": ".py",
   "mimetype": "text/x-python",
   "name": "python",
   "nbconvert_exporter": "python",
   "pygments_lexer": "ipython3",
   "version": "3.13.2"
  }
 },
 "nbformat": 4,
 "nbformat_minor": 5
}
